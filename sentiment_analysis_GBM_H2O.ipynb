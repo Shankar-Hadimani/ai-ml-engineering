{
  "nbformat": 4,
  "nbformat_minor": 0,
  "metadata": {
    "colab": {
      "name": "sentiment-analysis-GBM-H2O.ipynb",
      "provenance": [],
      "authorship_tag": "ABX9TyNDtAszXEJ6E9TTPUxkv8wF",
      "include_colab_link": true
    },
    "kernelspec": {
      "name": "python3",
      "display_name": "Python 3"
    },
    "accelerator": "TPU",
    "widgets": {
      "application/vnd.jupyter.widget-state+json": {
        "d192625cc18649b4bb6987cf3599785c": {
          "model_module": "@jupyter-widgets/controls",
          "model_name": "HBoxModel",
          "state": {
            "_view_name": "HBoxView",
            "_dom_classes": [],
            "_model_name": "HBoxModel",
            "_view_module": "@jupyter-widgets/controls",
            "_model_module_version": "1.5.0",
            "_view_count": null,
            "_view_module_version": "1.5.0",
            "box_style": "",
            "layout": "IPY_MODEL_b382f83ed3144c528667de354bce4da3",
            "_model_module": "@jupyter-widgets/controls",
            "children": [
              "IPY_MODEL_57cc1c4e1ac44b1a8b53bf70a8b72d6c",
              "IPY_MODEL_0c709b1f8a874f8e8ca4a4e711ae371c"
            ]
          }
        },
        "b382f83ed3144c528667de354bce4da3": {
          "model_module": "@jupyter-widgets/base",
          "model_name": "LayoutModel",
          "state": {
            "_view_name": "LayoutView",
            "grid_template_rows": null,
            "right": null,
            "justify_content": null,
            "_view_module": "@jupyter-widgets/base",
            "overflow": null,
            "_model_module_version": "1.2.0",
            "_view_count": null,
            "flex_flow": null,
            "width": null,
            "min_width": null,
            "border": null,
            "align_items": null,
            "bottom": null,
            "_model_module": "@jupyter-widgets/base",
            "top": null,
            "grid_column": null,
            "overflow_y": null,
            "overflow_x": null,
            "grid_auto_flow": null,
            "grid_area": null,
            "grid_template_columns": null,
            "flex": null,
            "_model_name": "LayoutModel",
            "justify_items": null,
            "grid_row": null,
            "max_height": null,
            "align_content": null,
            "visibility": null,
            "align_self": null,
            "height": null,
            "min_height": null,
            "padding": null,
            "grid_auto_rows": null,
            "grid_gap": null,
            "max_width": null,
            "order": null,
            "_view_module_version": "1.2.0",
            "grid_template_areas": null,
            "object_position": null,
            "object_fit": null,
            "grid_auto_columns": null,
            "margin": null,
            "display": null,
            "left": null
          }
        },
        "57cc1c4e1ac44b1a8b53bf70a8b72d6c": {
          "model_module": "@jupyter-widgets/controls",
          "model_name": "FloatProgressModel",
          "state": {
            "_view_name": "ProgressView",
            "style": "IPY_MODEL_71658545bf2b4cb9969a192dcea8d43b",
            "_dom_classes": [],
            "description": "Dl Completed...: 100%",
            "_model_name": "FloatProgressModel",
            "bar_style": "success",
            "max": 1,
            "_view_module": "@jupyter-widgets/controls",
            "_model_module_version": "1.5.0",
            "value": 1,
            "_view_count": null,
            "_view_module_version": "1.5.0",
            "orientation": "horizontal",
            "min": 0,
            "description_tooltip": null,
            "_model_module": "@jupyter-widgets/controls",
            "layout": "IPY_MODEL_c52b74b7cdc049518fde306fc843dd4a"
          }
        },
        "0c709b1f8a874f8e8ca4a4e711ae371c": {
          "model_module": "@jupyter-widgets/controls",
          "model_name": "HTMLModel",
          "state": {
            "_view_name": "HTMLView",
            "style": "IPY_MODEL_ce650a3946bc43038df20242f5d11a2e",
            "_dom_classes": [],
            "description": "",
            "_model_name": "HTMLModel",
            "placeholder": "​",
            "_view_module": "@jupyter-widgets/controls",
            "_model_module_version": "1.5.0",
            "value": " 1/1 [00:01&lt;00:00,  1.47s/ url]",
            "_view_count": null,
            "_view_module_version": "1.5.0",
            "description_tooltip": null,
            "_model_module": "@jupyter-widgets/controls",
            "layout": "IPY_MODEL_e3c3557062cb4641840090ba0d615534"
          }
        },
        "71658545bf2b4cb9969a192dcea8d43b": {
          "model_module": "@jupyter-widgets/controls",
          "model_name": "ProgressStyleModel",
          "state": {
            "_view_name": "StyleView",
            "_model_name": "ProgressStyleModel",
            "description_width": "initial",
            "_view_module": "@jupyter-widgets/base",
            "_model_module_version": "1.5.0",
            "_view_count": null,
            "_view_module_version": "1.2.0",
            "bar_color": null,
            "_model_module": "@jupyter-widgets/controls"
          }
        },
        "c52b74b7cdc049518fde306fc843dd4a": {
          "model_module": "@jupyter-widgets/base",
          "model_name": "LayoutModel",
          "state": {
            "_view_name": "LayoutView",
            "grid_template_rows": null,
            "right": null,
            "justify_content": null,
            "_view_module": "@jupyter-widgets/base",
            "overflow": null,
            "_model_module_version": "1.2.0",
            "_view_count": null,
            "flex_flow": null,
            "width": null,
            "min_width": null,
            "border": null,
            "align_items": null,
            "bottom": null,
            "_model_module": "@jupyter-widgets/base",
            "top": null,
            "grid_column": null,
            "overflow_y": null,
            "overflow_x": null,
            "grid_auto_flow": null,
            "grid_area": null,
            "grid_template_columns": null,
            "flex": null,
            "_model_name": "LayoutModel",
            "justify_items": null,
            "grid_row": null,
            "max_height": null,
            "align_content": null,
            "visibility": null,
            "align_self": null,
            "height": null,
            "min_height": null,
            "padding": null,
            "grid_auto_rows": null,
            "grid_gap": null,
            "max_width": null,
            "order": null,
            "_view_module_version": "1.2.0",
            "grid_template_areas": null,
            "object_position": null,
            "object_fit": null,
            "grid_auto_columns": null,
            "margin": null,
            "display": null,
            "left": null
          }
        },
        "ce650a3946bc43038df20242f5d11a2e": {
          "model_module": "@jupyter-widgets/controls",
          "model_name": "DescriptionStyleModel",
          "state": {
            "_view_name": "StyleView",
            "_model_name": "DescriptionStyleModel",
            "description_width": "",
            "_view_module": "@jupyter-widgets/base",
            "_model_module_version": "1.5.0",
            "_view_count": null,
            "_view_module_version": "1.2.0",
            "_model_module": "@jupyter-widgets/controls"
          }
        },
        "e3c3557062cb4641840090ba0d615534": {
          "model_module": "@jupyter-widgets/base",
          "model_name": "LayoutModel",
          "state": {
            "_view_name": "LayoutView",
            "grid_template_rows": null,
            "right": null,
            "justify_content": null,
            "_view_module": "@jupyter-widgets/base",
            "overflow": null,
            "_model_module_version": "1.2.0",
            "_view_count": null,
            "flex_flow": null,
            "width": null,
            "min_width": null,
            "border": null,
            "align_items": null,
            "bottom": null,
            "_model_module": "@jupyter-widgets/base",
            "top": null,
            "grid_column": null,
            "overflow_y": null,
            "overflow_x": null,
            "grid_auto_flow": null,
            "grid_area": null,
            "grid_template_columns": null,
            "flex": null,
            "_model_name": "LayoutModel",
            "justify_items": null,
            "grid_row": null,
            "max_height": null,
            "align_content": null,
            "visibility": null,
            "align_self": null,
            "height": null,
            "min_height": null,
            "padding": null,
            "grid_auto_rows": null,
            "grid_gap": null,
            "max_width": null,
            "order": null,
            "_view_module_version": "1.2.0",
            "grid_template_areas": null,
            "object_position": null,
            "object_fit": null,
            "grid_auto_columns": null,
            "margin": null,
            "display": null,
            "left": null
          }
        },
        "780ab8e2ba16493f867995920eeafd27": {
          "model_module": "@jupyter-widgets/controls",
          "model_name": "HBoxModel",
          "state": {
            "_view_name": "HBoxView",
            "_dom_classes": [],
            "_model_name": "HBoxModel",
            "_view_module": "@jupyter-widgets/controls",
            "_model_module_version": "1.5.0",
            "_view_count": null,
            "_view_module_version": "1.5.0",
            "box_style": "",
            "layout": "IPY_MODEL_d3be233dbb4d48a69f94728fcf5c3dbe",
            "_model_module": "@jupyter-widgets/controls",
            "children": [
              "IPY_MODEL_63b8e682d06e40ad8d944fefb0964393",
              "IPY_MODEL_dcef399c121c4126a68408f150e0be6e"
            ]
          }
        },
        "d3be233dbb4d48a69f94728fcf5c3dbe": {
          "model_module": "@jupyter-widgets/base",
          "model_name": "LayoutModel",
          "state": {
            "_view_name": "LayoutView",
            "grid_template_rows": null,
            "right": null,
            "justify_content": null,
            "_view_module": "@jupyter-widgets/base",
            "overflow": null,
            "_model_module_version": "1.2.0",
            "_view_count": null,
            "flex_flow": null,
            "width": null,
            "min_width": null,
            "border": null,
            "align_items": null,
            "bottom": null,
            "_model_module": "@jupyter-widgets/base",
            "top": null,
            "grid_column": null,
            "overflow_y": null,
            "overflow_x": null,
            "grid_auto_flow": null,
            "grid_area": null,
            "grid_template_columns": null,
            "flex": null,
            "_model_name": "LayoutModel",
            "justify_items": null,
            "grid_row": null,
            "max_height": null,
            "align_content": null,
            "visibility": null,
            "align_self": null,
            "height": null,
            "min_height": null,
            "padding": null,
            "grid_auto_rows": null,
            "grid_gap": null,
            "max_width": null,
            "order": null,
            "_view_module_version": "1.2.0",
            "grid_template_areas": null,
            "object_position": null,
            "object_fit": null,
            "grid_auto_columns": null,
            "margin": null,
            "display": null,
            "left": null
          }
        },
        "63b8e682d06e40ad8d944fefb0964393": {
          "model_module": "@jupyter-widgets/controls",
          "model_name": "FloatProgressModel",
          "state": {
            "_view_name": "ProgressView",
            "style": "IPY_MODEL_4b496206b7a24ad1b8838edd1fdb1a5e",
            "_dom_classes": [],
            "description": "Dl Size...: 100%",
            "_model_name": "FloatProgressModel",
            "bar_style": "success",
            "max": 1,
            "_view_module": "@jupyter-widgets/controls",
            "_model_module_version": "1.5.0",
            "value": 1,
            "_view_count": null,
            "_view_module_version": "1.5.0",
            "orientation": "horizontal",
            "min": 0,
            "description_tooltip": null,
            "_model_module": "@jupyter-widgets/controls",
            "layout": "IPY_MODEL_035880d402d24a5ab3edc7876a3bf687"
          }
        },
        "dcef399c121c4126a68408f150e0be6e": {
          "model_module": "@jupyter-widgets/controls",
          "model_name": "HTMLModel",
          "state": {
            "_view_name": "HTMLView",
            "style": "IPY_MODEL_59f07560077e4f72bb0f733c12fa7b78",
            "_dom_classes": [],
            "description": "",
            "_model_name": "HTMLModel",
            "placeholder": "​",
            "_view_module": "@jupyter-widgets/controls",
            "_model_module_version": "1.5.0",
            "value": " 16/16 [00:01&lt;00:00, 11.22 MiB/s]",
            "_view_count": null,
            "_view_module_version": "1.5.0",
            "description_tooltip": null,
            "_model_module": "@jupyter-widgets/controls",
            "layout": "IPY_MODEL_57360f2d2b9a49ef82d973053ee1729a"
          }
        },
        "4b496206b7a24ad1b8838edd1fdb1a5e": {
          "model_module": "@jupyter-widgets/controls",
          "model_name": "ProgressStyleModel",
          "state": {
            "_view_name": "StyleView",
            "_model_name": "ProgressStyleModel",
            "description_width": "initial",
            "_view_module": "@jupyter-widgets/base",
            "_model_module_version": "1.5.0",
            "_view_count": null,
            "_view_module_version": "1.2.0",
            "bar_color": null,
            "_model_module": "@jupyter-widgets/controls"
          }
        },
        "035880d402d24a5ab3edc7876a3bf687": {
          "model_module": "@jupyter-widgets/base",
          "model_name": "LayoutModel",
          "state": {
            "_view_name": "LayoutView",
            "grid_template_rows": null,
            "right": null,
            "justify_content": null,
            "_view_module": "@jupyter-widgets/base",
            "overflow": null,
            "_model_module_version": "1.2.0",
            "_view_count": null,
            "flex_flow": null,
            "width": null,
            "min_width": null,
            "border": null,
            "align_items": null,
            "bottom": null,
            "_model_module": "@jupyter-widgets/base",
            "top": null,
            "grid_column": null,
            "overflow_y": null,
            "overflow_x": null,
            "grid_auto_flow": null,
            "grid_area": null,
            "grid_template_columns": null,
            "flex": null,
            "_model_name": "LayoutModel",
            "justify_items": null,
            "grid_row": null,
            "max_height": null,
            "align_content": null,
            "visibility": null,
            "align_self": null,
            "height": null,
            "min_height": null,
            "padding": null,
            "grid_auto_rows": null,
            "grid_gap": null,
            "max_width": null,
            "order": null,
            "_view_module_version": "1.2.0",
            "grid_template_areas": null,
            "object_position": null,
            "object_fit": null,
            "grid_auto_columns": null,
            "margin": null,
            "display": null,
            "left": null
          }
        },
        "59f07560077e4f72bb0f733c12fa7b78": {
          "model_module": "@jupyter-widgets/controls",
          "model_name": "DescriptionStyleModel",
          "state": {
            "_view_name": "StyleView",
            "_model_name": "DescriptionStyleModel",
            "description_width": "",
            "_view_module": "@jupyter-widgets/base",
            "_model_module_version": "1.5.0",
            "_view_count": null,
            "_view_module_version": "1.2.0",
            "_model_module": "@jupyter-widgets/controls"
          }
        },
        "57360f2d2b9a49ef82d973053ee1729a": {
          "model_module": "@jupyter-widgets/base",
          "model_name": "LayoutModel",
          "state": {
            "_view_name": "LayoutView",
            "grid_template_rows": null,
            "right": null,
            "justify_content": null,
            "_view_module": "@jupyter-widgets/base",
            "overflow": null,
            "_model_module_version": "1.2.0",
            "_view_count": null,
            "flex_flow": null,
            "width": null,
            "min_width": null,
            "border": null,
            "align_items": null,
            "bottom": null,
            "_model_module": "@jupyter-widgets/base",
            "top": null,
            "grid_column": null,
            "overflow_y": null,
            "overflow_x": null,
            "grid_auto_flow": null,
            "grid_area": null,
            "grid_template_columns": null,
            "flex": null,
            "_model_name": "LayoutModel",
            "justify_items": null,
            "grid_row": null,
            "max_height": null,
            "align_content": null,
            "visibility": null,
            "align_self": null,
            "height": null,
            "min_height": null,
            "padding": null,
            "grid_auto_rows": null,
            "grid_gap": null,
            "max_width": null,
            "order": null,
            "_view_module_version": "1.2.0",
            "grid_template_areas": null,
            "object_position": null,
            "object_fit": null,
            "grid_auto_columns": null,
            "margin": null,
            "display": null,
            "left": null
          }
        },
        "e26bdae20b294605a79725410bbe0922": {
          "model_module": "@jupyter-widgets/controls",
          "model_name": "HBoxModel",
          "state": {
            "_view_name": "HBoxView",
            "_dom_classes": [],
            "_model_name": "HBoxModel",
            "_view_module": "@jupyter-widgets/controls",
            "_model_module_version": "1.5.0",
            "_view_count": null,
            "_view_module_version": "1.5.0",
            "box_style": "",
            "layout": "IPY_MODEL_13241a6fab89435f87425959414239b7",
            "_model_module": "@jupyter-widgets/controls",
            "children": [
              "IPY_MODEL_e323ac169b634b0489c5a789199456c9",
              "IPY_MODEL_7f5ca2bf72e449609b46a68119a2474f"
            ]
          }
        },
        "13241a6fab89435f87425959414239b7": {
          "model_module": "@jupyter-widgets/base",
          "model_name": "LayoutModel",
          "state": {
            "_view_name": "LayoutView",
            "grid_template_rows": null,
            "right": null,
            "justify_content": null,
            "_view_module": "@jupyter-widgets/base",
            "overflow": null,
            "_model_module_version": "1.2.0",
            "_view_count": null,
            "flex_flow": null,
            "width": null,
            "min_width": null,
            "border": null,
            "align_items": null,
            "bottom": null,
            "_model_module": "@jupyter-widgets/base",
            "top": null,
            "grid_column": null,
            "overflow_y": null,
            "overflow_x": null,
            "grid_auto_flow": null,
            "grid_area": null,
            "grid_template_columns": null,
            "flex": null,
            "_model_name": "LayoutModel",
            "justify_items": null,
            "grid_row": null,
            "max_height": null,
            "align_content": null,
            "visibility": null,
            "align_self": null,
            "height": null,
            "min_height": null,
            "padding": null,
            "grid_auto_rows": null,
            "grid_gap": null,
            "max_width": null,
            "order": null,
            "_view_module_version": "1.2.0",
            "grid_template_areas": null,
            "object_position": null,
            "object_fit": null,
            "grid_auto_columns": null,
            "margin": null,
            "display": null,
            "left": null
          }
        },
        "e323ac169b634b0489c5a789199456c9": {
          "model_module": "@jupyter-widgets/controls",
          "model_name": "FloatProgressModel",
          "state": {
            "_view_name": "ProgressView",
            "style": "IPY_MODEL_8049c883a2a14598abc42f26ef372ddd",
            "_dom_classes": [],
            "description": "Extraction completed...: 100%",
            "_model_name": "FloatProgressModel",
            "bar_style": "success",
            "max": 1,
            "_view_module": "@jupyter-widgets/controls",
            "_model_module_version": "1.5.0",
            "value": 1,
            "_view_count": null,
            "_view_module_version": "1.5.0",
            "orientation": "horizontal",
            "min": 0,
            "description_tooltip": null,
            "_model_module": "@jupyter-widgets/controls",
            "layout": "IPY_MODEL_09dac60d49ad401fa009b7bb456efd92"
          }
        },
        "7f5ca2bf72e449609b46a68119a2474f": {
          "model_module": "@jupyter-widgets/controls",
          "model_name": "HTMLModel",
          "state": {
            "_view_name": "HTMLView",
            "style": "IPY_MODEL_e14e95452d584ba8ba60a7eb12d0629a",
            "_dom_classes": [],
            "description": "",
            "_model_name": "HTMLModel",
            "placeholder": "​",
            "_view_module": "@jupyter-widgets/controls",
            "_model_module_version": "1.5.0",
            "value": " 1/1 [00:01&lt;00:00,  1.37s/ file]",
            "_view_count": null,
            "_view_module_version": "1.5.0",
            "description_tooltip": null,
            "_model_module": "@jupyter-widgets/controls",
            "layout": "IPY_MODEL_f7f801b188c04716bfab6a9f625f717c"
          }
        },
        "8049c883a2a14598abc42f26ef372ddd": {
          "model_module": "@jupyter-widgets/controls",
          "model_name": "ProgressStyleModel",
          "state": {
            "_view_name": "StyleView",
            "_model_name": "ProgressStyleModel",
            "description_width": "initial",
            "_view_module": "@jupyter-widgets/base",
            "_model_module_version": "1.5.0",
            "_view_count": null,
            "_view_module_version": "1.2.0",
            "bar_color": null,
            "_model_module": "@jupyter-widgets/controls"
          }
        },
        "09dac60d49ad401fa009b7bb456efd92": {
          "model_module": "@jupyter-widgets/base",
          "model_name": "LayoutModel",
          "state": {
            "_view_name": "LayoutView",
            "grid_template_rows": null,
            "right": null,
            "justify_content": null,
            "_view_module": "@jupyter-widgets/base",
            "overflow": null,
            "_model_module_version": "1.2.0",
            "_view_count": null,
            "flex_flow": null,
            "width": null,
            "min_width": null,
            "border": null,
            "align_items": null,
            "bottom": null,
            "_model_module": "@jupyter-widgets/base",
            "top": null,
            "grid_column": null,
            "overflow_y": null,
            "overflow_x": null,
            "grid_auto_flow": null,
            "grid_area": null,
            "grid_template_columns": null,
            "flex": null,
            "_model_name": "LayoutModel",
            "justify_items": null,
            "grid_row": null,
            "max_height": null,
            "align_content": null,
            "visibility": null,
            "align_self": null,
            "height": null,
            "min_height": null,
            "padding": null,
            "grid_auto_rows": null,
            "grid_gap": null,
            "max_width": null,
            "order": null,
            "_view_module_version": "1.2.0",
            "grid_template_areas": null,
            "object_position": null,
            "object_fit": null,
            "grid_auto_columns": null,
            "margin": null,
            "display": null,
            "left": null
          }
        },
        "e14e95452d584ba8ba60a7eb12d0629a": {
          "model_module": "@jupyter-widgets/controls",
          "model_name": "DescriptionStyleModel",
          "state": {
            "_view_name": "StyleView",
            "_model_name": "DescriptionStyleModel",
            "description_width": "",
            "_view_module": "@jupyter-widgets/base",
            "_model_module_version": "1.5.0",
            "_view_count": null,
            "_view_module_version": "1.2.0",
            "_model_module": "@jupyter-widgets/controls"
          }
        },
        "f7f801b188c04716bfab6a9f625f717c": {
          "model_module": "@jupyter-widgets/base",
          "model_name": "LayoutModel",
          "state": {
            "_view_name": "LayoutView",
            "grid_template_rows": null,
            "right": null,
            "justify_content": null,
            "_view_module": "@jupyter-widgets/base",
            "overflow": null,
            "_model_module_version": "1.2.0",
            "_view_count": null,
            "flex_flow": null,
            "width": null,
            "min_width": null,
            "border": null,
            "align_items": null,
            "bottom": null,
            "_model_module": "@jupyter-widgets/base",
            "top": null,
            "grid_column": null,
            "overflow_y": null,
            "overflow_x": null,
            "grid_auto_flow": null,
            "grid_area": null,
            "grid_template_columns": null,
            "flex": null,
            "_model_name": "LayoutModel",
            "justify_items": null,
            "grid_row": null,
            "max_height": null,
            "align_content": null,
            "visibility": null,
            "align_self": null,
            "height": null,
            "min_height": null,
            "padding": null,
            "grid_auto_rows": null,
            "grid_gap": null,
            "max_width": null,
            "order": null,
            "_view_module_version": "1.2.0",
            "grid_template_areas": null,
            "object_position": null,
            "object_fit": null,
            "grid_auto_columns": null,
            "margin": null,
            "display": null,
            "left": null
          }
        },
        "fee5642a8dc54081a3cbcd5f6ff057d3": {
          "model_module": "@jupyter-widgets/controls",
          "model_name": "HBoxModel",
          "state": {
            "_view_name": "HBoxView",
            "_dom_classes": [],
            "_model_name": "HBoxModel",
            "_view_module": "@jupyter-widgets/controls",
            "_model_module_version": "1.5.0",
            "_view_count": null,
            "_view_module_version": "1.5.0",
            "box_style": "",
            "layout": "IPY_MODEL_ca208318746c4346b2a01d6929d87155",
            "_model_module": "@jupyter-widgets/controls",
            "children": [
              "IPY_MODEL_8dbc4a9ca64a4314a738695450bd03b0",
              "IPY_MODEL_f03439af21c145868ec5c1cde1190a12"
            ]
          }
        },
        "ca208318746c4346b2a01d6929d87155": {
          "model_module": "@jupyter-widgets/base",
          "model_name": "LayoutModel",
          "state": {
            "_view_name": "LayoutView",
            "grid_template_rows": null,
            "right": null,
            "justify_content": null,
            "_view_module": "@jupyter-widgets/base",
            "overflow": null,
            "_model_module_version": "1.2.0",
            "_view_count": null,
            "flex_flow": null,
            "width": null,
            "min_width": null,
            "border": null,
            "align_items": null,
            "bottom": null,
            "_model_module": "@jupyter-widgets/base",
            "top": null,
            "grid_column": null,
            "overflow_y": null,
            "overflow_x": null,
            "grid_auto_flow": null,
            "grid_area": null,
            "grid_template_columns": null,
            "flex": null,
            "_model_name": "LayoutModel",
            "justify_items": null,
            "grid_row": null,
            "max_height": null,
            "align_content": null,
            "visibility": null,
            "align_self": null,
            "height": null,
            "min_height": null,
            "padding": null,
            "grid_auto_rows": null,
            "grid_gap": null,
            "max_width": null,
            "order": null,
            "_view_module_version": "1.2.0",
            "grid_template_areas": null,
            "object_position": null,
            "object_fit": null,
            "grid_auto_columns": null,
            "margin": null,
            "display": null,
            "left": null
          }
        },
        "8dbc4a9ca64a4314a738695450bd03b0": {
          "model_module": "@jupyter-widgets/controls",
          "model_name": "FloatProgressModel",
          "state": {
            "_view_name": "ProgressView",
            "style": "IPY_MODEL_305d1476cf2343bdbfc54f0953a297c6",
            "_dom_classes": [],
            "description": "",
            "_model_name": "FloatProgressModel",
            "bar_style": "info",
            "max": 1,
            "_view_module": "@jupyter-widgets/controls",
            "_model_module_version": "1.5.0",
            "value": 1,
            "_view_count": null,
            "_view_module_version": "1.5.0",
            "orientation": "horizontal",
            "min": 0,
            "description_tooltip": null,
            "_model_module": "@jupyter-widgets/controls",
            "layout": "IPY_MODEL_46b931f9bef7455a9e988b56ec74c76c"
          }
        },
        "f03439af21c145868ec5c1cde1190a12": {
          "model_module": "@jupyter-widgets/controls",
          "model_name": "HTMLModel",
          "state": {
            "_view_name": "HTMLView",
            "style": "IPY_MODEL_15b9738b9a6943ad9b21f56f66fb8921",
            "_dom_classes": [],
            "description": "",
            "_model_name": "HTMLModel",
            "placeholder": "​",
            "_view_module": "@jupyter-widgets/controls",
            "_model_module_version": "1.5.0",
            "value": " 85981/0 [02:50&lt;00:00, 397.41 examples/s]",
            "_view_count": null,
            "_view_module_version": "1.5.0",
            "description_tooltip": null,
            "_model_module": "@jupyter-widgets/controls",
            "layout": "IPY_MODEL_88ddfa4f03974ed3bcc54650ae43f95a"
          }
        },
        "305d1476cf2343bdbfc54f0953a297c6": {
          "model_module": "@jupyter-widgets/controls",
          "model_name": "ProgressStyleModel",
          "state": {
            "_view_name": "StyleView",
            "_model_name": "ProgressStyleModel",
            "description_width": "initial",
            "_view_module": "@jupyter-widgets/base",
            "_model_module_version": "1.5.0",
            "_view_count": null,
            "_view_module_version": "1.2.0",
            "bar_color": null,
            "_model_module": "@jupyter-widgets/controls"
          }
        },
        "46b931f9bef7455a9e988b56ec74c76c": {
          "model_module": "@jupyter-widgets/base",
          "model_name": "LayoutModel",
          "state": {
            "_view_name": "LayoutView",
            "grid_template_rows": null,
            "right": null,
            "justify_content": null,
            "_view_module": "@jupyter-widgets/base",
            "overflow": null,
            "_model_module_version": "1.2.0",
            "_view_count": null,
            "flex_flow": null,
            "width": null,
            "min_width": null,
            "border": null,
            "align_items": null,
            "bottom": null,
            "_model_module": "@jupyter-widgets/base",
            "top": null,
            "grid_column": null,
            "overflow_y": null,
            "overflow_x": null,
            "grid_auto_flow": null,
            "grid_area": null,
            "grid_template_columns": null,
            "flex": null,
            "_model_name": "LayoutModel",
            "justify_items": null,
            "grid_row": null,
            "max_height": null,
            "align_content": null,
            "visibility": null,
            "align_self": null,
            "height": null,
            "min_height": null,
            "padding": null,
            "grid_auto_rows": null,
            "grid_gap": null,
            "max_width": null,
            "order": null,
            "_view_module_version": "1.2.0",
            "grid_template_areas": null,
            "object_position": null,
            "object_fit": null,
            "grid_auto_columns": null,
            "margin": null,
            "display": null,
            "left": null
          }
        },
        "15b9738b9a6943ad9b21f56f66fb8921": {
          "model_module": "@jupyter-widgets/controls",
          "model_name": "DescriptionStyleModel",
          "state": {
            "_view_name": "StyleView",
            "_model_name": "DescriptionStyleModel",
            "description_width": "",
            "_view_module": "@jupyter-widgets/base",
            "_model_module_version": "1.5.0",
            "_view_count": null,
            "_view_module_version": "1.2.0",
            "_model_module": "@jupyter-widgets/controls"
          }
        },
        "88ddfa4f03974ed3bcc54650ae43f95a": {
          "model_module": "@jupyter-widgets/base",
          "model_name": "LayoutModel",
          "state": {
            "_view_name": "LayoutView",
            "grid_template_rows": null,
            "right": null,
            "justify_content": null,
            "_view_module": "@jupyter-widgets/base",
            "overflow": null,
            "_model_module_version": "1.2.0",
            "_view_count": null,
            "flex_flow": null,
            "width": null,
            "min_width": null,
            "border": null,
            "align_items": null,
            "bottom": null,
            "_model_module": "@jupyter-widgets/base",
            "top": null,
            "grid_column": null,
            "overflow_y": null,
            "overflow_x": null,
            "grid_auto_flow": null,
            "grid_area": null,
            "grid_template_columns": null,
            "flex": null,
            "_model_name": "LayoutModel",
            "justify_items": null,
            "grid_row": null,
            "max_height": null,
            "align_content": null,
            "visibility": null,
            "align_self": null,
            "height": null,
            "min_height": null,
            "padding": null,
            "grid_auto_rows": null,
            "grid_gap": null,
            "max_width": null,
            "order": null,
            "_view_module_version": "1.2.0",
            "grid_template_areas": null,
            "object_position": null,
            "object_fit": null,
            "grid_auto_columns": null,
            "margin": null,
            "display": null,
            "left": null
          }
        },
        "999aaf0471a34aa38e8fd9722ba5ca1c": {
          "model_module": "@jupyter-widgets/controls",
          "model_name": "HBoxModel",
          "state": {
            "_view_name": "HBoxView",
            "_dom_classes": [],
            "_model_name": "HBoxModel",
            "_view_module": "@jupyter-widgets/controls",
            "_model_module_version": "1.5.0",
            "_view_count": null,
            "_view_module_version": "1.5.0",
            "box_style": "",
            "layout": "IPY_MODEL_ebe7c10207734e83a9d3cee659d14aab",
            "_model_module": "@jupyter-widgets/controls",
            "children": [
              "IPY_MODEL_c75e8265e7b94842ae745990d464a509",
              "IPY_MODEL_f50551480284424eb73734cc31b11dc5"
            ]
          }
        },
        "ebe7c10207734e83a9d3cee659d14aab": {
          "model_module": "@jupyter-widgets/base",
          "model_name": "LayoutModel",
          "state": {
            "_view_name": "LayoutView",
            "grid_template_rows": null,
            "right": null,
            "justify_content": null,
            "_view_module": "@jupyter-widgets/base",
            "overflow": null,
            "_model_module_version": "1.2.0",
            "_view_count": null,
            "flex_flow": null,
            "width": null,
            "min_width": null,
            "border": null,
            "align_items": null,
            "bottom": null,
            "_model_module": "@jupyter-widgets/base",
            "top": null,
            "grid_column": null,
            "overflow_y": null,
            "overflow_x": null,
            "grid_auto_flow": null,
            "grid_area": null,
            "grid_template_columns": null,
            "flex": null,
            "_model_name": "LayoutModel",
            "justify_items": null,
            "grid_row": null,
            "max_height": null,
            "align_content": null,
            "visibility": null,
            "align_self": null,
            "height": null,
            "min_height": null,
            "padding": null,
            "grid_auto_rows": null,
            "grid_gap": null,
            "max_width": null,
            "order": null,
            "_view_module_version": "1.2.0",
            "grid_template_areas": null,
            "object_position": null,
            "object_fit": null,
            "grid_auto_columns": null,
            "margin": null,
            "display": null,
            "left": null
          }
        },
        "c75e8265e7b94842ae745990d464a509": {
          "model_module": "@jupyter-widgets/controls",
          "model_name": "FloatProgressModel",
          "state": {
            "_view_name": "ProgressView",
            "style": "IPY_MODEL_e3f75fbb5e4f494ebafa201678d8b87c",
            "_dom_classes": [],
            "description": " 91%",
            "_model_name": "FloatProgressModel",
            "bar_style": "danger",
            "max": 85981,
            "_view_module": "@jupyter-widgets/controls",
            "_model_module_version": "1.5.0",
            "value": 77859,
            "_view_count": null,
            "_view_module_version": "1.5.0",
            "orientation": "horizontal",
            "min": 0,
            "description_tooltip": null,
            "_model_module": "@jupyter-widgets/controls",
            "layout": "IPY_MODEL_1f7c30ed756547fcb66abaf885d39cd2"
          }
        },
        "f50551480284424eb73734cc31b11dc5": {
          "model_module": "@jupyter-widgets/controls",
          "model_name": "HTMLModel",
          "state": {
            "_view_name": "HTMLView",
            "style": "IPY_MODEL_c7a176bca9d84970bfbb493228f49dd4",
            "_dom_classes": [],
            "description": "",
            "_model_name": "HTMLModel",
            "placeholder": "​",
            "_view_module": "@jupyter-widgets/controls",
            "_model_module_version": "1.5.0",
            "value": " 77859/85981 [00:01&lt;04:14, 31.98 examples/s]",
            "_view_count": null,
            "_view_module_version": "1.5.0",
            "description_tooltip": null,
            "_model_module": "@jupyter-widgets/controls",
            "layout": "IPY_MODEL_2839de304144437197d94fec2ac3a243"
          }
        },
        "e3f75fbb5e4f494ebafa201678d8b87c": {
          "model_module": "@jupyter-widgets/controls",
          "model_name": "ProgressStyleModel",
          "state": {
            "_view_name": "StyleView",
            "_model_name": "ProgressStyleModel",
            "description_width": "initial",
            "_view_module": "@jupyter-widgets/base",
            "_model_module_version": "1.5.0",
            "_view_count": null,
            "_view_module_version": "1.2.0",
            "bar_color": null,
            "_model_module": "@jupyter-widgets/controls"
          }
        },
        "1f7c30ed756547fcb66abaf885d39cd2": {
          "model_module": "@jupyter-widgets/base",
          "model_name": "LayoutModel",
          "state": {
            "_view_name": "LayoutView",
            "grid_template_rows": null,
            "right": null,
            "justify_content": null,
            "_view_module": "@jupyter-widgets/base",
            "overflow": null,
            "_model_module_version": "1.2.0",
            "_view_count": null,
            "flex_flow": null,
            "width": null,
            "min_width": null,
            "border": null,
            "align_items": null,
            "bottom": null,
            "_model_module": "@jupyter-widgets/base",
            "top": null,
            "grid_column": null,
            "overflow_y": null,
            "overflow_x": null,
            "grid_auto_flow": null,
            "grid_area": null,
            "grid_template_columns": null,
            "flex": null,
            "_model_name": "LayoutModel",
            "justify_items": null,
            "grid_row": null,
            "max_height": null,
            "align_content": null,
            "visibility": null,
            "align_self": null,
            "height": null,
            "min_height": null,
            "padding": null,
            "grid_auto_rows": null,
            "grid_gap": null,
            "max_width": null,
            "order": null,
            "_view_module_version": "1.2.0",
            "grid_template_areas": null,
            "object_position": null,
            "object_fit": null,
            "grid_auto_columns": null,
            "margin": null,
            "display": null,
            "left": null
          }
        },
        "c7a176bca9d84970bfbb493228f49dd4": {
          "model_module": "@jupyter-widgets/controls",
          "model_name": "DescriptionStyleModel",
          "state": {
            "_view_name": "StyleView",
            "_model_name": "DescriptionStyleModel",
            "description_width": "",
            "_view_module": "@jupyter-widgets/base",
            "_model_module_version": "1.5.0",
            "_view_count": null,
            "_view_module_version": "1.2.0",
            "_model_module": "@jupyter-widgets/controls"
          }
        },
        "2839de304144437197d94fec2ac3a243": {
          "model_module": "@jupyter-widgets/base",
          "model_name": "LayoutModel",
          "state": {
            "_view_name": "LayoutView",
            "grid_template_rows": null,
            "right": null,
            "justify_content": null,
            "_view_module": "@jupyter-widgets/base",
            "overflow": null,
            "_model_module_version": "1.2.0",
            "_view_count": null,
            "flex_flow": null,
            "width": null,
            "min_width": null,
            "border": null,
            "align_items": null,
            "bottom": null,
            "_model_module": "@jupyter-widgets/base",
            "top": null,
            "grid_column": null,
            "overflow_y": null,
            "overflow_x": null,
            "grid_auto_flow": null,
            "grid_area": null,
            "grid_template_columns": null,
            "flex": null,
            "_model_name": "LayoutModel",
            "justify_items": null,
            "grid_row": null,
            "max_height": null,
            "align_content": null,
            "visibility": null,
            "align_self": null,
            "height": null,
            "min_height": null,
            "padding": null,
            "grid_auto_rows": null,
            "grid_gap": null,
            "max_width": null,
            "order": null,
            "_view_module_version": "1.2.0",
            "grid_template_areas": null,
            "object_position": null,
            "object_fit": null,
            "grid_auto_columns": null,
            "margin": null,
            "display": null,
            "left": null
          }
        }
      }
    }
  },
  "cells": [
    {
      "cell_type": "markdown",
      "metadata": {
        "id": "view-in-github",
        "colab_type": "text"
      },
      "source": [
        "<a href=\"https://colab.research.google.com/github/Shankar-Hadimani/ai-ml-engineering/blob/master/sentiment_analysis_GBM_H2O.ipynb\" target=\"_parent\"><img src=\"https://colab.research.google.com/assets/colab-badge.svg\" alt=\"Open In Colab\"/></a>"
      ]
    },
    {
      "cell_type": "code",
      "metadata": {
        "id": "GInkFqwsH2g5",
        "outputId": "c82a6f26-2b75-4368-f1da-eb7391f441cb",
        "colab": {
          "base_uri": "https://localhost:8080/"
        }
      },
      "source": [
        "!apt-get install default-jre\n",
        "!java -version"
      ],
      "execution_count": 1,
      "outputs": [
        {
          "output_type": "stream",
          "text": [
            "Reading package lists... Done\n",
            "Building dependency tree       \n",
            "Reading state information... Done\n",
            "default-jre is already the newest version (2:1.11-68ubuntu1~18.04.1).\n",
            "default-jre set to manually installed.\n",
            "0 upgraded, 0 newly installed, 0 to remove and 12 not upgraded.\n",
            "openjdk version \"11.0.9\" 2020-10-20\n",
            "OpenJDK Runtime Environment (build 11.0.9+11-Ubuntu-0ubuntu1.18.04.1)\n",
            "OpenJDK 64-Bit Server VM (build 11.0.9+11-Ubuntu-0ubuntu1.18.04.1, mixed mode, sharing)\n"
          ],
          "name": "stdout"
        }
      ]
    },
    {
      "cell_type": "code",
      "metadata": {
        "id": "48nVsyd4INlz",
        "outputId": "ca6df521-67a9-4e65-ca11-19f626c7d0b6",
        "colab": {
          "base_uri": "https://localhost:8080/"
        }
      },
      "source": [
        "!pip install h2o==3.30.0.1"
      ],
      "execution_count": 2,
      "outputs": [
        {
          "output_type": "stream",
          "text": [
            "Collecting h2o==3.30.0.1\n",
            "\u001b[?25l  Downloading https://files.pythonhosted.org/packages/96/b2/b6f5e8c7fd1efe0f6d2640b34164b10b0e28231b89cc06542a6b3a3903a0/h2o-3.30.0.1.tar.gz (129.5MB)\n",
            "\u001b[K     |████████████████████████████████| 129.5MB 72kB/s \n",
            "\u001b[?25hRequirement already satisfied: requests in /usr/local/lib/python3.6/dist-packages (from h2o==3.30.0.1) (2.23.0)\n",
            "Requirement already satisfied: tabulate in /usr/local/lib/python3.6/dist-packages (from h2o==3.30.0.1) (0.8.7)\n",
            "Requirement already satisfied: future in /usr/local/lib/python3.6/dist-packages (from h2o==3.30.0.1) (0.16.0)\n",
            "Collecting colorama>=0.3.8\n",
            "  Downloading https://files.pythonhosted.org/packages/44/98/5b86278fbbf250d239ae0ecb724f8572af1c91f4a11edf4d36a206189440/colorama-0.4.4-py2.py3-none-any.whl\n",
            "Requirement already satisfied: certifi>=2017.4.17 in /usr/local/lib/python3.6/dist-packages (from requests->h2o==3.30.0.1) (2020.6.20)\n",
            "Requirement already satisfied: chardet<4,>=3.0.2 in /usr/local/lib/python3.6/dist-packages (from requests->h2o==3.30.0.1) (3.0.4)\n",
            "Requirement already satisfied: urllib3!=1.25.0,!=1.25.1,<1.26,>=1.21.1 in /usr/local/lib/python3.6/dist-packages (from requests->h2o==3.30.0.1) (1.24.3)\n",
            "Requirement already satisfied: idna<3,>=2.5 in /usr/local/lib/python3.6/dist-packages (from requests->h2o==3.30.0.1) (2.10)\n",
            "Building wheels for collected packages: h2o\n",
            "  Building wheel for h2o (setup.py) ... \u001b[?25l\u001b[?25hdone\n",
            "  Created wheel for h2o: filename=h2o-3.30.0.1-py2.py3-none-any.whl size=129557718 sha256=f4fd23ae6c911482f8afefd7b03ec1b7f0282f8e3ddd59dd1d75559d5634e26b\n",
            "  Stored in directory: /root/.cache/pip/wheels/db/42/63/d118d7218432054da842f5d10bd4f99e978bde0931164e6c7a\n",
            "Successfully built h2o\n",
            "Installing collected packages: colorama, h2o\n",
            "Successfully installed colorama-0.4.4 h2o-3.30.0.1\n"
          ],
          "name": "stdout"
        }
      ]
    },
    {
      "cell_type": "code",
      "metadata": {
        "id": "5evWEElYIWJp"
      },
      "source": [
        "import tensorflow_datasets as tfds\n",
        "import h2o\n",
        "import numpy as np\n"
      ],
      "execution_count": 3,
      "outputs": []
    },
    {
      "cell_type": "code",
      "metadata": {
        "id": "Y8ugj-qzIoRd",
        "outputId": "128ffb22-13b7-47c8-e142-1850a9892570",
        "colab": {
          "base_uri": "https://localhost:8080/",
          "height": 562
        }
      },
      "source": [
        "h2o.init()"
      ],
      "execution_count": 4,
      "outputs": [
        {
          "output_type": "stream",
          "text": [
            "Checking whether there is an H2O instance running at http://localhost:54321 ..... not found.\n",
            "Attempting to start a local H2O server...\n",
            "  Java Version: openjdk version \"11.0.9\" 2020-10-20; OpenJDK Runtime Environment (build 11.0.9+11-Ubuntu-0ubuntu1.18.04.1); OpenJDK 64-Bit Server VM (build 11.0.9+11-Ubuntu-0ubuntu1.18.04.1, mixed mode, sharing)\n",
            "  Starting server from /usr/local/lib/python3.6/dist-packages/h2o/backend/bin/h2o.jar\n",
            "  Ice root: /tmp/tmpvnxce23c\n",
            "  JVM stdout: /tmp/tmpvnxce23c/h2o_unknownUser_started_from_python.out\n",
            "  JVM stderr: /tmp/tmpvnxce23c/h2o_unknownUser_started_from_python.err\n",
            "  Server is running at http://127.0.0.1:54321\n",
            "Connecting to H2O server at http://127.0.0.1:54321 ... successful.\n",
            "Warning: Your H2O cluster version is too old (7 months and 6 days)! Please download and install the latest version from http://h2o.ai/download/\n"
          ],
          "name": "stdout"
        },
        {
          "output_type": "display_data",
          "data": {
            "text/html": [
              "<div style=\"overflow:auto\"><table style=\"width:50%\"><tr><td>H2O_cluster_uptime:</td>\n",
              "<td>03 secs</td></tr>\n",
              "<tr><td>H2O_cluster_timezone:</td>\n",
              "<td>Etc/UTC</td></tr>\n",
              "<tr><td>H2O_data_parsing_timezone:</td>\n",
              "<td>UTC</td></tr>\n",
              "<tr><td>H2O_cluster_version:</td>\n",
              "<td>3.30.0.1</td></tr>\n",
              "<tr><td>H2O_cluster_version_age:</td>\n",
              "<td>7 months and 6 days !!!</td></tr>\n",
              "<tr><td>H2O_cluster_name:</td>\n",
              "<td>H2O_from_python_unknownUser_k2l2e4</td></tr>\n",
              "<tr><td>H2O_cluster_total_nodes:</td>\n",
              "<td>1</td></tr>\n",
              "<tr><td>H2O_cluster_free_memory:</td>\n",
              "<td>3.180 Gb</td></tr>\n",
              "<tr><td>H2O_cluster_total_cores:</td>\n",
              "<td>2</td></tr>\n",
              "<tr><td>H2O_cluster_allowed_cores:</td>\n",
              "<td>2</td></tr>\n",
              "<tr><td>H2O_cluster_status:</td>\n",
              "<td>accepting new members, healthy</td></tr>\n",
              "<tr><td>H2O_connection_url:</td>\n",
              "<td>http://127.0.0.1:54321</td></tr>\n",
              "<tr><td>H2O_connection_proxy:</td>\n",
              "<td>{\"http\": null, \"https\": null}</td></tr>\n",
              "<tr><td>H2O_internal_security:</td>\n",
              "<td>False</td></tr>\n",
              "<tr><td>H2O_API_Extensions:</td>\n",
              "<td>Amazon S3, XGBoost, Algos, AutoML, Core V3, TargetEncoder, Core V4</td></tr>\n",
              "<tr><td>Python_version:</td>\n",
              "<td>3.6.9 final</td></tr></table></div>"
            ],
            "text/plain": [
              "--------------------------  ------------------------------------------------------------------\n",
              "H2O_cluster_uptime:         03 secs\n",
              "H2O_cluster_timezone:       Etc/UTC\n",
              "H2O_data_parsing_timezone:  UTC\n",
              "H2O_cluster_version:        3.30.0.1\n",
              "H2O_cluster_version_age:    7 months and 6 days !!!\n",
              "H2O_cluster_name:           H2O_from_python_unknownUser_k2l2e4\n",
              "H2O_cluster_total_nodes:    1\n",
              "H2O_cluster_free_memory:    3.180 Gb\n",
              "H2O_cluster_total_cores:    2\n",
              "H2O_cluster_allowed_cores:  2\n",
              "H2O_cluster_status:         accepting new members, healthy\n",
              "H2O_connection_url:         http://127.0.0.1:54321\n",
              "H2O_connection_proxy:       {\"http\": null, \"https\": null}\n",
              "H2O_internal_security:      False\n",
              "H2O_API_Extensions:         Amazon S3, XGBoost, Algos, AutoML, Core V3, TargetEncoder, Core V4\n",
              "Python_version:             3.6.9 final\n",
              "--------------------------  ------------------------------------------------------------------"
            ]
          },
          "metadata": {
            "tags": []
          }
        }
      ]
    },
    {
      "cell_type": "code",
      "metadata": {
        "id": "Xoj3GvsWIrVj",
        "outputId": "449f459d-af5b-4da2-97a8-72743d2c8f04",
        "colab": {
          "base_uri": "https://localhost:8080/",
          "height": 318,
          "referenced_widgets": [
            "d192625cc18649b4bb6987cf3599785c",
            "b382f83ed3144c528667de354bce4da3",
            "57cc1c4e1ac44b1a8b53bf70a8b72d6c",
            "0c709b1f8a874f8e8ca4a4e711ae371c",
            "71658545bf2b4cb9969a192dcea8d43b",
            "c52b74b7cdc049518fde306fc843dd4a",
            "ce650a3946bc43038df20242f5d11a2e",
            "e3c3557062cb4641840090ba0d615534",
            "780ab8e2ba16493f867995920eeafd27",
            "d3be233dbb4d48a69f94728fcf5c3dbe",
            "63b8e682d06e40ad8d944fefb0964393",
            "dcef399c121c4126a68408f150e0be6e",
            "4b496206b7a24ad1b8838edd1fdb1a5e",
            "035880d402d24a5ab3edc7876a3bf687",
            "59f07560077e4f72bb0f733c12fa7b78",
            "57360f2d2b9a49ef82d973053ee1729a",
            "e26bdae20b294605a79725410bbe0922",
            "13241a6fab89435f87425959414239b7",
            "e323ac169b634b0489c5a789199456c9",
            "7f5ca2bf72e449609b46a68119a2474f",
            "8049c883a2a14598abc42f26ef372ddd",
            "09dac60d49ad401fa009b7bb456efd92",
            "e14e95452d584ba8ba60a7eb12d0629a",
            "f7f801b188c04716bfab6a9f625f717c",
            "fee5642a8dc54081a3cbcd5f6ff057d3",
            "ca208318746c4346b2a01d6929d87155",
            "8dbc4a9ca64a4314a738695450bd03b0",
            "f03439af21c145868ec5c1cde1190a12",
            "305d1476cf2343bdbfc54f0953a297c6",
            "46b931f9bef7455a9e988b56ec74c76c",
            "15b9738b9a6943ad9b21f56f66fb8921",
            "88ddfa4f03974ed3bcc54650ae43f95a",
            "999aaf0471a34aa38e8fd9722ba5ca1c",
            "ebe7c10207734e83a9d3cee659d14aab",
            "c75e8265e7b94842ae745990d464a509",
            "f50551480284424eb73734cc31b11dc5",
            "e3f75fbb5e4f494ebafa201678d8b87c",
            "1f7c30ed756547fcb66abaf885d39cd2",
            "c7a176bca9d84970bfbb493228f49dd4",
            "2839de304144437197d94fec2ac3a243"
          ]
        }
      },
      "source": [
        "dataset, info  = tfds.load('amazon_us_reviews/Personal_Care_Appliances_v1_00', with_info=True, batch_size=-1)\n",
        "train_dataset = dataset['train']"
      ],
      "execution_count": 5,
      "outputs": [
        {
          "output_type": "stream",
          "text": [
            "Downloading and preparing dataset amazon_us_reviews/Personal_Care_Appliances_v1_00/0.1.0 (download: 16.82 MiB, generated: Unknown size, total: 16.82 MiB) to /root/tensorflow_datasets/amazon_us_reviews/Personal_Care_Appliances_v1_00/0.1.0...\n"
          ],
          "name": "stdout"
        },
        {
          "output_type": "display_data",
          "data": {
            "application/vnd.jupyter.widget-view+json": {
              "model_id": "d192625cc18649b4bb6987cf3599785c",
              "version_minor": 0,
              "version_major": 2
            },
            "text/plain": [
              "HBox(children=(FloatProgress(value=1.0, bar_style='info', description='Dl Completed...', max=1.0, style=Progre…"
            ]
          },
          "metadata": {
            "tags": []
          }
        },
        {
          "output_type": "display_data",
          "data": {
            "application/vnd.jupyter.widget-view+json": {
              "model_id": "780ab8e2ba16493f867995920eeafd27",
              "version_minor": 0,
              "version_major": 2
            },
            "text/plain": [
              "HBox(children=(FloatProgress(value=1.0, bar_style='info', description='Dl Size...', max=1.0, style=ProgressSty…"
            ]
          },
          "metadata": {
            "tags": []
          }
        },
        {
          "output_type": "display_data",
          "data": {
            "application/vnd.jupyter.widget-view+json": {
              "model_id": "e26bdae20b294605a79725410bbe0922",
              "version_minor": 0,
              "version_major": 2
            },
            "text/plain": [
              "HBox(children=(FloatProgress(value=1.0, bar_style='info', description='Extraction completed...', max=1.0, styl…"
            ]
          },
          "metadata": {
            "tags": []
          }
        },
        {
          "output_type": "stream",
          "text": [
            "\n",
            "\n",
            "\n",
            "\n",
            "\n",
            "\n"
          ],
          "name": "stdout"
        },
        {
          "output_type": "display_data",
          "data": {
            "application/vnd.jupyter.widget-view+json": {
              "model_id": "fee5642a8dc54081a3cbcd5f6ff057d3",
              "version_minor": 0,
              "version_major": 2
            },
            "text/plain": [
              "HBox(children=(FloatProgress(value=1.0, bar_style='info', max=1.0), HTML(value='')))"
            ]
          },
          "metadata": {
            "tags": []
          }
        },
        {
          "output_type": "stream",
          "text": [
            "\rShuffling and writing examples to /root/tensorflow_datasets/amazon_us_reviews/Personal_Care_Appliances_v1_00/0.1.0.incomplete3ZO2MV/amazon_us_reviews-train.tfrecord\n"
          ],
          "name": "stdout"
        },
        {
          "output_type": "display_data",
          "data": {
            "application/vnd.jupyter.widget-view+json": {
              "model_id": "999aaf0471a34aa38e8fd9722ba5ca1c",
              "version_minor": 0,
              "version_major": 2
            },
            "text/plain": [
              "HBox(children=(FloatProgress(value=0.0, max=85981.0), HTML(value='')))"
            ]
          },
          "metadata": {
            "tags": []
          }
        },
        {
          "output_type": "stream",
          "text": [
            "Dataset amazon_us_reviews downloaded and prepared to /root/tensorflow_datasets/amazon_us_reviews/Personal_Care_Appliances_v1_00/0.1.0. Subsequent calls will reuse this data.\n"
          ],
          "name": "stdout"
        }
      ]
    },
    {
      "cell_type": "code",
      "metadata": {
        "id": "q7ua4EYIJwX7",
        "outputId": "d4f59e5b-bf40-470c-d6d5-1cb901173c2c",
        "colab": {
          "base_uri": "https://localhost:8080/"
        }
      },
      "source": [
        "info"
      ],
      "execution_count": 6,
      "outputs": [
        {
          "output_type": "execute_result",
          "data": {
            "text/plain": [
              "tfds.core.DatasetInfo(\n",
              "    name='amazon_us_reviews',\n",
              "    version=0.1.0,\n",
              "    description='Amazon Customer Reviews (a.k.a. Product Reviews) is one of Amazons iconic products. In a period of over two decades since the first review in 1995, millions of Amazon customers have contributed over a hundred million reviews to express opinions and describe their experiences regarding products on the Amazon.com website. This makes Amazon Customer Reviews a rich source of information for academic researchers in the fields of Natural Language Processing (NLP), Information Retrieval (IR), and Machine Learning (ML), amongst others. Accordingly, we are releasing this data to further research in multiple disciplines related to understanding customer product experiences. Specifically, this dataset was constructed to represent a sample of customer evaluations and opinions, variation in the perception of a product across geographical regions, and promotional intent or bias in reviews.\n",
              "\n",
              "Over 130+ million customer reviews are available to researchers as part of this release. The data is available in TSV files in the amazon-reviews-pds S3 bucket in AWS US East Region. Each line in the data files corresponds to an individual review (tab delimited, with no quote and escape characters).\n",
              "\n",
              "Each Dataset contains the following columns : \n",
              "  marketplace       - 2 letter country code of the marketplace where the review was written.\n",
              "  customer_id       - Random identifier that can be used to aggregate reviews written by a single author.\n",
              "  review_id         - The unique ID of the review.\n",
              "  product_id        - The unique Product ID the review pertains to. In the multilingual dataset the reviews\n",
              "                      for the same product in different countries can be grouped by the same product_id.\n",
              "  product_parent    - Random identifier that can be used to aggregate reviews for the same product.\n",
              "  product_title     - Title of the product.\n",
              "  product_category  - Broad product category that can be used to group reviews \n",
              "                      (also used to group the dataset into coherent parts).\n",
              "  star_rating       - The 1-5 star rating of the review.\n",
              "  helpful_votes     - Number of helpful votes.\n",
              "  total_votes       - Number of total votes the review received.\n",
              "  vine              - Review was written as part of the Vine program.\n",
              "  verified_purchase - The review is on a verified purchase.\n",
              "  review_headline   - The title of the review.\n",
              "  review_body       - The review text.\n",
              "  review_date       - The date the review was written.',\n",
              "    homepage='https://s3.amazonaws.com/amazon-reviews-pds/readme.html',\n",
              "    features=FeaturesDict({\n",
              "        'data': FeaturesDict({\n",
              "            'customer_id': tf.string,\n",
              "            'helpful_votes': tf.int32,\n",
              "            'marketplace': tf.string,\n",
              "            'product_category': tf.string,\n",
              "            'product_id': tf.string,\n",
              "            'product_parent': tf.string,\n",
              "            'product_title': tf.string,\n",
              "            'review_body': tf.string,\n",
              "            'review_date': tf.string,\n",
              "            'review_headline': tf.string,\n",
              "            'review_id': tf.string,\n",
              "            'star_rating': tf.int32,\n",
              "            'total_votes': tf.int32,\n",
              "            'verified_purchase': ClassLabel(shape=(), dtype=tf.int64, num_classes=2),\n",
              "            'vine': ClassLabel(shape=(), dtype=tf.int64, num_classes=2),\n",
              "        }),\n",
              "    }),\n",
              "    total_num_examples=85981,\n",
              "    splits={\n",
              "        'train': 85981,\n",
              "    },\n",
              "    supervised_keys=None,\n",
              "    citation=\"\"\"\"\"\",\n",
              "    redistribution_info=,\n",
              ")"
            ]
          },
          "metadata": {
            "tags": []
          },
          "execution_count": 6
        }
      ]
    },
    {
      "cell_type": "code",
      "metadata": {
        "id": "o_RsFTKpJybT"
      },
      "source": [
        "### convert the tensors into numpy. \n",
        "# To run any GBM or any reggular ML model, we need it to be in numpy\n",
        "dataset = tfds.as_numpy(train_dataset)"
      ],
      "execution_count": 7,
      "outputs": []
    },
    {
      "cell_type": "code",
      "metadata": {
        "id": "IljN-dIrJ58X",
        "outputId": "b7873070-e08d-41f7-f133-3ef469dc7829",
        "colab": {
          "base_uri": "https://localhost:8080/"
        }
      },
      "source": [
        "dataset"
      ],
      "execution_count": 8,
      "outputs": [
        {
          "output_type": "execute_result",
          "data": {
            "text/plain": [
              "{'data': {'customer_id': array([b'13986323', b'50574716', b'50593972', ..., b'40719682',\n",
              "         b'35596948', b'29430209'], dtype=object),\n",
              "  'helpful_votes': array([0, 3, 0, ..., 0, 0, 0], dtype=int32),\n",
              "  'marketplace': array([b'US', b'US', b'US', ..., b'US', b'US', b'US'], dtype=object),\n",
              "  'product_category': array([b'Personal_Care_Appliances', b'Personal_Care_Appliances',\n",
              "         b'Personal_Care_Appliances', ..., b'Personal_Care_Appliances',\n",
              "         b'Personal_Care_Appliances', b'Personal_Care_Appliances'],\n",
              "        dtype=object),\n",
              "  'product_id': array([b'B00847JQZ6', b'B00N5HD340', b'B0077L1X24', ..., b'B000UZ8X2W',\n",
              "         b'B000NURPPK', b'B001EY5GNW'], dtype=object),\n",
              "  'product_parent': array([b'997683625', b'955577225', b'120764066', ..., b'96066145',\n",
              "         b'58591097', b'986877728'], dtype=object),\n",
              "  'product_title': array([b'SE - Reading Glass - Spring Loaded Hinges, 4.0x - RTS62400',\n",
              "         b'Straight Razor',\n",
              "         b'Philips Sonicare Flexcare & Healthy White Plastic Travel Handle Case New Bulk Package',\n",
              "         ...,\n",
              "         b'Remington R-9200 Microflex Ultra TCT Shaver [Health and Beauty]',\n",
              "         b'SUNBEAM Cool Mist HUMIDIFIER with PermaFilter # 1120 \\xe2\\x80\\x93 1 Ea',\n",
              "         b'Andis Blade Set for T-Outliner Trimmer'], dtype=object),\n",
              "  'review_body': array([b\"These glasses are an excellent value.  The fit is good and they are very comfortable.  Because of my legal blindness, there aren't a lot of options to try to see better, but I believe these help with my other visual aids, and because they are reasonably priced I can have more than one pair available.\",\n",
              "         b\"Always wanted to try straight razor shaving (as a DE safety razor user), and this was a cheap way for me to determine I was not into it.<br /><br />Because the blades are disposable and always sharp, I could put a new one in and reasonably rely upon that fact that cuts were probably due to my technique and not the blade.<br /><br />It's very hard to do straight razor shaving on yourself because the ANGLE is difficult to control without switching hands. Being very right-handed, I really couldn't do that. I bet I could shave someone else's face with it though.<br /><br />An immediate upside? Using a DE safety razor (slant edged even) seems SUPER safe now! I'm increased my speed with the DE due to that confidence, and I'd been using it for years now.\",\n",
              "         b'I usually either throw my toothbrush in a plastic bag with spare head so this product is very convenient for keeping all the parts apart, dry and undamaged, and i now keep it in my travel bag all the time ready to go.',\n",
              "         ...,\n",
              "         b\"I have had a Remington before but needed a new one when the batteries died and the cutters were all but gone.  It was cheaper to buy a new one.  The new one has a nice charge level but the trimmer didn't work when I got it.\",\n",
              "         b\"I was surprised that it really didn't do much compared to the 1950s version that I'd inherited. Keeping a wet wash cloth next to my bed for when I start coughing in the middle of the night works better.\",\n",
              "         b'The blades were an excellent fit for my T-line trimmers.  Within five minutes I had my trimmers cleaned, the blades installed, and was putting them to use.  I saw the blades in several locations for almost twice the price I paid, so this worked out to be an awesome deal.'],\n",
              "        dtype=object),\n",
              "  'review_date': array([b'2015-01-04', b'2015-08-05', b'2012-11-17', ..., b'2008-02-08',\n",
              "         b'2007-09-07', b'2012-07-26'], dtype=object),\n",
              "  'review_headline': array([b'These glasses are an excellent value. The fit is good and they are ...',\n",
              "         b'A fantastic way to cheaply try straight razor shaving.',\n",
              "         b'Great for travel', ..., b'Trimmer Not Working',\n",
              "         b'Loud and ineffectual', b'Excellent product, awesomoe price'],\n",
              "        dtype=object),\n",
              "  'review_id': array([b'R3VEUFVA9QJY55', b'R2DTQV5SMJ0CK7', b'R3OJ06NK99WLNJ', ...,\n",
              "         b'R1ZQ0XZXOD9N18', b'R1FJ9OU429X00Y', b'RI28R1W94N1R6'],\n",
              "        dtype=object),\n",
              "  'star_rating': array([4, 5, 4, ..., 3, 2, 5], dtype=int32),\n",
              "  'total_votes': array([0, 3, 0, ..., 0, 0, 0], dtype=int32),\n",
              "  'verified_purchase': array([0, 0, 0, ..., 1, 0, 0]),\n",
              "  'vine': array([1, 1, 1, ..., 1, 1, 1])}}"
            ]
          },
          "metadata": {
            "tags": []
          },
          "execution_count": 8
        }
      ]
    },
    {
      "cell_type": "code",
      "metadata": {
        "id": "GIPwqzlmSLMy"
      },
      "source": [
        "helpful_votes=dataset['data']['helpful_votes']\n",
        "review_headline=dataset['data']['review_headline']\n",
        "review_body=dataset['data']['review_body']\n",
        "star_rating=dataset['data']['star_rating']"
      ],
      "execution_count": 9,
      "outputs": []
    },
    {
      "cell_type": "code",
      "metadata": {
        "id": "OuL25D65J8mN",
        "outputId": "443be2bd-e985-4f2c-c9c8-53e6ce74a5ce",
        "colab": {
          "base_uri": "https://localhost:8080/"
        }
      },
      "source": [
        "### convert each feature sinto an H2o Dataframe \n",
        "h2o_df = h2o.H2OFrame(np.hstack((helpful_votes[:,None],review_headline[:,None],review_body[:,None],star_rating[:,None])),\n",
        "                      column_names=['votes','headline','reviews','rating'],\n",
        "                      column_types=['numeric','string','string','numeric']\n",
        "                      )"
      ],
      "execution_count": 10,
      "outputs": [
        {
          "output_type": "stream",
          "text": [
            "Parse progress: |█████████████████████████████████████████████████████████| 100%\n"
          ],
          "name": "stdout"
        }
      ]
    },
    {
      "cell_type": "code",
      "metadata": {
        "id": "b48hEgBnVKOn",
        "outputId": "49c82b28-27a7-4ed2-a4e6-b48e6da9e6bc",
        "colab": {
          "base_uri": "https://localhost:8080/",
          "height": 862
        }
      },
      "source": [
        "h2o_df.head()"
      ],
      "execution_count": 11,
      "outputs": [
        {
          "output_type": "display_data",
          "data": {
            "text/html": [
              "<table>\n",
              "<thead>\n",
              "<tr><th style=\"text-align: right;\">  votes</th><th>headline                                                                 </th><th>reviews                                                                                                                                                                                                                                                                                                                                                                                                                                                                                                                                                                                                                                                                                                                                                                                                                                                                                                                                                                                                                                                                                                                           </th><th style=\"text-align: right;\">  rating</th></tr>\n",
              "</thead>\n",
              "<tbody>\n",
              "<tr><td style=\"text-align: right;\">      0</td><td>b&#x27;These glasses are an excellent value. The fit is good and they are ...&#x27;</td><td>b&quot;These glasses are an excellent value.  The fit is good and they are very comfortable.  Because of my legal blindness, there aren&#x27;t a lot of options to try to see better, but I believe these help with my other visual aids, and because they are reasonably priced I can have more than one pair available.&quot;                                                                                                                                                                                                                                                                                                                                                                                                                                                                                                                                                                                                                                                                                                                                                                                                                  </td><td style=\"text-align: right;\">       4</td></tr>\n",
              "<tr><td style=\"text-align: right;\">      3</td><td>b&#x27;A fantastic way to cheaply try straight razor shaving.&#x27;                </td><td>b&quot;Always wanted to try straight razor shaving (as a DE safety razor user), and this was a cheap way for me to determine I was not into it.&lt;br /&gt;&lt;br /&gt;Because the blades are disposable and always sharp, I could put a new one in and reasonably rely upon that fact that cuts were probably due to my technique and not the blade.&lt;br /&gt;&lt;br /&gt;It&#x27;s very hard to do straight razor shaving on yourself because the ANGLE is difficult to control without switching hands. Being very right-handed, I really couldn&#x27;t do that. I bet I could shave someone else&#x27;s face with it though.&lt;br /&gt;&lt;br /&gt;An immediate upside? Using a DE safety razor (slant edged even) seems SUPER safe now! I&#x27;m increased my speed with the DE due to that confidence, and I&#x27;d been using it for years now.&quot;                                                                                                                                                                                                                                                                                                                                          </td><td style=\"text-align: right;\">       5</td></tr>\n",
              "<tr><td style=\"text-align: right;\">      0</td><td>b&#x27;Great for travel&#x27;                                                      </td><td>b&#x27;I usually either throw my toothbrush in a plastic bag with spare head so this product is very convenient for keeping all the parts apart, dry and undamaged, and i now keep it in my travel bag all the time ready to go.&#x27;                                                                                                                                                                                                                                                                                                                                                                                                                                                                                                                                                                                                                                                                                                                                                                                                                                                                                                      </td><td style=\"text-align: right;\">       4</td></tr>\n",
              "<tr><td style=\"text-align: right;\">      0</td><td>b&#x27;Five Stars&#x27;                                                            </td><td>b&#x27;Top quality.&#x27;                                                                                                                                                                                                                                                                                                                                                                                                                                                                                                                                                                                                                                                                                                                                                                                                                                                                                                                                                                                                                                                                                                                   </td><td style=\"text-align: right;\">       5</td></tr>\n",
              "<tr><td style=\"text-align: right;\">      1</td><td>b&#x27;*Product sent not as shown&#x27;                                            </td><td>b&#x27;Today I received  1 Fl. Oz, Natures Balance AlkaMAX alkaline booster liquid unflavored (formally TriMedica) a glass brown bottle with eye dropper.&lt;br /&gt;Supplement Facts; Serving Size: 10 Drops (Approx. 0.5 mL). Servings per Container: Approx. 60&lt;br /&gt;Amount Per Serving % Daily Value&lt;br /&gt;Magnesium (as Magnesium Chloride) 40 mg 10%&lt;br /&gt;Chloride (as Magnesium Chloride) 64 mg 2%&lt;br /&gt;Other Ingredients: Deionized water and trace mineral complex.&lt;br /&gt;Directions: Add 10 drops to 8 oz. of water or other beverage daily as needed or as directed by your health care practitioner. Store in a cool, dry place.&lt;br /&gt;&lt;br /&gt;I have not used product as of yet with changed ingredients of original/as shown in AlkaMax alkaline support white squeeze bottle.&lt;br /&gt;but had to rate to post...heck this new may be better for all I know.&#x27;                                                                                                                                                                                                                                                                          </td><td style=\"text-align: right;\">       3</td></tr>\n",
              "<tr><td style=\"text-align: right;\">      6</td><td>b&#x27;Seems to work well!&#x27;                                                   </td><td>b&#x27;I recently picked this unit up at Bed and Bath where it was $99.00. With a 20% coupon the price was $80 (so comparison shop!) It\\&#x27;s easy to use and seems to work well. I agree with other reviewers about the noise level (loud like a tea kettle boiling), but I use this unit in the living room area so sleeping is not an issue. Having the 2 separate water reservoirs to fill is much easier, weight-wise, as I previously had another humidifier which had one large water reservoir and it was very heavy when full. The unit comes apart quite easily for cleaning and since frequent cleaning is recommended (I usually do it 1x per week, not daily) this is a definite plus. Additionally, one only needs to use vinegar to clean the inside reservoir, which is a lot cheaper than having to buy some kind of \\\\\\\\&quot;special\\\\\\\\&quot; cleaning solution. My one complaint is that it doesn\\&#x27;t, but should, have an automatic shut off when both tanks are empty.I have to remember to turn the unit off when I leave the house. My previous humidifiers all had this auto turn off; seems like every humidifier should.&#x27;</td><td style=\"text-align: right;\">       4</td></tr>\n",
              "<tr><td style=\"text-align: right;\">      8</td><td>b&#x27;deep heat?????&#x27;                                                        </td><td>b&#x27;Not sure what previous reviewer was talking about. The product uses ULTRASOUND waves for pain relief NOT heat.  After repeated use, the pain in my knee and shoulder was feeling great. I think you should re-read the description and reconsider your opinion. Great product sold by a great company.&#x27;                                                                                                                                                                                                                                                                                                                                                                                                                                                                                                                                                                                                                                                                                                                                                                                                                         </td><td style=\"text-align: right;\">       5</td></tr>\n",
              "<tr><td style=\"text-align: right;\">      2</td><td>b&#x27;Thermometer for a toddler&#x27;                                             </td><td>b&quot;The shippers were great....willing to consider speedier shipping options, but in the end the standard shipping arrived quickly enough. The thermometer is fun and easy to use, but with an inquisitive toddler, it would be nice to have the plastic cap attached to the body so that it doesn&#x27;t disappear.  Would buy it again from these sellers.&quot;                                                                                                                                                                                                                                                                                                                                                                                                                                                                                                                                                                                                                                                                                                                                                                            </td><td style=\"text-align: right;\">       4</td></tr>\n",
              "<tr><td style=\"text-align: right;\">      2</td><td>b&#x27;Wow!&#x27;                                                                  </td><td>b&quot;Man, for all you who know what I&#x27;m talking about, this is the best thing I&#x27;ve ever had on my back.  I suffer from back pain constantly and find myself waking up in the middle of the night pushing parts of my back and neck on the edges of walls on the corners of doors and sometimes lying down on tennis or racket balls to get pressure on those dang trigger points.  I opted for the body sticks package not knowing what they would do and it was a good thing.  They are like have racket balls on the ends of sticks to beat your muscle spasms and to lie down on them rolling around on your back. It is worth the money.  They use a device similar to this in physical therapy so if you get your doctor to write you a script for it, insurance may very well pay for it like mine did.  Even so, paid or not, buy this sucker.  Buy two, I thought, just in case it breaks and they for some reason stop manufacturing this thing.  Good stuff.&quot;                                                                                                                                                              </td><td style=\"text-align: right;\">       5</td></tr>\n",
              "<tr><td style=\"text-align: right;\">      1</td><td>b&#x27;Great cane for people with hand and wrist issues&#x27;                      </td><td>b&quot;I purchased this cane to assist me when I have to walk long distances.  I have rheumatoid arthritis that has particularly affected my low back and hips, and it sometimes makes walking difficult.  The problem with using a cane when you have RA is that RA doesn&#x27;t just affect your lower extremities.  My hands, wrists, and shoulders are also affected.  When I tried a normal cane, it was agonizingly painful for my hand and wrist in particular.  That made it not worth using, even though it did help my hip and back.  A friend with similar issues recommended this one, and the difference was amazing.  It is still a bit hard on my hand after awhile, but not to the point that would make it not worth using.  There really is no perfect solution for this circumstance short of a wheelchair, and I&#x27;m nowhere near ready for that yet!  The forearm rest makes it bearable to use this cane, and it does really help me to walk longer distances when I need to!  It is a great product, and I&#x27;m happy that I purchased it!&quot;                                                                               </td><td style=\"text-align: right;\">       4</td></tr>\n",
              "</tbody>\n",
              "</table>"
            ]
          },
          "metadata": {
            "tags": []
          }
        },
        {
          "output_type": "execute_result",
          "data": {
            "text/plain": [
              ""
            ]
          },
          "metadata": {
            "tags": []
          },
          "execution_count": 11
        }
      ]
    },
    {
      "cell_type": "code",
      "metadata": {
        "id": "1XWOOoPyVQ_t"
      },
      "source": [
        "### we can have it as mulli-classification problem. but for this analysis, it will either or positive sentiment\n",
        "### makingit binary classification problem \n",
        "h2o_df['target']=(h2o_df['rating']>=4).ifelse(\"1\",\"0\")"
      ],
      "execution_count": 12,
      "outputs": []
    },
    {
      "cell_type": "code",
      "metadata": {
        "id": "PqvHCIYzVgzq",
        "outputId": "d1a963dd-1ac1-480a-a422-93236f4ec693",
        "colab": {
          "base_uri": "https://localhost:8080/",
          "height": 913
        }
      },
      "source": [
        "h2o_df.head()"
      ],
      "execution_count": 13,
      "outputs": [
        {
          "output_type": "display_data",
          "data": {
            "text/html": [
              "<table>\n",
              "<thead>\n",
              "<tr><th style=\"text-align: right;\">  votes</th><th>headline                                                                 </th><th>reviews                                                                                                                                                                                                                                                                                                                                                                                                                                                                                                                                                                                                                                                                                                                                                                                                                                                                                                                                                                                                                                                                                                                           </th><th style=\"text-align: right;\">  rating</th><th style=\"text-align: right;\">  target</th></tr>\n",
              "</thead>\n",
              "<tbody>\n",
              "<tr><td style=\"text-align: right;\">      0</td><td>b&#x27;These glasses are an excellent value. The fit is good and they are ...&#x27;</td><td>b&quot;These glasses are an excellent value.  The fit is good and they are very comfortable.  Because of my legal blindness, there aren&#x27;t a lot of options to try to see better, but I believe these help with my other visual aids, and because they are reasonably priced I can have more than one pair available.&quot;                                                                                                                                                                                                                                                                                                                                                                                                                                                                                                                                                                                                                                                                                                                                                                                                                  </td><td style=\"text-align: right;\">       4</td><td style=\"text-align: right;\">       1</td></tr>\n",
              "<tr><td style=\"text-align: right;\">      3</td><td>b&#x27;A fantastic way to cheaply try straight razor shaving.&#x27;                </td><td>b&quot;Always wanted to try straight razor shaving (as a DE safety razor user), and this was a cheap way for me to determine I was not into it.&lt;br /&gt;&lt;br /&gt;Because the blades are disposable and always sharp, I could put a new one in and reasonably rely upon that fact that cuts were probably due to my technique and not the blade.&lt;br /&gt;&lt;br /&gt;It&#x27;s very hard to do straight razor shaving on yourself because the ANGLE is difficult to control without switching hands. Being very right-handed, I really couldn&#x27;t do that. I bet I could shave someone else&#x27;s face with it though.&lt;br /&gt;&lt;br /&gt;An immediate upside? Using a DE safety razor (slant edged even) seems SUPER safe now! I&#x27;m increased my speed with the DE due to that confidence, and I&#x27;d been using it for years now.&quot;                                                                                                                                                                                                                                                                                                                                          </td><td style=\"text-align: right;\">       5</td><td style=\"text-align: right;\">       1</td></tr>\n",
              "<tr><td style=\"text-align: right;\">      0</td><td>b&#x27;Great for travel&#x27;                                                      </td><td>b&#x27;I usually either throw my toothbrush in a plastic bag with spare head so this product is very convenient for keeping all the parts apart, dry and undamaged, and i now keep it in my travel bag all the time ready to go.&#x27;                                                                                                                                                                                                                                                                                                                                                                                                                                                                                                                                                                                                                                                                                                                                                                                                                                                                                                      </td><td style=\"text-align: right;\">       4</td><td style=\"text-align: right;\">       1</td></tr>\n",
              "<tr><td style=\"text-align: right;\">      0</td><td>b&#x27;Five Stars&#x27;                                                            </td><td>b&#x27;Top quality.&#x27;                                                                                                                                                                                                                                                                                                                                                                                                                                                                                                                                                                                                                                                                                                                                                                                                                                                                                                                                                                                                                                                                                                                   </td><td style=\"text-align: right;\">       5</td><td style=\"text-align: right;\">       1</td></tr>\n",
              "<tr><td style=\"text-align: right;\">      1</td><td>b&#x27;*Product sent not as shown&#x27;                                            </td><td>b&#x27;Today I received  1 Fl. Oz, Natures Balance AlkaMAX alkaline booster liquid unflavored (formally TriMedica) a glass brown bottle with eye dropper.&lt;br /&gt;Supplement Facts; Serving Size: 10 Drops (Approx. 0.5 mL). Servings per Container: Approx. 60&lt;br /&gt;Amount Per Serving % Daily Value&lt;br /&gt;Magnesium (as Magnesium Chloride) 40 mg 10%&lt;br /&gt;Chloride (as Magnesium Chloride) 64 mg 2%&lt;br /&gt;Other Ingredients: Deionized water and trace mineral complex.&lt;br /&gt;Directions: Add 10 drops to 8 oz. of water or other beverage daily as needed or as directed by your health care practitioner. Store in a cool, dry place.&lt;br /&gt;&lt;br /&gt;I have not used product as of yet with changed ingredients of original/as shown in AlkaMax alkaline support white squeeze bottle.&lt;br /&gt;but had to rate to post...heck this new may be better for all I know.&#x27;                                                                                                                                                                                                                                                                          </td><td style=\"text-align: right;\">       3</td><td style=\"text-align: right;\">       0</td></tr>\n",
              "<tr><td style=\"text-align: right;\">      6</td><td>b&#x27;Seems to work well!&#x27;                                                   </td><td>b&#x27;I recently picked this unit up at Bed and Bath where it was $99.00. With a 20% coupon the price was $80 (so comparison shop!) It\\&#x27;s easy to use and seems to work well. I agree with other reviewers about the noise level (loud like a tea kettle boiling), but I use this unit in the living room area so sleeping is not an issue. Having the 2 separate water reservoirs to fill is much easier, weight-wise, as I previously had another humidifier which had one large water reservoir and it was very heavy when full. The unit comes apart quite easily for cleaning and since frequent cleaning is recommended (I usually do it 1x per week, not daily) this is a definite plus. Additionally, one only needs to use vinegar to clean the inside reservoir, which is a lot cheaper than having to buy some kind of \\\\\\\\&quot;special\\\\\\\\&quot; cleaning solution. My one complaint is that it doesn\\&#x27;t, but should, have an automatic shut off when both tanks are empty.I have to remember to turn the unit off when I leave the house. My previous humidifiers all had this auto turn off; seems like every humidifier should.&#x27;</td><td style=\"text-align: right;\">       4</td><td style=\"text-align: right;\">       1</td></tr>\n",
              "<tr><td style=\"text-align: right;\">      8</td><td>b&#x27;deep heat?????&#x27;                                                        </td><td>b&#x27;Not sure what previous reviewer was talking about. The product uses ULTRASOUND waves for pain relief NOT heat.  After repeated use, the pain in my knee and shoulder was feeling great. I think you should re-read the description and reconsider your opinion. Great product sold by a great company.&#x27;                                                                                                                                                                                                                                                                                                                                                                                                                                                                                                                                                                                                                                                                                                                                                                                                                         </td><td style=\"text-align: right;\">       5</td><td style=\"text-align: right;\">       1</td></tr>\n",
              "<tr><td style=\"text-align: right;\">      2</td><td>b&#x27;Thermometer for a toddler&#x27;                                             </td><td>b&quot;The shippers were great....willing to consider speedier shipping options, but in the end the standard shipping arrived quickly enough. The thermometer is fun and easy to use, but with an inquisitive toddler, it would be nice to have the plastic cap attached to the body so that it doesn&#x27;t disappear.  Would buy it again from these sellers.&quot;                                                                                                                                                                                                                                                                                                                                                                                                                                                                                                                                                                                                                                                                                                                                                                            </td><td style=\"text-align: right;\">       4</td><td style=\"text-align: right;\">       1</td></tr>\n",
              "<tr><td style=\"text-align: right;\">      2</td><td>b&#x27;Wow!&#x27;                                                                  </td><td>b&quot;Man, for all you who know what I&#x27;m talking about, this is the best thing I&#x27;ve ever had on my back.  I suffer from back pain constantly and find myself waking up in the middle of the night pushing parts of my back and neck on the edges of walls on the corners of doors and sometimes lying down on tennis or racket balls to get pressure on those dang trigger points.  I opted for the body sticks package not knowing what they would do and it was a good thing.  They are like have racket balls on the ends of sticks to beat your muscle spasms and to lie down on them rolling around on your back. It is worth the money.  They use a device similar to this in physical therapy so if you get your doctor to write you a script for it, insurance may very well pay for it like mine did.  Even so, paid or not, buy this sucker.  Buy two, I thought, just in case it breaks and they for some reason stop manufacturing this thing.  Good stuff.&quot;                                                                                                                                                              </td><td style=\"text-align: right;\">       5</td><td style=\"text-align: right;\">       1</td></tr>\n",
              "<tr><td style=\"text-align: right;\">      1</td><td>b&#x27;Great cane for people with hand and wrist issues&#x27;                      </td><td>b&quot;I purchased this cane to assist me when I have to walk long distances.  I have rheumatoid arthritis that has particularly affected my low back and hips, and it sometimes makes walking difficult.  The problem with using a cane when you have RA is that RA doesn&#x27;t just affect your lower extremities.  My hands, wrists, and shoulders are also affected.  When I tried a normal cane, it was agonizingly painful for my hand and wrist in particular.  That made it not worth using, even though it did help my hip and back.  A friend with similar issues recommended this one, and the difference was amazing.  It is still a bit hard on my hand after awhile, but not to the point that would make it not worth using.  There really is no perfect solution for this circumstance short of a wheelchair, and I&#x27;m nowhere near ready for that yet!  The forearm rest makes it bearable to use this cane, and it does really help me to walk longer distances when I need to!  It is a great product, and I&#x27;m happy that I purchased it!&quot;                                                                               </td><td style=\"text-align: right;\">       4</td><td style=\"text-align: right;\">       1</td></tr>\n",
              "</tbody>\n",
              "</table>"
            ]
          },
          "metadata": {
            "tags": []
          }
        },
        {
          "output_type": "execute_result",
          "data": {
            "text/plain": [
              ""
            ]
          },
          "metadata": {
            "tags": []
          },
          "execution_count": 13
        }
      ]
    },
    {
      "cell_type": "code",
      "metadata": {
        "id": "MUQ6OwvUVlzq",
        "outputId": "2a502512-27aa-41b5-c08c-1b68cea19721",
        "colab": {
          "base_uri": "https://localhost:8080/"
        }
      },
      "source": [
        "h2o_df.shape"
      ],
      "execution_count": 14,
      "outputs": [
        {
          "output_type": "execute_result",
          "data": {
            "text/plain": [
              "(85981, 5)"
            ]
          },
          "metadata": {
            "tags": []
          },
          "execution_count": 14
        }
      ]
    },
    {
      "cell_type": "code",
      "metadata": {
        "id": "5RB0zMf8V4M9",
        "outputId": "dc20bdca-9f18-4624-a0ee-d6d73ef786fc",
        "colab": {
          "base_uri": "https://localhost:8080/",
          "height": 82
        }
      },
      "source": [
        "### view the data distribution for each classifcation\n",
        "h2o_df['target'].table()"
      ],
      "execution_count": 15,
      "outputs": [
        {
          "output_type": "display_data",
          "data": {
            "text/html": [
              "<table>\n",
              "<thead>\n",
              "<tr><th style=\"text-align: right;\">  target</th><th style=\"text-align: right;\">  Count</th></tr>\n",
              "</thead>\n",
              "<tbody>\n",
              "<tr><td style=\"text-align: right;\">       0</td><td style=\"text-align: right;\">  23427</td></tr>\n",
              "<tr><td style=\"text-align: right;\">       1</td><td style=\"text-align: right;\">  62554</td></tr>\n",
              "</tbody>\n",
              "</table>"
            ]
          },
          "metadata": {
            "tags": []
          }
        },
        {
          "output_type": "execute_result",
          "data": {
            "text/plain": [
              ""
            ]
          },
          "metadata": {
            "tags": []
          },
          "execution_count": 15
        }
      ]
    },
    {
      "cell_type": "code",
      "metadata": {
        "id": "kDMDjL58WC1G",
        "outputId": "b6f73fcc-b5ee-4131-ac0e-4eb6cc5f8815",
        "colab": {
          "base_uri": "https://localhost:8080/",
          "height": 1000
        }
      },
      "source": [
        "h2o_df.describe()"
      ],
      "execution_count": 16,
      "outputs": [
        {
          "output_type": "stream",
          "text": [
            "Rows:85981\n",
            "Cols:5\n",
            "\n",
            "\n"
          ],
          "name": "stdout"
        },
        {
          "output_type": "display_data",
          "data": {
            "text/html": [
              "<table>\n",
              "<thead>\n",
              "<tr><th>       </th><th>votes             </th><th>headline                                                                 </th><th>reviews                                                                                                                                                                                                                                                                                                                                                                                                                                                                                                                                                                                                                                                                                                                                                                                                                                                                                                                                                                                                                                                                                                                           </th><th>rating           </th><th>target  </th></tr>\n",
              "</thead>\n",
              "<tbody>\n",
              "<tr><td>type   </td><td>int               </td><td>string                                                                   </td><td>string                                                                                                                                                                                                                                                                                                                                                                                                                                                                                                                                                                                                                                                                                                                                                                                                                                                                                                                                                                                                                                                                                                                            </td><td>int              </td><td>enum    </td></tr>\n",
              "<tr><td>mins   </td><td>0.0               </td><td>NaN                                                                      </td><td>NaN                                                                                                                                                                                                                                                                                                                                                                                                                                                                                                                                                                                                                                                                                                                                                                                                                                                                                                                                                                                                                                                                                                                               </td><td>1.0              </td><td>        </td></tr>\n",
              "<tr><td>mean   </td><td>3.3494841883672   </td><td>NaN                                                                      </td><td>NaN                                                                                                                                                                                                                                                                                                                                                                                                                                                                                                                                                                                                                                                                                                                                                                                                                                                                                                                                                                                                                                                                                                                               </td><td>3.977401984159291</td><td>        </td></tr>\n",
              "<tr><td>maxs   </td><td>2785.0            </td><td>NaN                                                                      </td><td>NaN                                                                                                                                                                                                                                                                                                                                                                                                                                                                                                                                                                                                                                                                                                                                                                                                                                                                                                                                                                                                                                                                                                                               </td><td>5.0              </td><td>        </td></tr>\n",
              "<tr><td>sigma  </td><td>19.483167220712946</td><td>NaN                                                                      </td><td>NaN                                                                                                                                                                                                                                                                                                                                                                                                                                                                                                                                                                                                                                                                                                                                                                                                                                                                                                                                                                                                                                                                                                                               </td><td>1.433130291971473</td><td>        </td></tr>\n",
              "<tr><td>zeros  </td><td>44555             </td><td>0                                                                        </td><td>0                                                                                                                                                                                                                                                                                                                                                                                                                                                                                                                                                                                                                                                                                                                                                                                                                                                                                                                                                                                                                                                                                                                                 </td><td>0                </td><td>        </td></tr>\n",
              "<tr><td>missing</td><td>0                 </td><td>0                                                                        </td><td>0                                                                                                                                                                                                                                                                                                                                                                                                                                                                                                                                                                                                                                                                                                                                                                                                                                                                                                                                                                                                                                                                                                                                 </td><td>0                </td><td>0       </td></tr>\n",
              "<tr><td>0      </td><td>0.0               </td><td>b&#x27;These glasses are an excellent value. The fit is good and they are ...&#x27;</td><td>b&quot;These glasses are an excellent value.  The fit is good and they are very comfortable.  Because of my legal blindness, there aren&#x27;t a lot of options to try to see better, but I believe these help with my other visual aids, and because they are reasonably priced I can have more than one pair available.&quot;                                                                                                                                                                                                                                                                                                                                                                                                                                                                                                                                                                                                                                                                                                                                                                                                                  </td><td>4.0              </td><td>1       </td></tr>\n",
              "<tr><td>1      </td><td>3.0               </td><td>b&#x27;A fantastic way to cheaply try straight razor shaving.&#x27;                </td><td>b&quot;Always wanted to try straight razor shaving (as a DE safety razor user), and this was a cheap way for me to determine I was not into it.&lt;br /&gt;&lt;br /&gt;Because the blades are disposable and always sharp, I could put a new one in and reasonably rely upon that fact that cuts were probably due to my technique and not the blade.&lt;br /&gt;&lt;br /&gt;It&#x27;s very hard to do straight razor shaving on yourself because the ANGLE is difficult to control without switching hands. Being very right-handed, I really couldn&#x27;t do that. I bet I could shave someone else&#x27;s face with it though.&lt;br /&gt;&lt;br /&gt;An immediate upside? Using a DE safety razor (slant edged even) seems SUPER safe now! I&#x27;m increased my speed with the DE due to that confidence, and I&#x27;d been using it for years now.&quot;                                                                                                                                                                                                                                                                                                                                          </td><td>5.0              </td><td>1       </td></tr>\n",
              "<tr><td>2      </td><td>0.0               </td><td>b&#x27;Great for travel&#x27;                                                      </td><td>b&#x27;I usually either throw my toothbrush in a plastic bag with spare head so this product is very convenient for keeping all the parts apart, dry and undamaged, and i now keep it in my travel bag all the time ready to go.&#x27;                                                                                                                                                                                                                                                                                                                                                                                                                                                                                                                                                                                                                                                                                                                                                                                                                                                                                                      </td><td>4.0              </td><td>1       </td></tr>\n",
              "<tr><td>3      </td><td>0.0               </td><td>b&#x27;Five Stars&#x27;                                                            </td><td>b&#x27;Top quality.&#x27;                                                                                                                                                                                                                                                                                                                                                                                                                                                                                                                                                                                                                                                                                                                                                                                                                                                                                                                                                                                                                                                                                                                   </td><td>5.0              </td><td>1       </td></tr>\n",
              "<tr><td>4      </td><td>1.0               </td><td>b&#x27;*Product sent not as shown&#x27;                                            </td><td>b&#x27;Today I received  1 Fl. Oz, Natures Balance AlkaMAX alkaline booster liquid unflavored (formally TriMedica) a glass brown bottle with eye dropper.&lt;br /&gt;Supplement Facts; Serving Size: 10 Drops (Approx. 0.5 mL). Servings per Container: Approx. 60&lt;br /&gt;Amount Per Serving % Daily Value&lt;br /&gt;Magnesium (as Magnesium Chloride) 40 mg 10%&lt;br /&gt;Chloride (as Magnesium Chloride) 64 mg 2%&lt;br /&gt;Other Ingredients: Deionized water and trace mineral complex.&lt;br /&gt;Directions: Add 10 drops to 8 oz. of water or other beverage daily as needed or as directed by your health care practitioner. Store in a cool, dry place.&lt;br /&gt;&lt;br /&gt;I have not used product as of yet with changed ingredients of original/as shown in AlkaMax alkaline support white squeeze bottle.&lt;br /&gt;but had to rate to post...heck this new may be better for all I know.&#x27;                                                                                                                                                                                                                                                                          </td><td>3.0              </td><td>0       </td></tr>\n",
              "<tr><td>5      </td><td>6.0               </td><td>b&#x27;Seems to work well!&#x27;                                                   </td><td>b&#x27;I recently picked this unit up at Bed and Bath where it was $99.00. With a 20% coupon the price was $80 (so comparison shop!) It\\&#x27;s easy to use and seems to work well. I agree with other reviewers about the noise level (loud like a tea kettle boiling), but I use this unit in the living room area so sleeping is not an issue. Having the 2 separate water reservoirs to fill is much easier, weight-wise, as I previously had another humidifier which had one large water reservoir and it was very heavy when full. The unit comes apart quite easily for cleaning and since frequent cleaning is recommended (I usually do it 1x per week, not daily) this is a definite plus. Additionally, one only needs to use vinegar to clean the inside reservoir, which is a lot cheaper than having to buy some kind of \\\\\\\\&quot;special\\\\\\\\&quot; cleaning solution. My one complaint is that it doesn\\&#x27;t, but should, have an automatic shut off when both tanks are empty.I have to remember to turn the unit off when I leave the house. My previous humidifiers all had this auto turn off; seems like every humidifier should.&#x27;</td><td>4.0              </td><td>1       </td></tr>\n",
              "<tr><td>6      </td><td>8.0               </td><td>b&#x27;deep heat?????&#x27;                                                        </td><td>b&#x27;Not sure what previous reviewer was talking about. The product uses ULTRASOUND waves for pain relief NOT heat.  After repeated use, the pain in my knee and shoulder was feeling great. I think you should re-read the description and reconsider your opinion. Great product sold by a great company.&#x27;                                                                                                                                                                                                                                                                                                                                                                                                                                                                                                                                                                                                                                                                                                                                                                                                                         </td><td>5.0              </td><td>1       </td></tr>\n",
              "<tr><td>7      </td><td>2.0               </td><td>b&#x27;Thermometer for a toddler&#x27;                                             </td><td>b&quot;The shippers were great....willing to consider speedier shipping options, but in the end the standard shipping arrived quickly enough. The thermometer is fun and easy to use, but with an inquisitive toddler, it would be nice to have the plastic cap attached to the body so that it doesn&#x27;t disappear.  Would buy it again from these sellers.&quot;                                                                                                                                                                                                                                                                                                                                                                                                                                                                                                                                                                                                                                                                                                                                                                            </td><td>4.0              </td><td>1       </td></tr>\n",
              "<tr><td>8      </td><td>2.0               </td><td>b&#x27;Wow!&#x27;                                                                  </td><td>b&quot;Man, for all you who know what I&#x27;m talking about, this is the best thing I&#x27;ve ever had on my back.  I suffer from back pain constantly and find myself waking up in the middle of the night pushing parts of my back and neck on the edges of walls on the corners of doors and sometimes lying down on tennis or racket balls to get pressure on those dang trigger points.  I opted for the body sticks package not knowing what they would do and it was a good thing.  They are like have racket balls on the ends of sticks to beat your muscle spasms and to lie down on them rolling around on your back. It is worth the money.  They use a device similar to this in physical therapy so if you get your doctor to write you a script for it, insurance may very well pay for it like mine did.  Even so, paid or not, buy this sucker.  Buy two, I thought, just in case it breaks and they for some reason stop manufacturing this thing.  Good stuff.&quot;                                                                                                                                                              </td><td>5.0              </td><td>1       </td></tr>\n",
              "<tr><td>9      </td><td>1.0               </td><td>b&#x27;Great cane for people with hand and wrist issues&#x27;                      </td><td>b&quot;I purchased this cane to assist me when I have to walk long distances.  I have rheumatoid arthritis that has particularly affected my low back and hips, and it sometimes makes walking difficult.  The problem with using a cane when you have RA is that RA doesn&#x27;t just affect your lower extremities.  My hands, wrists, and shoulders are also affected.  When I tried a normal cane, it was agonizingly painful for my hand and wrist in particular.  That made it not worth using, even though it did help my hip and back.  A friend with similar issues recommended this one, and the difference was amazing.  It is still a bit hard on my hand after awhile, but not to the point that would make it not worth using.  There really is no perfect solution for this circumstance short of a wheelchair, and I&#x27;m nowhere near ready for that yet!  The forearm rest makes it bearable to use this cane, and it does really help me to walk longer distances when I need to!  It is a great product, and I&#x27;m happy that I purchased it!&quot;                                                                               </td><td>4.0              </td><td>1       </td></tr>\n",
              "</tbody>\n",
              "</table>"
            ]
          },
          "metadata": {
            "tags": []
          }
        }
      ]
    },
    {
      "cell_type": "code",
      "metadata": {
        "id": "3AABfbkiXQf8",
        "outputId": "fa5461d9-3729-49ef-a792-95c71ace6c90",
        "colab": {
          "base_uri": "https://localhost:8080/"
        }
      },
      "source": [
        "import nltk\n",
        "from nltk.corpus import stopwords\n",
        "nltk.download('stopwords')\n",
        "stopwords = set(stopwords.words('english'))"
      ],
      "execution_count": 17,
      "outputs": [
        {
          "output_type": "stream",
          "text": [
            "[nltk_data] Downloading package stopwords to /root/nltk_data...\n",
            "[nltk_data]   Unzipping corpora/stopwords.zip.\n"
          ],
          "name": "stdout"
        }
      ]
    },
    {
      "cell_type": "code",
      "metadata": {
        "id": "M4SQFoDjXlVR"
      },
      "source": [
        "def tokenize(line):\n",
        "  tokenized = line.tokenize(\"\\\\W+\")\n",
        "  tokenized = tokenized.tolower()\n",
        "  tokenized = tokenized[(tokenized.nchar() >= 2) | (tokenized.isna()),:]\n",
        "  tokenized_filter = tokenized[(tokenized.isna()) | (~ tokenized.isin(stopwords)),:]\n",
        "  return tokenized"
      ],
      "execution_count": 18,
      "outputs": []
    },
    {
      "cell_type": "code",
      "metadata": {
        "id": "2MNmxMZkZs46"
      },
      "source": [
        "review_words = tokenize(h2o_df['reviews'])"
      ],
      "execution_count": 19,
      "outputs": []
    },
    {
      "cell_type": "code",
      "metadata": {
        "id": "iEB1GVgQcn2w"
      },
      "source": [
        "headline_words = tokenize(h2o_df['headline'])"
      ],
      "execution_count": 20,
      "outputs": []
    },
    {
      "cell_type": "code",
      "metadata": {
        "id": "dE9dMs3SeNBX",
        "outputId": "144b450a-702e-4809-d1a6-dc1f08fe0def",
        "colab": {
          "base_uri": "https://localhost:8080/",
          "height": 250
        }
      },
      "source": [
        "review_words.head()"
      ],
      "execution_count": 21,
      "outputs": [
        {
          "output_type": "display_data",
          "data": {
            "text/html": [
              "<table>\n",
              "<thead>\n",
              "<tr><th>C1       </th></tr>\n",
              "</thead>\n",
              "<tbody>\n",
              "<tr><td>these    </td></tr>\n",
              "<tr><td>glasses  </td></tr>\n",
              "<tr><td>are      </td></tr>\n",
              "<tr><td>an       </td></tr>\n",
              "<tr><td>excellent</td></tr>\n",
              "<tr><td>value    </td></tr>\n",
              "<tr><td>the      </td></tr>\n",
              "<tr><td>fit      </td></tr>\n",
              "<tr><td>is       </td></tr>\n",
              "<tr><td>good     </td></tr>\n",
              "</tbody>\n",
              "</table>"
            ]
          },
          "metadata": {
            "tags": []
          }
        },
        {
          "output_type": "execute_result",
          "data": {
            "text/plain": [
              ""
            ]
          },
          "metadata": {
            "tags": []
          },
          "execution_count": 21
        }
      ]
    },
    {
      "cell_type": "code",
      "metadata": {
        "id": "vXSJ9hlseQRp",
        "outputId": "377c22f9-5114-484c-9732-21050608cc95",
        "colab": {
          "base_uri": "https://localhost:8080/",
          "height": 250
        }
      },
      "source": [
        "headline_words.head()"
      ],
      "execution_count": 22,
      "outputs": [
        {
          "output_type": "display_data",
          "data": {
            "text/html": [
              "<table>\n",
              "<thead>\n",
              "<tr><th>C1       </th></tr>\n",
              "</thead>\n",
              "<tbody>\n",
              "<tr><td>these    </td></tr>\n",
              "<tr><td>glasses  </td></tr>\n",
              "<tr><td>are      </td></tr>\n",
              "<tr><td>an       </td></tr>\n",
              "<tr><td>excellent</td></tr>\n",
              "<tr><td>value    </td></tr>\n",
              "<tr><td>the      </td></tr>\n",
              "<tr><td>fit      </td></tr>\n",
              "<tr><td>is       </td></tr>\n",
              "<tr><td>good     </td></tr>\n",
              "</tbody>\n",
              "</table>"
            ]
          },
          "metadata": {
            "tags": []
          }
        },
        {
          "output_type": "execute_result",
          "data": {
            "text/plain": [
              ""
            ]
          },
          "metadata": {
            "tags": []
          },
          "execution_count": 22
        }
      ]
    },
    {
      "cell_type": "code",
      "metadata": {
        "id": "4Y9FenFqea_q",
        "outputId": "68dba60d-9700-4c1c-995b-08a0fd398ba1",
        "colab": {
          "base_uri": "https://localhost:8080/"
        }
      },
      "source": [
        "review_words.shape"
      ],
      "execution_count": 23,
      "outputs": [
        {
          "output_type": "execute_result",
          "data": {
            "text/plain": [
              "(5273828, 1)"
            ]
          },
          "metadata": {
            "tags": []
          },
          "execution_count": 23
        }
      ]
    },
    {
      "cell_type": "code",
      "metadata": {
        "id": "NfgD-mCKemF6",
        "outputId": "b9ca2e62-3364-47a9-9c5b-e6de43319b58",
        "colab": {
          "base_uri": "https://localhost:8080/"
        }
      },
      "source": [
        "headline_words.shape"
      ],
      "execution_count": 24,
      "outputs": [
        {
          "output_type": "execute_result",
          "data": {
            "text/plain": [
              "(420948, 1)"
            ]
          },
          "metadata": {
            "tags": []
          },
          "execution_count": 24
        }
      ]
    },
    {
      "cell_type": "code",
      "metadata": {
        "id": "EHlYTgW1NG6x"
      },
      "source": [
        "### apply word embedding, to preoduce dictionary of vectors for each words\n",
        "from h2o.estimators.word2vec import H2OWord2vecEstimator\n",
        "from h2o.estimators import H2OGradientBoostingEstimator, H2OXGBoostEstimator\n",
        "\n",
        "### define vector size \n",
        "vector_size = 100\n",
        "modelId = 'w2v_amazon.model'"
      ],
      "execution_count": 25,
      "outputs": []
    },
    {
      "cell_type": "code",
      "metadata": {
        "id": "gVmgTm2cN90U",
        "outputId": "5d44a919-b339-4896-cd5e-9e131912dc4c",
        "colab": {
          "base_uri": "https://localhost:8080/"
        }
      },
      "source": [
        "### apply the embedding via word2vec, to create vecotrs for eahc words \n",
        "\n",
        "vec_model = H2OWord2vecEstimator(vec_size = vector_size, model_id = modelId)\n",
        "vec_model.train(training_frame=review_words)"
      ],
      "execution_count": 26,
      "outputs": [
        {
          "output_type": "stream",
          "text": [
            "word2vec Model Build progress: |██████████████████████████████████████████| 100%\n"
          ],
          "name": "stdout"
        }
      ]
    },
    {
      "cell_type": "code",
      "metadata": {
        "id": "TuNuaAI8U954",
        "outputId": "f1df83dc-920b-41d3-fbfd-97c7582833ef",
        "colab": {
          "base_uri": "https://localhost:8080/",
          "height": 35
        }
      },
      "source": [
        "### save the word to vecotr model onto home local current directory\n",
        "h2o.save_model(vec_model, path='./', force=True)"
      ],
      "execution_count": 27,
      "outputs": [
        {
          "output_type": "execute_result",
          "data": {
            "application/vnd.google.colaboratory.intrinsic+json": {
              "type": "string"
            },
            "text/plain": [
              "'/content/w2v_amazon.model'"
            ]
          },
          "metadata": {
            "tags": []
          },
          "execution_count": 27
        }
      ]
    },
    {
      "cell_type": "code",
      "metadata": {
        "id": "06LhQFdYVSbX"
      },
      "source": [
        "### load the above created model\n",
        "vec_model=h2o.load_model('w2v_amazon.model')"
      ],
      "execution_count": 28,
      "outputs": []
    },
    {
      "cell_type": "code",
      "metadata": {
        "id": "13MCa7T2WB-D",
        "outputId": "654316d7-c7e0-4aac-e207-4ca66bfdbbc6",
        "colab": {
          "base_uri": "https://localhost:8080/"
        }
      },
      "source": [
        "### verify the word2vecotrs for some of the words\n",
        "vec_model.find_synonyms(\"perfumes\", count=5)"
      ],
      "execution_count": 29,
      "outputs": [
        {
          "output_type": "execute_result",
          "data": {
            "text/plain": [
              "OrderedDict([('scents', 0.673536479473114),\n",
              "             ('shampoos', 0.6668650507926941),\n",
              "             ('fragrances', 0.6611550450325012),\n",
              "             ('dyes', 0.6491435170173645),\n",
              "             ('odor', 0.6470993161201477)])"
            ]
          },
          "metadata": {
            "tags": []
          },
          "execution_count": 29
        }
      ]
    },
    {
      "cell_type": "code",
      "metadata": {
        "id": "VnX_rkkrXGs5",
        "outputId": "45cd6803-60c8-4eef-854d-356e7ae847e6",
        "colab": {
          "base_uri": "https://localhost:8080/"
        }
      },
      "source": [
        "vec_model.find_synonyms(\"toothpaste\", count=5)"
      ],
      "execution_count": 30,
      "outputs": [
        {
          "output_type": "execute_result",
          "data": {
            "text/plain": [
              "OrderedDict([('listerine', 0.7461536526679993),\n",
              "             ('mouthwash', 0.7360334396362305),\n",
              "             ('plax', 0.6893804669380188),\n",
              "             ('mentadent', 0.6744933724403381),\n",
              "             ('peroxide', 0.6492474675178528)])"
            ]
          },
          "metadata": {
            "tags": []
          },
          "execution_count": 30
        }
      ]
    },
    {
      "cell_type": "code",
      "metadata": {
        "id": "g_oT11ADXIzf",
        "outputId": "00774ee7-9e03-4fd0-e47d-2db1b430390e",
        "colab": {
          "base_uri": "https://localhost:8080/"
        }
      },
      "source": [
        "vec_model.find_synonyms(\"glasses\", count=5)"
      ],
      "execution_count": 31,
      "outputs": [
        {
          "output_type": "execute_result",
          "data": {
            "text/plain": [
              "OrderedDict([('sunglasses', 0.8603562712669373),\n",
              "             ('readers', 0.8181847929954529),\n",
              "             ('lenses', 0.793648898601532),\n",
              "             ('frames', 0.7778485417366028),\n",
              "             ('bifocal', 0.7615526914596558)])"
            ]
          },
          "metadata": {
            "tags": []
          },
          "execution_count": 31
        }
      ]
    },
    {
      "cell_type": "code",
      "metadata": {
        "id": "soLwVIdNYtpH"
      },
      "source": [
        "### apply the transform on to the model\n",
        "review_vectors = vec_model.transform(words=review_words, aggregate_method='AVERAGE')"
      ],
      "execution_count": 33,
      "outputs": []
    },
    {
      "cell_type": "code",
      "metadata": {
        "id": "ZeM0SbbWZQt6",
        "outputId": "557c6d9b-8314-4423-c827-3d76585f553b",
        "colab": {
          "base_uri": "https://localhost:8080/",
          "height": 270
        }
      },
      "source": [
        "review_vectors.head()"
      ],
      "execution_count": 34,
      "outputs": [
        {
          "output_type": "display_data",
          "data": {
            "text/html": [
              "<table>\n",
              "<thead>\n",
              "<tr><th style=\"text-align: right;\">       C1</th><th style=\"text-align: right;\">       C2</th><th style=\"text-align: right;\">       C3</th><th style=\"text-align: right;\">        C4</th><th style=\"text-align: right;\">        C5</th><th style=\"text-align: right;\">        C6</th><th style=\"text-align: right;\">        C7</th><th style=\"text-align: right;\">      C8</th><th style=\"text-align: right;\">        C9</th><th style=\"text-align: right;\">        C10</th><th style=\"text-align: right;\">        C11</th><th style=\"text-align: right;\">      C12</th><th style=\"text-align: right;\">         C13</th><th style=\"text-align: right;\">       C14</th><th style=\"text-align: right;\">        C15</th><th style=\"text-align: right;\">        C16</th><th style=\"text-align: right;\">        C17</th><th style=\"text-align: right;\">        C18</th><th style=\"text-align: right;\">      C19</th><th style=\"text-align: right;\">         C20</th><th style=\"text-align: right;\">         C21</th><th style=\"text-align: right;\">      C22</th><th style=\"text-align: right;\">        C23</th><th style=\"text-align: right;\">         C24</th><th style=\"text-align: right;\">         C25</th><th style=\"text-align: right;\">         C26</th><th style=\"text-align: right;\">        C27</th><th style=\"text-align: right;\">      C28</th><th style=\"text-align: right;\">      C29</th><th style=\"text-align: right;\">       C30</th><th style=\"text-align: right;\">        C31</th><th style=\"text-align: right;\">       C32</th><th style=\"text-align: right;\">       C33</th><th style=\"text-align: right;\">       C34</th><th style=\"text-align: right;\">        C35</th><th style=\"text-align: right;\">       C36</th><th style=\"text-align: right;\">       C37</th><th style=\"text-align: right;\">       C38</th><th style=\"text-align: right;\">       C39</th><th style=\"text-align: right;\">        C40</th><th style=\"text-align: right;\">       C41</th><th style=\"text-align: right;\">        C42</th><th style=\"text-align: right;\">       C43</th><th style=\"text-align: right;\">       C44</th><th style=\"text-align: right;\">         C45</th><th style=\"text-align: right;\">       C46</th><th style=\"text-align: right;\">        C47</th><th style=\"text-align: right;\">       C48</th><th style=\"text-align: right;\">       C49</th><th style=\"text-align: right;\">       C50</th><th style=\"text-align: right;\">     C51</th><th style=\"text-align: right;\">       C52</th><th style=\"text-align: right;\">        C53</th><th style=\"text-align: right;\">       C54</th><th style=\"text-align: right;\">        C55</th><th style=\"text-align: right;\">        C56</th><th style=\"text-align: right;\">       C57</th><th style=\"text-align: right;\">        C58</th><th style=\"text-align: right;\">       C59</th><th style=\"text-align: right;\">      C60</th><th style=\"text-align: right;\">        C61</th><th style=\"text-align: right;\">       C62</th><th style=\"text-align: right;\">         C63</th><th style=\"text-align: right;\">        C64</th><th style=\"text-align: right;\">        C65</th><th style=\"text-align: right;\">       C66</th><th style=\"text-align: right;\">      C67</th><th style=\"text-align: right;\">        C68</th><th style=\"text-align: right;\">       C69</th><th style=\"text-align: right;\">       C70</th><th style=\"text-align: right;\">      C71</th><th style=\"text-align: right;\">       C72</th><th style=\"text-align: right;\">      C73</th><th style=\"text-align: right;\">        C74</th><th style=\"text-align: right;\">       C75</th><th style=\"text-align: right;\">        C76</th><th style=\"text-align: right;\">      C77</th><th style=\"text-align: right;\">       C78</th><th style=\"text-align: right;\">        C79</th><th style=\"text-align: right;\">        C80</th><th style=\"text-align: right;\">       C81</th><th style=\"text-align: right;\">       C82</th><th style=\"text-align: right;\">       C83</th><th style=\"text-align: right;\">       C84</th><th style=\"text-align: right;\">       C85</th><th style=\"text-align: right;\">        C86</th><th style=\"text-align: right;\">       C87</th><th style=\"text-align: right;\">      C88</th><th style=\"text-align: right;\">       C89</th><th style=\"text-align: right;\">       C90</th><th style=\"text-align: right;\">       C91</th><th style=\"text-align: right;\">        C92</th><th style=\"text-align: right;\">        C93</th><th style=\"text-align: right;\">      C94</th><th style=\"text-align: right;\">        C95</th><th style=\"text-align: right;\">       C96</th><th style=\"text-align: right;\">        C97</th><th style=\"text-align: right;\">       C98</th><th style=\"text-align: right;\">      C99</th><th style=\"text-align: right;\">      C100</th></tr>\n",
              "</thead>\n",
              "<tbody>\n",
              "<tr><td style=\"text-align: right;\">0.137222 </td><td style=\"text-align: right;\">0.115583 </td><td style=\"text-align: right;\">0.172219 </td><td style=\"text-align: right;\"> 0.0569763</td><td style=\"text-align: right;\"> 0.0792718</td><td style=\"text-align: right;\">-0.0701947</td><td style=\"text-align: right;\">-0.0574682</td><td style=\"text-align: right;\">0.264816</td><td style=\"text-align: right;\">-0.126841 </td><td style=\"text-align: right;\"> 0.0372701 </td><td style=\"text-align: right;\"> 0.0197006 </td><td style=\"text-align: right;\">0.04092  </td><td style=\"text-align: right;\"> 0.0689601  </td><td style=\"text-align: right;\">0.00691406</td><td style=\"text-align: right;\"> 0.0520193 </td><td style=\"text-align: right;\">-0.0504224 </td><td style=\"text-align: right;\"> 0.103814  </td><td style=\"text-align: right;\"> 0.0261062 </td><td style=\"text-align: right;\">0.130535 </td><td style=\"text-align: right;\"> 0.0752233  </td><td style=\"text-align: right;\">-0.0213316  </td><td style=\"text-align: right;\">-0.256437</td><td style=\"text-align: right;\">-0.00447832</td><td style=\"text-align: right;\">-0.0688431  </td><td style=\"text-align: right;\"> 0.000506429</td><td style=\"text-align: right;\"> 0.0562167  </td><td style=\"text-align: right;\">-0.00107106</td><td style=\"text-align: right;\">0.118595 </td><td style=\"text-align: right;\">-0.217802</td><td style=\"text-align: right;\"> 0.0803445</td><td style=\"text-align: right;\">-0.0190915 </td><td style=\"text-align: right;\">-0.0557879</td><td style=\"text-align: right;\">-0.0700754</td><td style=\"text-align: right;\"> 0.0153211</td><td style=\"text-align: right;\"> 0.106421  </td><td style=\"text-align: right;\">-0.0489717</td><td style=\"text-align: right;\">-0.0587561</td><td style=\"text-align: right;\"> 0.0918784</td><td style=\"text-align: right;\"> 0.0225978</td><td style=\"text-align: right;\"> 0.0677318 </td><td style=\"text-align: right;\">-0.0953665</td><td style=\"text-align: right;\">-0.0233423 </td><td style=\"text-align: right;\">-0.0789354</td><td style=\"text-align: right;\"> 0.183255 </td><td style=\"text-align: right;\"> 0.0455004  </td><td style=\"text-align: right;\"> 0.0384083</td><td style=\"text-align: right;\">-0.0595764 </td><td style=\"text-align: right;\">-0.0394668</td><td style=\"text-align: right;\">-0.0627003</td><td style=\"text-align: right;\">-0.141261 </td><td style=\"text-align: right;\">0.144207</td><td style=\"text-align: right;\">-0.0641221</td><td style=\"text-align: right;\">-0.0288916 </td><td style=\"text-align: right;\">0.0214352 </td><td style=\"text-align: right;\">-0.025104  </td><td style=\"text-align: right;\"> 0.103534  </td><td style=\"text-align: right;\">-0.0183493</td><td style=\"text-align: right;\">-0.0114785 </td><td style=\"text-align: right;\"> 0.0478604</td><td style=\"text-align: right;\">0.117643 </td><td style=\"text-align: right;\"> 0.111063  </td><td style=\"text-align: right;\">-0.165793 </td><td style=\"text-align: right;\"> 0.071179   </td><td style=\"text-align: right;\"> 0.0147723 </td><td style=\"text-align: right;\"> 0.0165586 </td><td style=\"text-align: right;\">-0.0653587</td><td style=\"text-align: right;\">0.082973 </td><td style=\"text-align: right;\">-0.0143014 </td><td style=\"text-align: right;\">-0.0336733</td><td style=\"text-align: right;\"> 0.0505101</td><td style=\"text-align: right;\">0.0633497</td><td style=\"text-align: right;\"> 0.050679 </td><td style=\"text-align: right;\">0.0828305</td><td style=\"text-align: right;\"> 0.0717191 </td><td style=\"text-align: right;\"> 0.0174651</td><td style=\"text-align: right;\">-0.0121581 </td><td style=\"text-align: right;\">0.152695 </td><td style=\"text-align: right;\">-0.0676394</td><td style=\"text-align: right;\"> 0.0428186 </td><td style=\"text-align: right;\"> 0.0194882 </td><td style=\"text-align: right;\">0.00968325</td><td style=\"text-align: right;\">-0.0384011</td><td style=\"text-align: right;\">-0.0671563</td><td style=\"text-align: right;\">-0.0351003</td><td style=\"text-align: right;\"> 0.0843942</td><td style=\"text-align: right;\">-0.0475753 </td><td style=\"text-align: right;\">0.0310518 </td><td style=\"text-align: right;\">0.0518132</td><td style=\"text-align: right;\"> 0.0302793</td><td style=\"text-align: right;\"> 0.0365999</td><td style=\"text-align: right;\"> 0.0524276</td><td style=\"text-align: right;\">-0.0633831 </td><td style=\"text-align: right;\">-0.0216948 </td><td style=\"text-align: right;\">0.192114 </td><td style=\"text-align: right;\">-0.0802923 </td><td style=\"text-align: right;\">-0.179052 </td><td style=\"text-align: right;\">-0.172212  </td><td style=\"text-align: right;\">-0.0419707</td><td style=\"text-align: right;\">0.164748 </td><td style=\"text-align: right;\"> 0.0411342</td></tr>\n",
              "<tr><td style=\"text-align: right;\">0.122692 </td><td style=\"text-align: right;\">0.108548 </td><td style=\"text-align: right;\">0.0928803</td><td style=\"text-align: right;\"> 0.0120673</td><td style=\"text-align: right;\"> 0.0464922</td><td style=\"text-align: right;\">-0.0562122</td><td style=\"text-align: right;\">-0.0656326</td><td style=\"text-align: right;\">0.215495</td><td style=\"text-align: right;\">-0.0165786</td><td style=\"text-align: right;\">-0.00645024</td><td style=\"text-align: right;\">-0.0161077 </td><td style=\"text-align: right;\">0.0658393</td><td style=\"text-align: right;\"> 0.0139666  </td><td style=\"text-align: right;\">0.0877592 </td><td style=\"text-align: right;\"> 0.00472991</td><td style=\"text-align: right;\"> 0.0330163 </td><td style=\"text-align: right;\"> 0.02561   </td><td style=\"text-align: right;\"> 0.0339216 </td><td style=\"text-align: right;\">0.0449717</td><td style=\"text-align: right;\"> 0.0273878  </td><td style=\"text-align: right;\">-0.0510797  </td><td style=\"text-align: right;\">-0.295671</td><td style=\"text-align: right;\">-0.0612232 </td><td style=\"text-align: right;\">-0.0128371  </td><td style=\"text-align: right;\"> 0.0769703  </td><td style=\"text-align: right;\">-0.0372176  </td><td style=\"text-align: right;\">-0.0159504 </td><td style=\"text-align: right;\">0.0999549</td><td style=\"text-align: right;\">-0.221537</td><td style=\"text-align: right;\"> 0.0809917</td><td style=\"text-align: right;\"> 0.0547917 </td><td style=\"text-align: right;\">-0.0280364</td><td style=\"text-align: right;\">-0.0960602</td><td style=\"text-align: right;\">-0.0544372</td><td style=\"text-align: right;\"> 0.0443664 </td><td style=\"text-align: right;\">-0.0296253</td><td style=\"text-align: right;\">-0.0912359</td><td style=\"text-align: right;\"> 0.0930491</td><td style=\"text-align: right;\"> 0.10542  </td><td style=\"text-align: right;\"> 0.0479294 </td><td style=\"text-align: right;\">-0.0699413</td><td style=\"text-align: right;\"> 0.0652917 </td><td style=\"text-align: right;\">-0.0653718</td><td style=\"text-align: right;\"> 0.165309 </td><td style=\"text-align: right;\"> 0.0470647  </td><td style=\"text-align: right;\">-0.121329 </td><td style=\"text-align: right;\">-0.00692901</td><td style=\"text-align: right;\"> 0.0364388</td><td style=\"text-align: right;\">-0.122898 </td><td style=\"text-align: right;\">-0.12759  </td><td style=\"text-align: right;\">0.208731</td><td style=\"text-align: right;\">-0.0888714</td><td style=\"text-align: right;\"> 0.00556658</td><td style=\"text-align: right;\">0.0340843 </td><td style=\"text-align: right;\">-0.0223497 </td><td style=\"text-align: right;\"> 0.144821  </td><td style=\"text-align: right;\">-0.0894943</td><td style=\"text-align: right;\"> 0.00871597</td><td style=\"text-align: right;\"> 0.0882565</td><td style=\"text-align: right;\">0.0918612</td><td style=\"text-align: right;\"> 0.0135239 </td><td style=\"text-align: right;\">-0.0881577</td><td style=\"text-align: right;\"> 0.0778562  </td><td style=\"text-align: right;\"> 0.00688536</td><td style=\"text-align: right;\">-0.0300894 </td><td style=\"text-align: right;\">-0.0129628</td><td style=\"text-align: right;\">0.109207 </td><td style=\"text-align: right;\">-0.0217277 </td><td style=\"text-align: right;\">-0.0863877</td><td style=\"text-align: right;\"> 0.0651518</td><td style=\"text-align: right;\">0.0470751</td><td style=\"text-align: right;\"> 0.0137142</td><td style=\"text-align: right;\">0.117338 </td><td style=\"text-align: right;\">-0.035471  </td><td style=\"text-align: right;\">-0.034892 </td><td style=\"text-align: right;\"> 0.074157  </td><td style=\"text-align: right;\">0.12689  </td><td style=\"text-align: right;\">-0.0795374</td><td style=\"text-align: right;\"> 0.00893092</td><td style=\"text-align: right;\"> 0.0284777 </td><td style=\"text-align: right;\">0.111314  </td><td style=\"text-align: right;\">-0.0171356</td><td style=\"text-align: right;\">-0.0786387</td><td style=\"text-align: right;\">-0.145153 </td><td style=\"text-align: right;\"> 0.0279958</td><td style=\"text-align: right;\">-0.0857467 </td><td style=\"text-align: right;\">0.104402  </td><td style=\"text-align: right;\">0.128696 </td><td style=\"text-align: right;\"> 0.0690357</td><td style=\"text-align: right;\"> 0.0205333</td><td style=\"text-align: right;\"> 0.0194737</td><td style=\"text-align: right;\">-0.00615596</td><td style=\"text-align: right;\"> 0.0947211 </td><td style=\"text-align: right;\">0.115763 </td><td style=\"text-align: right;\">-0.0871309 </td><td style=\"text-align: right;\">-0.0839445</td><td style=\"text-align: right;\">-0.0791118 </td><td style=\"text-align: right;\"> 0.0481745</td><td style=\"text-align: right;\">0.0663742</td><td style=\"text-align: right;\"> 0.0809002</td></tr>\n",
              "<tr><td style=\"text-align: right;\">0.142968 </td><td style=\"text-align: right;\">0.0742791</td><td style=\"text-align: right;\">0.160406 </td><td style=\"text-align: right;\"> 0.0114594</td><td style=\"text-align: right;\"> 0.12253  </td><td style=\"text-align: right;\">-0.0872727</td><td style=\"text-align: right;\">-0.0699563</td><td style=\"text-align: right;\">0.168077</td><td style=\"text-align: right;\">-0.0218188</td><td style=\"text-align: right;\"> 0.0723845 </td><td style=\"text-align: right;\">-0.0512826 </td><td style=\"text-align: right;\">0.139991 </td><td style=\"text-align: right;\"> 0.0569815  </td><td style=\"text-align: right;\">0.103654  </td><td style=\"text-align: right;\"> 0.0149677 </td><td style=\"text-align: right;\">-0.023958  </td><td style=\"text-align: right;\"> 0.0338745 </td><td style=\"text-align: right;\">-0.0825918 </td><td style=\"text-align: right;\">0.0968323</td><td style=\"text-align: right;\"> 0.0553449  </td><td style=\"text-align: right;\"> 0.000686409</td><td style=\"text-align: right;\">-0.178395</td><td style=\"text-align: right;\">-0.0321664 </td><td style=\"text-align: right;\"> 0.0117005  </td><td style=\"text-align: right;\"> 0.00898672 </td><td style=\"text-align: right;\">-0.0525435  </td><td style=\"text-align: right;\"> 0.026963  </td><td style=\"text-align: right;\">0.16446  </td><td style=\"text-align: right;\">-0.164534</td><td style=\"text-align: right;\"> 0.0612147</td><td style=\"text-align: right;\"> 0.00892821</td><td style=\"text-align: right;\"> 0.0029699</td><td style=\"text-align: right;\">-0.108288 </td><td style=\"text-align: right;\">-0.0470918</td><td style=\"text-align: right;\"> 0.0313289 </td><td style=\"text-align: right;\">-0.078487 </td><td style=\"text-align: right;\">-0.035496 </td><td style=\"text-align: right;\"> 0.0247479</td><td style=\"text-align: right;\"> 0.0540638</td><td style=\"text-align: right;\">-0.0170584 </td><td style=\"text-align: right;\">-0.033797 </td><td style=\"text-align: right;\">-0.00777416</td><td style=\"text-align: right;\">-0.0116633</td><td style=\"text-align: right;\"> 0.125645 </td><td style=\"text-align: right;\">-0.00118757 </td><td style=\"text-align: right;\">-0.0379382</td><td style=\"text-align: right;\">-0.0545512 </td><td style=\"text-align: right;\">-0.0113112</td><td style=\"text-align: right;\">-0.0882311</td><td style=\"text-align: right;\">-0.114609 </td><td style=\"text-align: right;\">0.144785</td><td style=\"text-align: right;\">-0.0988031</td><td style=\"text-align: right;\">-0.00627526</td><td style=\"text-align: right;\">0.102101  </td><td style=\"text-align: right;\">-0.0330474 </td><td style=\"text-align: right;\"> 0.117139  </td><td style=\"text-align: right;\">-0.0341278</td><td style=\"text-align: right;\">-0.047236  </td><td style=\"text-align: right;\"> 0.0302714</td><td style=\"text-align: right;\">0.188194 </td><td style=\"text-align: right;\"> 0.0177518 </td><td style=\"text-align: right;\">-0.0591799</td><td style=\"text-align: right;\"> 0.157737   </td><td style=\"text-align: right;\"> 0.0216347 </td><td style=\"text-align: right;\">-0.065269  </td><td style=\"text-align: right;\">-0.0580102</td><td style=\"text-align: right;\">0.0581487</td><td style=\"text-align: right;\"> 0.0316922 </td><td style=\"text-align: right;\">-0.102229 </td><td style=\"text-align: right;\">-0.0123889</td><td style=\"text-align: right;\">0.0969897</td><td style=\"text-align: right;\"> 0.0857195</td><td style=\"text-align: right;\">0.0278306</td><td style=\"text-align: right;\"> 0.104052  </td><td style=\"text-align: right;\">-0.0566447</td><td style=\"text-align: right;\"> 0.0266112 </td><td style=\"text-align: right;\">0.0960539</td><td style=\"text-align: right;\">-0.0758801</td><td style=\"text-align: right;\"> 0.0332453 </td><td style=\"text-align: right;\">-0.0144418 </td><td style=\"text-align: right;\">0.169762  </td><td style=\"text-align: right;\">-0.0636586</td><td style=\"text-align: right;\"> 0.0265121</td><td style=\"text-align: right;\">-0.19488  </td><td style=\"text-align: right;\"> 0.0772886</td><td style=\"text-align: right;\">-0.015011  </td><td style=\"text-align: right;\">0.109137  </td><td style=\"text-align: right;\">0.0887782</td><td style=\"text-align: right;\"> 0.0466339</td><td style=\"text-align: right;\"> 0.102586 </td><td style=\"text-align: right;\"> 0.0670452</td><td style=\"text-align: right;\">-0.163695  </td><td style=\"text-align: right;\">-0.0127398 </td><td style=\"text-align: right;\">0.167928 </td><td style=\"text-align: right;\">-0.0896176 </td><td style=\"text-align: right;\">-0.164553 </td><td style=\"text-align: right;\">-0.0550749 </td><td style=\"text-align: right;\"> 0.0176373</td><td style=\"text-align: right;\">0.157681 </td><td style=\"text-align: right;\"> 0.11683  </td></tr>\n",
              "<tr><td style=\"text-align: right;\">0.2096   </td><td style=\"text-align: right;\">0.177676 </td><td style=\"text-align: right;\">0.276516 </td><td style=\"text-align: right;\">-0.213128 </td><td style=\"text-align: right;\">-0.045182 </td><td style=\"text-align: right;\">-0.0748436</td><td style=\"text-align: right;\">-0.188679 </td><td style=\"text-align: right;\">0.267056</td><td style=\"text-align: right;\">-0.123235 </td><td style=\"text-align: right;\">-0.123182  </td><td style=\"text-align: right;\"> 0.204238  </td><td style=\"text-align: right;\">0.157368 </td><td style=\"text-align: right;\"> 0.103422   </td><td style=\"text-align: right;\">0.0577136 </td><td style=\"text-align: right;\">-0.0310706 </td><td style=\"text-align: right;\">-0.156878  </td><td style=\"text-align: right;\">-0.00129108</td><td style=\"text-align: right;\"> 0.0920107 </td><td style=\"text-align: right;\">0.102773 </td><td style=\"text-align: right;\">-0.15345    </td><td style=\"text-align: right;\">-0.274706   </td><td style=\"text-align: right;\">-0.21033 </td><td style=\"text-align: right;\"> 0.0920886 </td><td style=\"text-align: right;\">-0.0583911  </td><td style=\"text-align: right;\">-0.0695628  </td><td style=\"text-align: right;\"> 0.184897   </td><td style=\"text-align: right;\">-0.175097  </td><td style=\"text-align: right;\">0.150086 </td><td style=\"text-align: right;\">-0.48452 </td><td style=\"text-align: right;\"> 0.0855363</td><td style=\"text-align: right;\">-0.055192  </td><td style=\"text-align: right;\">-0.0244086</td><td style=\"text-align: right;\"> 0.102094 </td><td style=\"text-align: right;\"> 0.145785 </td><td style=\"text-align: right;\"> 0.0128132 </td><td style=\"text-align: right;\">-0.102625 </td><td style=\"text-align: right;\">-0.20956  </td><td style=\"text-align: right;\">-0.0859426</td><td style=\"text-align: right;\">-0.163133 </td><td style=\"text-align: right;\"> 0.355339  </td><td style=\"text-align: right;\">-0.0124848</td><td style=\"text-align: right;\">-0.0266485 </td><td style=\"text-align: right;\">-0.189644 </td><td style=\"text-align: right;\">-0.0136696</td><td style=\"text-align: right;\">-0.13802    </td><td style=\"text-align: right;\"> 0.0118813</td><td style=\"text-align: right;\"> 0.136061  </td><td style=\"text-align: right;\">-0.146467 </td><td style=\"text-align: right;\">-0.222834 </td><td style=\"text-align: right;\"> 0.174656 </td><td style=\"text-align: right;\">0.175275</td><td style=\"text-align: right;\">-0.212595 </td><td style=\"text-align: right;\"> 0.154557  </td><td style=\"text-align: right;\">0.00873826</td><td style=\"text-align: right;\"> 0.206605  </td><td style=\"text-align: right;\">-0.00236053</td><td style=\"text-align: right;\"> 0.0201504</td><td style=\"text-align: right;\"> 0.0140764 </td><td style=\"text-align: right;\">-0.14914  </td><td style=\"text-align: right;\">0.0484427</td><td style=\"text-align: right;\">-0.0403605 </td><td style=\"text-align: right;\">-0.227139 </td><td style=\"text-align: right;\">-0.162882   </td><td style=\"text-align: right;\"> 0.294476  </td><td style=\"text-align: right;\"> 0.118188  </td><td style=\"text-align: right;\">-0.0916324</td><td style=\"text-align: right;\">0.124314 </td><td style=\"text-align: right;\">-0.0549472 </td><td style=\"text-align: right;\">-0.294272 </td><td style=\"text-align: right;\"> 0.0810284</td><td style=\"text-align: right;\">0.170626 </td><td style=\"text-align: right;\">-0.138556 </td><td style=\"text-align: right;\">0.294438 </td><td style=\"text-align: right;\"> 0.176641  </td><td style=\"text-align: right;\">-0.0176119</td><td style=\"text-align: right;\">-0.131456  </td><td style=\"text-align: right;\">0.0702167</td><td style=\"text-align: right;\">-0.183272 </td><td style=\"text-align: right;\"> 0.195557  </td><td style=\"text-align: right;\"> 0.0401966 </td><td style=\"text-align: right;\">0.339337  </td><td style=\"text-align: right;\">-0.0362502</td><td style=\"text-align: right;\"> 0.108756 </td><td style=\"text-align: right;\">-0.0228997</td><td style=\"text-align: right;\"> 0.0598536</td><td style=\"text-align: right;\">-0.090869  </td><td style=\"text-align: right;\">0.171889  </td><td style=\"text-align: right;\">0.275976 </td><td style=\"text-align: right;\">-0.0671414</td><td style=\"text-align: right;\">-0.0544083</td><td style=\"text-align: right;\"> 0.124508 </td><td style=\"text-align: right;\">-0.150349  </td><td style=\"text-align: right;\"> 0.0514965 </td><td style=\"text-align: right;\">0.0126578</td><td style=\"text-align: right;\">-0.289925  </td><td style=\"text-align: right;\">-0.259818 </td><td style=\"text-align: right;\"> 0.178651  </td><td style=\"text-align: right;\"> 0.0290352</td><td style=\"text-align: right;\">0.360326 </td><td style=\"text-align: right;\">-0.139308 </td></tr>\n",
              "<tr><td style=\"text-align: right;\">0.0626301</td><td style=\"text-align: right;\">0.126807 </td><td style=\"text-align: right;\">0.130195 </td><td style=\"text-align: right;\"> 0.016873 </td><td style=\"text-align: right;\"> 0.101479 </td><td style=\"text-align: right;\">-0.155231 </td><td style=\"text-align: right;\">-0.153967 </td><td style=\"text-align: right;\">0.406566</td><td style=\"text-align: right;\">-0.0825469</td><td style=\"text-align: right;\"> 0.0915175 </td><td style=\"text-align: right;\">-0.00728479</td><td style=\"text-align: right;\">0.0658561</td><td style=\"text-align: right;\"> 0.0062924  </td><td style=\"text-align: right;\">0.16953   </td><td style=\"text-align: right;\"> 0.0380496 </td><td style=\"text-align: right;\"> 0.00319333</td><td style=\"text-align: right;\"> 0.116801  </td><td style=\"text-align: right;\">-0.00822323</td><td style=\"text-align: right;\">0.0692968</td><td style=\"text-align: right;\">-0.0203381  </td><td style=\"text-align: right;\"> 0.155705   </td><td style=\"text-align: right;\">-0.214821</td><td style=\"text-align: right;\"> 0.0298617 </td><td style=\"text-align: right;\"> 0.0065346  </td><td style=\"text-align: right;\"> 0.198923   </td><td style=\"text-align: right;\"> 0.0750754  </td><td style=\"text-align: right;\"> 0.0225692 </td><td style=\"text-align: right;\">0.0566269</td><td style=\"text-align: right;\">-0.196215</td><td style=\"text-align: right;\"> 0.0270102</td><td style=\"text-align: right;\">-0.0578897 </td><td style=\"text-align: right;\">-0.0473687</td><td style=\"text-align: right;\">-0.0517445</td><td style=\"text-align: right;\">-0.168628 </td><td style=\"text-align: right;\"> 0.0359857 </td><td style=\"text-align: right;\">-0.0305779</td><td style=\"text-align: right;\"> 0.0680659</td><td style=\"text-align: right;\"> 0.110962 </td><td style=\"text-align: right;\"> 0.0756353</td><td style=\"text-align: right;\">-0.0369561 </td><td style=\"text-align: right;\">-0.0878788</td><td style=\"text-align: right;\">-0.154237  </td><td style=\"text-align: right;\">-0.0842444</td><td style=\"text-align: right;\"> 0.185295 </td><td style=\"text-align: right;\">-0.041089   </td><td style=\"text-align: right;\">-0.0752456</td><td style=\"text-align: right;\">-0.0691809 </td><td style=\"text-align: right;\">-0.0110303</td><td style=\"text-align: right;\">-0.127653 </td><td style=\"text-align: right;\">-0.0406766</td><td style=\"text-align: right;\">0.138534</td><td style=\"text-align: right;\">-0.0880628</td><td style=\"text-align: right;\">-0.105783  </td><td style=\"text-align: right;\">0.114884  </td><td style=\"text-align: right;\"> 0.00761798</td><td style=\"text-align: right;\"> 0.0390274 </td><td style=\"text-align: right;\"> 0.0229785</td><td style=\"text-align: right;\">-0.0238846 </td><td style=\"text-align: right;\"> 0.125963 </td><td style=\"text-align: right;\">0.122912 </td><td style=\"text-align: right;\">-0.14057   </td><td style=\"text-align: right;\">-0.0901455</td><td style=\"text-align: right;\">-0.000400779</td><td style=\"text-align: right;\"> 0.00601801</td><td style=\"text-align: right;\">-0.0166851 </td><td style=\"text-align: right;\"> 0.061007 </td><td style=\"text-align: right;\">0.112463 </td><td style=\"text-align: right;\"> 0.0305451 </td><td style=\"text-align: right;\">-0.0662827</td><td style=\"text-align: right;\">-0.033725 </td><td style=\"text-align: right;\">0.153377 </td><td style=\"text-align: right;\"> 0.0454982</td><td style=\"text-align: right;\">0.0226767</td><td style=\"text-align: right;\"> 0.013146  </td><td style=\"text-align: right;\"> 0.101961 </td><td style=\"text-align: right;\"> 0.0228005 </td><td style=\"text-align: right;\">0.113702 </td><td style=\"text-align: right;\"> 0.0910155</td><td style=\"text-align: right;\"> 0.010642  </td><td style=\"text-align: right;\">-0.0675314 </td><td style=\"text-align: right;\">0.127824  </td><td style=\"text-align: right;\"> 0.0348665</td><td style=\"text-align: right;\"> 0.0974542</td><td style=\"text-align: right;\">-0.146897 </td><td style=\"text-align: right;\">-0.0246275</td><td style=\"text-align: right;\"> 0.00439074</td><td style=\"text-align: right;\">0.0836875 </td><td style=\"text-align: right;\">0.0847606</td><td style=\"text-align: right;\"> 0.0624358</td><td style=\"text-align: right;\">-0.02585  </td><td style=\"text-align: right;\">-0.0887119</td><td style=\"text-align: right;\">-0.0605516 </td><td style=\"text-align: right;\">-0.00935856</td><td style=\"text-align: right;\">0.0630535</td><td style=\"text-align: right;\">-0.059736  </td><td style=\"text-align: right;\">-0.218024 </td><td style=\"text-align: right;\">-0.0235449 </td><td style=\"text-align: right;\"> 0.0190498</td><td style=\"text-align: right;\">0.0768014</td><td style=\"text-align: right;\">-0.123224 </td></tr>\n",
              "<tr><td style=\"text-align: right;\">0.13075  </td><td style=\"text-align: right;\">0.139654 </td><td style=\"text-align: right;\">0.172078 </td><td style=\"text-align: right;\"> 0.0286312</td><td style=\"text-align: right;\"> 0.120455 </td><td style=\"text-align: right;\">-0.0796384</td><td style=\"text-align: right;\">-0.0437741</td><td style=\"text-align: right;\">0.20934 </td><td style=\"text-align: right;\">-0.0742992</td><td style=\"text-align: right;\"> 0.0634611 </td><td style=\"text-align: right;\"> 0.00471283</td><td style=\"text-align: right;\">0.081207 </td><td style=\"text-align: right;\">-0.000618037</td><td style=\"text-align: right;\">0.0627246 </td><td style=\"text-align: right;\">-0.0220044 </td><td style=\"text-align: right;\">-0.0758107 </td><td style=\"text-align: right;\"> 0.0662574 </td><td style=\"text-align: right;\">-0.060991  </td><td style=\"text-align: right;\">0.0868191</td><td style=\"text-align: right;\"> 0.0470866  </td><td style=\"text-align: right;\"> 0.00522957 </td><td style=\"text-align: right;\">-0.215489</td><td style=\"text-align: right;\">-0.0485955 </td><td style=\"text-align: right;\">-0.0123371  </td><td style=\"text-align: right;\"> 0.0290404  </td><td style=\"text-align: right;\"> 0.000684645</td><td style=\"text-align: right;\">-0.00726271</td><td style=\"text-align: right;\">0.0996944</td><td style=\"text-align: right;\">-0.146767</td><td style=\"text-align: right;\"> 0.0612409</td><td style=\"text-align: right;\">-0.0492114 </td><td style=\"text-align: right;\">-0.017517 </td><td style=\"text-align: right;\">-0.0420453</td><td style=\"text-align: right;\">-0.0856084</td><td style=\"text-align: right;\"> 0.0243594 </td><td style=\"text-align: right;\">-0.100377 </td><td style=\"text-align: right;\">-0.0669424</td><td style=\"text-align: right;\"> 0.0870939</td><td style=\"text-align: right;\"> 0.0905796</td><td style=\"text-align: right;\"> 0.00503849</td><td style=\"text-align: right;\">-0.0993172</td><td style=\"text-align: right;\">-0.0357092 </td><td style=\"text-align: right;\">-0.0596968</td><td style=\"text-align: right;\"> 0.134164 </td><td style=\"text-align: right;\">-0.0214094  </td><td style=\"text-align: right;\">-0.0478316</td><td style=\"text-align: right;\">-0.0535499 </td><td style=\"text-align: right;\">-0.0248203</td><td style=\"text-align: right;\">-0.125564 </td><td style=\"text-align: right;\">-0.104437 </td><td style=\"text-align: right;\">0.192025</td><td style=\"text-align: right;\">-0.116863 </td><td style=\"text-align: right;\">-0.0930116 </td><td style=\"text-align: right;\">0.0719236 </td><td style=\"text-align: right;\"> 0.00473051</td><td style=\"text-align: right;\"> 0.068249  </td><td style=\"text-align: right;\">-0.0216978</td><td style=\"text-align: right;\"> 0.00629659</td><td style=\"text-align: right;\"> 0.134106 </td><td style=\"text-align: right;\">0.130899 </td><td style=\"text-align: right;\"> 0.046925  </td><td style=\"text-align: right;\">-0.0661847</td><td style=\"text-align: right;\"> 0.0762491  </td><td style=\"text-align: right;\">-0.0155742 </td><td style=\"text-align: right;\">-0.00418152</td><td style=\"text-align: right;\"> 0.0138882</td><td style=\"text-align: right;\">0.0397678</td><td style=\"text-align: right;\"> 0.0201651 </td><td style=\"text-align: right;\">-0.107262 </td><td style=\"text-align: right;\"> 0.0492572</td><td style=\"text-align: right;\">0.103883 </td><td style=\"text-align: right;\"> 0.0278678</td><td style=\"text-align: right;\">0.0593717</td><td style=\"text-align: right;\"> 0.0475381 </td><td style=\"text-align: right;\"> 0.0171683</td><td style=\"text-align: right;\"> 0.0170907 </td><td style=\"text-align: right;\">0.0943834</td><td style=\"text-align: right;\">-0.0487702</td><td style=\"text-align: right;\"> 0.0263165 </td><td style=\"text-align: right;\"> 0.0366465 </td><td style=\"text-align: right;\">0.126617  </td><td style=\"text-align: right;\">-0.0339458</td><td style=\"text-align: right;\"> 0.01086  </td><td style=\"text-align: right;\">-0.175551 </td><td style=\"text-align: right;\"> 0.061595 </td><td style=\"text-align: right;\">-0.0791027 </td><td style=\"text-align: right;\">0.0683543 </td><td style=\"text-align: right;\">0.143595 </td><td style=\"text-align: right;\"> 0.0558375</td><td style=\"text-align: right;\"> 0.0807868</td><td style=\"text-align: right;\"> 0.0483459</td><td style=\"text-align: right;\">-0.0956113 </td><td style=\"text-align: right;\"> 0.0640084 </td><td style=\"text-align: right;\">0.115195 </td><td style=\"text-align: right;\">-0.00954892</td><td style=\"text-align: right;\">-0.147301 </td><td style=\"text-align: right;\">-0.00100108</td><td style=\"text-align: right;\">-0.0202444</td><td style=\"text-align: right;\">0.112041 </td><td style=\"text-align: right;\">-0.0292605</td></tr>\n",
              "<tr><td style=\"text-align: right;\">0.0979981</td><td style=\"text-align: right;\">0.101348 </td><td style=\"text-align: right;\">0.0750059</td><td style=\"text-align: right;\"> 0.0518149</td><td style=\"text-align: right;\"> 0.0870778</td><td style=\"text-align: right;\">-0.104619 </td><td style=\"text-align: right;\">-0.0506312</td><td style=\"text-align: right;\">0.219862</td><td style=\"text-align: right;\">-0.0729531</td><td style=\"text-align: right;\"> 0.0302932 </td><td style=\"text-align: right;\">-0.0447922 </td><td style=\"text-align: right;\">0.0502722</td><td style=\"text-align: right;\"> 0.0133541  </td><td style=\"text-align: right;\">0.0535281 </td><td style=\"text-align: right;\"> 0.0438976 </td><td style=\"text-align: right;\">-0.0495539 </td><td style=\"text-align: right;\"> 0.102699  </td><td style=\"text-align: right;\">-0.0689137 </td><td style=\"text-align: right;\">0.143018 </td><td style=\"text-align: right;\">-0.000828844</td><td style=\"text-align: right;\"> 0.0909695  </td><td style=\"text-align: right;\">-0.207799</td><td style=\"text-align: right;\">-0.119354  </td><td style=\"text-align: right;\">-0.00820956 </td><td style=\"text-align: right;\"> 0.0862776  </td><td style=\"text-align: right;\"> 0.0485463  </td><td style=\"text-align: right;\">-0.042938  </td><td style=\"text-align: right;\">0.107212 </td><td style=\"text-align: right;\">-0.21548 </td><td style=\"text-align: right;\">-0.0150439</td><td style=\"text-align: right;\"> 0.012874  </td><td style=\"text-align: right;\">-0.0758553</td><td style=\"text-align: right;\">-0.0609429</td><td style=\"text-align: right;\">-0.0861171</td><td style=\"text-align: right;\">-0.00875373</td><td style=\"text-align: right;\">-0.072199 </td><td style=\"text-align: right;\">-0.0883415</td><td style=\"text-align: right;\"> 0.0773664</td><td style=\"text-align: right;\"> 0.0721034</td><td style=\"text-align: right;\"> 0.0651225 </td><td style=\"text-align: right;\">-0.127098 </td><td style=\"text-align: right;\"> 0.0630907 </td><td style=\"text-align: right;\">-0.0025614</td><td style=\"text-align: right;\"> 0.0726645</td><td style=\"text-align: right;\"> 0.00802816 </td><td style=\"text-align: right;\">-0.0478526</td><td style=\"text-align: right;\">-0.0348677 </td><td style=\"text-align: right;\">-0.0179062</td><td style=\"text-align: right;\">-0.100591 </td><td style=\"text-align: right;\">-0.162705 </td><td style=\"text-align: right;\">0.210081</td><td style=\"text-align: right;\">-0.0878417</td><td style=\"text-align: right;\">-0.0826705 </td><td style=\"text-align: right;\">0.0924134 </td><td style=\"text-align: right;\"> 0.090231  </td><td style=\"text-align: right;\"> 0.12224   </td><td style=\"text-align: right;\">-0.0438287</td><td style=\"text-align: right;\"> 0.117967  </td><td style=\"text-align: right;\"> 0.0637744</td><td style=\"text-align: right;\">0.201169 </td><td style=\"text-align: right;\">-0.00422142</td><td style=\"text-align: right;\">-0.0881254</td><td style=\"text-align: right;\"> 0.0271353  </td><td style=\"text-align: right;\"> 0.0382735 </td><td style=\"text-align: right;\">-0.00197718</td><td style=\"text-align: right;\">-0.0198204</td><td style=\"text-align: right;\">0.0607964</td><td style=\"text-align: right;\">-0.0110545 </td><td style=\"text-align: right;\">-0.0351865</td><td style=\"text-align: right;\"> 0.0496943</td><td style=\"text-align: right;\">0.0972779</td><td style=\"text-align: right;\"> 0.0783771</td><td style=\"text-align: right;\">0.0861033</td><td style=\"text-align: right;\">-0.00650797</td><td style=\"text-align: right;\">-0.0102351</td><td style=\"text-align: right;\">-0.012753  </td><td style=\"text-align: right;\">0.144535 </td><td style=\"text-align: right;\">-0.0880362</td><td style=\"text-align: right;\"> 0.00457738</td><td style=\"text-align: right;\"> 0.0146762 </td><td style=\"text-align: right;\">0.0507509 </td><td style=\"text-align: right;\">-0.0466019</td><td style=\"text-align: right;\">-0.0510971</td><td style=\"text-align: right;\">-0.0686426</td><td style=\"text-align: right;\"> 0.0781431</td><td style=\"text-align: right;\">-0.110013  </td><td style=\"text-align: right;\">0.00331568</td><td style=\"text-align: right;\">0.0551486</td><td style=\"text-align: right;\">-0.0177127</td><td style=\"text-align: right;\"> 0.0346767</td><td style=\"text-align: right;\"> 0.0520159</td><td style=\"text-align: right;\">-0.0470497 </td><td style=\"text-align: right;\">-0.059332  </td><td style=\"text-align: right;\">0.202796 </td><td style=\"text-align: right;\">-0.0650292 </td><td style=\"text-align: right;\">-0.152551 </td><td style=\"text-align: right;\">-0.0444725 </td><td style=\"text-align: right;\">-0.0353221</td><td style=\"text-align: right;\">0.0596988</td><td style=\"text-align: right;\">-0.0179593</td></tr>\n",
              "<tr><td style=\"text-align: right;\">0.153204 </td><td style=\"text-align: right;\">0.148385 </td><td style=\"text-align: right;\">0.13946  </td><td style=\"text-align: right;\"> 0.0472129</td><td style=\"text-align: right;\"> 0.0946031</td><td style=\"text-align: right;\">-0.0857547</td><td style=\"text-align: right;\">-0.0442527</td><td style=\"text-align: right;\">0.227425</td><td style=\"text-align: right;\">-0.0191234</td><td style=\"text-align: right;\">-0.0189285 </td><td style=\"text-align: right;\"> 0.0255732 </td><td style=\"text-align: right;\">0.0492857</td><td style=\"text-align: right;\"> 0.0475714  </td><td style=\"text-align: right;\">0.0447048 </td><td style=\"text-align: right;\"> 0.0169268 </td><td style=\"text-align: right;\">-0.0959539 </td><td style=\"text-align: right;\"> 0.0532552 </td><td style=\"text-align: right;\">-0.0863216 </td><td style=\"text-align: right;\">0.10944  </td><td style=\"text-align: right;\"> 0.0302428  </td><td style=\"text-align: right;\">-0.0162661  </td><td style=\"text-align: right;\">-0.22462 </td><td style=\"text-align: right;\">-0.083825  </td><td style=\"text-align: right;\"> 0.012825   </td><td style=\"text-align: right;\"> 0.00480149 </td><td style=\"text-align: right;\"> 0.0378606  </td><td style=\"text-align: right;\"> 0.00313209</td><td style=\"text-align: right;\">0.0784633</td><td style=\"text-align: right;\">-0.163685</td><td style=\"text-align: right;\"> 0.0798157</td><td style=\"text-align: right;\"> 0.0129365 </td><td style=\"text-align: right;\">-0.0414716</td><td style=\"text-align: right;\">-0.0565136</td><td style=\"text-align: right;\">-0.0689486</td><td style=\"text-align: right;\"> 0.0547431 </td><td style=\"text-align: right;\">-0.0751133</td><td style=\"text-align: right;\">-0.0534636</td><td style=\"text-align: right;\"> 0.0574853</td><td style=\"text-align: right;\"> 0.0732438</td><td style=\"text-align: right;\"> 0.0298127 </td><td style=\"text-align: right;\">-0.0594855</td><td style=\"text-align: right;\"> 0.0594759 </td><td style=\"text-align: right;\">-0.0891099</td><td style=\"text-align: right;\"> 0.110774 </td><td style=\"text-align: right;\">-0.0174584  </td><td style=\"text-align: right;\">-0.0288389</td><td style=\"text-align: right;\">-0.0306916 </td><td style=\"text-align: right;\">-0.0291776</td><td style=\"text-align: right;\">-0.102718 </td><td style=\"text-align: right;\">-0.151704 </td><td style=\"text-align: right;\">0.168603</td><td style=\"text-align: right;\">-0.0744969</td><td style=\"text-align: right;\">-0.0864446 </td><td style=\"text-align: right;\">0.0526603 </td><td style=\"text-align: right;\">-0.038206  </td><td style=\"text-align: right;\"> 0.157877  </td><td style=\"text-align: right;\">-0.0261321</td><td style=\"text-align: right;\"> 0.00719404</td><td style=\"text-align: right;\"> 0.0490574</td><td style=\"text-align: right;\">0.184451 </td><td style=\"text-align: right;\"> 0.0128334 </td><td style=\"text-align: right;\">-0.08106  </td><td style=\"text-align: right;\"> 0.0657595  </td><td style=\"text-align: right;\"> 0.0123842 </td><td style=\"text-align: right;\"> 0.0182222 </td><td style=\"text-align: right;\">-0.0405839</td><td style=\"text-align: right;\">0.0607763</td><td style=\"text-align: right;\">-0.00668073</td><td style=\"text-align: right;\">-0.141646 </td><td style=\"text-align: right;\"> 0.0110707</td><td style=\"text-align: right;\">0.109705 </td><td style=\"text-align: right;\"> 0.0948252</td><td style=\"text-align: right;\">0.117275 </td><td style=\"text-align: right;\"> 0.0411354 </td><td style=\"text-align: right;\">-0.0331181</td><td style=\"text-align: right;\"> 0.00253247</td><td style=\"text-align: right;\">0.113964 </td><td style=\"text-align: right;\">-0.0329304</td><td style=\"text-align: right;\">-0.00909539</td><td style=\"text-align: right;\"> 0.0473056 </td><td style=\"text-align: right;\">0.156388  </td><td style=\"text-align: right;\">-0.054214 </td><td style=\"text-align: right;\">-0.0311135</td><td style=\"text-align: right;\">-0.049593 </td><td style=\"text-align: right;\"> 0.106849 </td><td style=\"text-align: right;\">-0.0456326 </td><td style=\"text-align: right;\">0.0836845 </td><td style=\"text-align: right;\">0.107159 </td><td style=\"text-align: right;\"> 0.0452799</td><td style=\"text-align: right;\"> 0.0645329</td><td style=\"text-align: right;\"> 0.0020185</td><td style=\"text-align: right;\">-0.0715932 </td><td style=\"text-align: right;\">-0.0556652 </td><td style=\"text-align: right;\">0.135935 </td><td style=\"text-align: right;\">-0.0414724 </td><td style=\"text-align: right;\">-0.135423 </td><td style=\"text-align: right;\">-0.0759807 </td><td style=\"text-align: right;\">-0.0141295</td><td style=\"text-align: right;\">0.122858 </td><td style=\"text-align: right;\"> 0.048554 </td></tr>\n",
              "<tr><td style=\"text-align: right;\">0.0810841</td><td style=\"text-align: right;\">0.0983929</td><td style=\"text-align: right;\">0.0878222</td><td style=\"text-align: right;\"> 0.0366709</td><td style=\"text-align: right;\"> 0.0750156</td><td style=\"text-align: right;\">-0.081728 </td><td style=\"text-align: right;\">-0.0941071</td><td style=\"text-align: right;\">0.205436</td><td style=\"text-align: right;\">-0.0375306</td><td style=\"text-align: right;\"> 0.0570663 </td><td style=\"text-align: right;\"> 0.0451933 </td><td style=\"text-align: right;\">0.095489 </td><td style=\"text-align: right;\"> 0.0260158  </td><td style=\"text-align: right;\">0.0199421 </td><td style=\"text-align: right;\"> 0.0784389 </td><td style=\"text-align: right;\"> 0.00994762</td><td style=\"text-align: right;\"> 0.0547685 </td><td style=\"text-align: right;\">-0.0700528 </td><td style=\"text-align: right;\">0.0599805</td><td style=\"text-align: right;\"> 0.0724743  </td><td style=\"text-align: right;\">-0.0132104  </td><td style=\"text-align: right;\">-0.223446</td><td style=\"text-align: right;\">-0.0673548 </td><td style=\"text-align: right;\"> 0.000442313</td><td style=\"text-align: right;\"> 0.0367425  </td><td style=\"text-align: right;\">-0.00706792 </td><td style=\"text-align: right;\">-0.0168192 </td><td style=\"text-align: right;\">0.119371 </td><td style=\"text-align: right;\">-0.208061</td><td style=\"text-align: right;\"> 0.0238111</td><td style=\"text-align: right;\">-0.031631  </td><td style=\"text-align: right;\">-0.0643017</td><td style=\"text-align: right;\">-0.0842288</td><td style=\"text-align: right;\">-0.060619 </td><td style=\"text-align: right;\"> 0.0358701 </td><td style=\"text-align: right;\">-0.0905819</td><td style=\"text-align: right;\">-0.0716328</td><td style=\"text-align: right;\"> 0.0128841</td><td style=\"text-align: right;\"> 0.103654 </td><td style=\"text-align: right;\"> 0.0505817 </td><td style=\"text-align: right;\">-0.0977753</td><td style=\"text-align: right;\"> 0.0573299 </td><td style=\"text-align: right;\">-0.0170653</td><td style=\"text-align: right;\"> 0.15967  </td><td style=\"text-align: right;\"> 0.000847472</td><td style=\"text-align: right;\">-0.0017818</td><td style=\"text-align: right;\"> 0.0125368 </td><td style=\"text-align: right;\">-0.0265713</td><td style=\"text-align: right;\">-0.0729008</td><td style=\"text-align: right;\">-0.124589 </td><td style=\"text-align: right;\">0.177873</td><td style=\"text-align: right;\">-0.0833243</td><td style=\"text-align: right;\">-0.0735446 </td><td style=\"text-align: right;\">0.0579862 </td><td style=\"text-align: right;\">-0.00976681</td><td style=\"text-align: right;\"> 0.0944642 </td><td style=\"text-align: right;\">-0.0558192</td><td style=\"text-align: right;\"> 0.0347471 </td><td style=\"text-align: right;\"> 0.0495811</td><td style=\"text-align: right;\">0.169656 </td><td style=\"text-align: right;\"> 0.00887781</td><td style=\"text-align: right;\">-0.0370562</td><td style=\"text-align: right;\"> 0.0923524  </td><td style=\"text-align: right;\"> 0.0225231 </td><td style=\"text-align: right;\">-0.0501373 </td><td style=\"text-align: right;\">-0.0234993</td><td style=\"text-align: right;\">0.0867613</td><td style=\"text-align: right;\">-0.0128557 </td><td style=\"text-align: right;\">-0.0356261</td><td style=\"text-align: right;\"> 0.0834583</td><td style=\"text-align: right;\">0.126254 </td><td style=\"text-align: right;\"> 0.0828689</td><td style=\"text-align: right;\">0.103016 </td><td style=\"text-align: right;\"> 0.0399333 </td><td style=\"text-align: right;\"> 0.0257776</td><td style=\"text-align: right;\"> 0.0639252 </td><td style=\"text-align: right;\">0.190311 </td><td style=\"text-align: right;\">-0.0410111</td><td style=\"text-align: right;\"> 0.0263699 </td><td style=\"text-align: right;\"> 0.0232538 </td><td style=\"text-align: right;\">0.136042  </td><td style=\"text-align: right;\">-0.0826214</td><td style=\"text-align: right;\">-0.0396102</td><td style=\"text-align: right;\">-0.0912433</td><td style=\"text-align: right;\"> 0.100314 </td><td style=\"text-align: right;\">-0.119502  </td><td style=\"text-align: right;\">0.0515929 </td><td style=\"text-align: right;\">0.03851  </td><td style=\"text-align: right;\"> 0.0248161</td><td style=\"text-align: right;\"> 0.0808391</td><td style=\"text-align: right;\"> 0.0237151</td><td style=\"text-align: right;\">-0.0720891 </td><td style=\"text-align: right;\"> 0.0216588 </td><td style=\"text-align: right;\">0.151795 </td><td style=\"text-align: right;\">-0.0258315 </td><td style=\"text-align: right;\">-0.160452 </td><td style=\"text-align: right;\">-0.0595155 </td><td style=\"text-align: right;\">-0.0165779</td><td style=\"text-align: right;\">0.104787 </td><td style=\"text-align: right;\"> 0.0119941</td></tr>\n",
              "<tr><td style=\"text-align: right;\">0.10803  </td><td style=\"text-align: right;\">0.113233 </td><td style=\"text-align: right;\">0.0591104</td><td style=\"text-align: right;\"> 0.0454265</td><td style=\"text-align: right;\"> 0.101606 </td><td style=\"text-align: right;\">-0.0408791</td><td style=\"text-align: right;\">-0.0712747</td><td style=\"text-align: right;\">0.165614</td><td style=\"text-align: right;\">-0.0138481</td><td style=\"text-align: right;\"> 0.0901899 </td><td style=\"text-align: right;\">-0.0150355 </td><td style=\"text-align: right;\">0.0893796</td><td style=\"text-align: right;\">-0.00772034 </td><td style=\"text-align: right;\">0.0492968 </td><td style=\"text-align: right;\"> 0.00308092</td><td style=\"text-align: right;\">-0.0454129 </td><td style=\"text-align: right;\"> 0.0704459 </td><td style=\"text-align: right;\">-0.0427783 </td><td style=\"text-align: right;\">0.0645295</td><td style=\"text-align: right;\"> 0.0368903  </td><td style=\"text-align: right;\"> 0.0145296  </td><td style=\"text-align: right;\">-0.235837</td><td style=\"text-align: right;\">-0.0708448 </td><td style=\"text-align: right;\"> 0.00105701 </td><td style=\"text-align: right;\"> 0.0306673  </td><td style=\"text-align: right;\">-0.0140228  </td><td style=\"text-align: right;\">-0.0294444 </td><td style=\"text-align: right;\">0.116809 </td><td style=\"text-align: right;\">-0.187515</td><td style=\"text-align: right;\"> 0.0498606</td><td style=\"text-align: right;\">-0.019991  </td><td style=\"text-align: right;\">-0.0679947</td><td style=\"text-align: right;\">-0.0712887</td><td style=\"text-align: right;\">-0.0823039</td><td style=\"text-align: right;\"> 0.00170135</td><td style=\"text-align: right;\">-0.0703777</td><td style=\"text-align: right;\">-0.0487114</td><td style=\"text-align: right;\"> 0.0587763</td><td style=\"text-align: right;\"> 0.0737196</td><td style=\"text-align: right;\"> 0.00734738</td><td style=\"text-align: right;\">-0.0963337</td><td style=\"text-align: right;\"> 0.00471263</td><td style=\"text-align: right;\">-0.024606 </td><td style=\"text-align: right;\"> 0.113277 </td><td style=\"text-align: right;\"> 0.0348925  </td><td style=\"text-align: right;\">-0.0130295</td><td style=\"text-align: right;\">-0.0575264 </td><td style=\"text-align: right;\"> 0.0625373</td><td style=\"text-align: right;\">-0.132125 </td><td style=\"text-align: right;\">-0.18266  </td><td style=\"text-align: right;\">0.181239</td><td style=\"text-align: right;\">-0.0841221</td><td style=\"text-align: right;\">-0.0698063 </td><td style=\"text-align: right;\">0.0710529 </td><td style=\"text-align: right;\">-0.0202315 </td><td style=\"text-align: right;\"> 0.111991  </td><td style=\"text-align: right;\">-0.0445501</td><td style=\"text-align: right;\"> 0.0939234 </td><td style=\"text-align: right;\"> 0.0525308</td><td style=\"text-align: right;\">0.167355 </td><td style=\"text-align: right;\"> 0.0713977 </td><td style=\"text-align: right;\">-0.0687568</td><td style=\"text-align: right;\"> 0.0982793  </td><td style=\"text-align: right;\"> 0.0537723 </td><td style=\"text-align: right;\"> 0.0200467 </td><td style=\"text-align: right;\"> 0.0107599</td><td style=\"text-align: right;\">0.109996 </td><td style=\"text-align: right;\">-0.0284748 </td><td style=\"text-align: right;\">-0.0417611</td><td style=\"text-align: right;\"> 0.057167 </td><td style=\"text-align: right;\">0.0931835</td><td style=\"text-align: right;\"> 0.0801345</td><td style=\"text-align: right;\">0.0994689</td><td style=\"text-align: right;\"> 0.00640396</td><td style=\"text-align: right;\">-0.0182263</td><td style=\"text-align: right;\"> 0.0749476 </td><td style=\"text-align: right;\">0.199629 </td><td style=\"text-align: right;\">-0.0821878</td><td style=\"text-align: right;\"> 0.0107776 </td><td style=\"text-align: right;\"> 0.00730485</td><td style=\"text-align: right;\">0.0933344 </td><td style=\"text-align: right;\">-0.0932285</td><td style=\"text-align: right;\">-0.071254 </td><td style=\"text-align: right;\">-0.121134 </td><td style=\"text-align: right;\"> 0.07035  </td><td style=\"text-align: right;\">-0.0572775 </td><td style=\"text-align: right;\">0.0597099 </td><td style=\"text-align: right;\">0.0225946</td><td style=\"text-align: right;\"> 0.0429855</td><td style=\"text-align: right;\"> 0.0576924</td><td style=\"text-align: right;\"> 0.0557077</td><td style=\"text-align: right;\">-0.105219  </td><td style=\"text-align: right;\"> 0.0303827 </td><td style=\"text-align: right;\">0.182585 </td><td style=\"text-align: right;\">-0.0293144 </td><td style=\"text-align: right;\">-0.142809 </td><td style=\"text-align: right;\">-0.0975149 </td><td style=\"text-align: right;\">-0.0478109</td><td style=\"text-align: right;\">0.0429077</td><td style=\"text-align: right;\"> 0.0152282</td></tr>\n",
              "</tbody>\n",
              "</table>"
            ]
          },
          "metadata": {
            "tags": []
          }
        },
        {
          "output_type": "execute_result",
          "data": {
            "text/plain": [
              ""
            ]
          },
          "metadata": {
            "tags": []
          },
          "execution_count": 34
        }
      ]
    },
    {
      "cell_type": "code",
      "metadata": {
        "id": "kBLokaxt0ZA6",
        "outputId": "6e403412-83aa-436d-8550-9f861fd65ace",
        "colab": {
          "base_uri": "https://localhost:8080/"
        }
      },
      "source": [
        "review_vectors.shape"
      ],
      "execution_count": 35,
      "outputs": [
        {
          "output_type": "execute_result",
          "data": {
            "text/plain": [
              "(85981, 100)"
            ]
          },
          "metadata": {
            "tags": []
          },
          "execution_count": 35
        }
      ]
    },
    {
      "cell_type": "code",
      "metadata": {
        "id": "PkY4JtIw0Y7Z"
      },
      "source": [
        "h2o_extended_df =h2o_df.cbind(review_vectors)"
      ],
      "execution_count": 37,
      "outputs": []
    },
    {
      "cell_type": "code",
      "metadata": {
        "id": "p1_M3okp1Ach",
        "outputId": "55526f10-b410-4259-e24d-9b277b3ba4bc",
        "colab": {
          "base_uri": "https://localhost:8080/",
          "height": 1000
        }
      },
      "source": [
        "### bind and extend the original H2o Dataframe\n",
        "h2o_extended_df.head()"
      ],
      "execution_count": 38,
      "outputs": [
        {
          "output_type": "display_data",
          "data": {
            "text/html": [
              "<table>\n",
              "<thead>\n",
              "<tr><th style=\"text-align: right;\">  votes</th><th>headline                                                                 </th><th>reviews                                                                                                                                                                                                                                                                                                                                                                                                                                                                                                                                                                                                                                                                                                                                                                                                                                                                                                                                                                                                                                                                                                                           </th><th style=\"text-align: right;\">  rating</th><th style=\"text-align: right;\">  target</th><th style=\"text-align: right;\">       C1</th><th style=\"text-align: right;\">       C2</th><th style=\"text-align: right;\">       C3</th><th style=\"text-align: right;\">        C4</th><th style=\"text-align: right;\">        C5</th><th style=\"text-align: right;\">        C6</th><th style=\"text-align: right;\">        C7</th><th style=\"text-align: right;\">      C8</th><th style=\"text-align: right;\">        C9</th><th style=\"text-align: right;\">        C10</th><th style=\"text-align: right;\">        C11</th><th style=\"text-align: right;\">      C12</th><th style=\"text-align: right;\">         C13</th><th style=\"text-align: right;\">       C14</th><th style=\"text-align: right;\">        C15</th><th style=\"text-align: right;\">        C16</th><th style=\"text-align: right;\">        C17</th><th style=\"text-align: right;\">        C18</th><th style=\"text-align: right;\">      C19</th><th style=\"text-align: right;\">         C20</th><th style=\"text-align: right;\">         C21</th><th style=\"text-align: right;\">      C22</th><th style=\"text-align: right;\">        C23</th><th style=\"text-align: right;\">         C24</th><th style=\"text-align: right;\">         C25</th><th style=\"text-align: right;\">         C26</th><th style=\"text-align: right;\">        C27</th><th style=\"text-align: right;\">      C28</th><th style=\"text-align: right;\">      C29</th><th style=\"text-align: right;\">       C30</th><th style=\"text-align: right;\">        C31</th><th style=\"text-align: right;\">       C32</th><th style=\"text-align: right;\">       C33</th><th style=\"text-align: right;\">       C34</th><th style=\"text-align: right;\">        C35</th><th style=\"text-align: right;\">       C36</th><th style=\"text-align: right;\">       C37</th><th style=\"text-align: right;\">       C38</th><th style=\"text-align: right;\">       C39</th><th style=\"text-align: right;\">        C40</th><th style=\"text-align: right;\">       C41</th><th style=\"text-align: right;\">        C42</th><th style=\"text-align: right;\">       C43</th><th style=\"text-align: right;\">       C44</th><th style=\"text-align: right;\">         C45</th><th style=\"text-align: right;\">       C46</th><th style=\"text-align: right;\">        C47</th><th style=\"text-align: right;\">       C48</th><th style=\"text-align: right;\">       C49</th><th style=\"text-align: right;\">       C50</th><th style=\"text-align: right;\">     C51</th><th style=\"text-align: right;\">       C52</th><th style=\"text-align: right;\">        C53</th><th style=\"text-align: right;\">       C54</th><th style=\"text-align: right;\">        C55</th><th style=\"text-align: right;\">        C56</th><th style=\"text-align: right;\">       C57</th><th style=\"text-align: right;\">        C58</th><th style=\"text-align: right;\">       C59</th><th style=\"text-align: right;\">      C60</th><th style=\"text-align: right;\">        C61</th><th style=\"text-align: right;\">       C62</th><th style=\"text-align: right;\">         C63</th><th style=\"text-align: right;\">        C64</th><th style=\"text-align: right;\">        C65</th><th style=\"text-align: right;\">       C66</th><th style=\"text-align: right;\">      C67</th><th style=\"text-align: right;\">        C68</th><th style=\"text-align: right;\">       C69</th><th style=\"text-align: right;\">       C70</th><th style=\"text-align: right;\">      C71</th><th style=\"text-align: right;\">       C72</th><th style=\"text-align: right;\">      C73</th><th style=\"text-align: right;\">        C74</th><th style=\"text-align: right;\">       C75</th><th style=\"text-align: right;\">        C76</th><th style=\"text-align: right;\">      C77</th><th style=\"text-align: right;\">       C78</th><th style=\"text-align: right;\">        C79</th><th style=\"text-align: right;\">        C80</th><th style=\"text-align: right;\">       C81</th><th style=\"text-align: right;\">       C82</th><th style=\"text-align: right;\">       C83</th><th style=\"text-align: right;\">       C84</th><th style=\"text-align: right;\">       C85</th><th style=\"text-align: right;\">        C86</th><th style=\"text-align: right;\">       C87</th><th style=\"text-align: right;\">      C88</th><th style=\"text-align: right;\">       C89</th><th style=\"text-align: right;\">       C90</th><th style=\"text-align: right;\">       C91</th><th style=\"text-align: right;\">        C92</th><th style=\"text-align: right;\">        C93</th><th style=\"text-align: right;\">      C94</th><th style=\"text-align: right;\">        C95</th><th style=\"text-align: right;\">       C96</th><th style=\"text-align: right;\">        C97</th><th style=\"text-align: right;\">       C98</th><th style=\"text-align: right;\">      C99</th><th style=\"text-align: right;\">      C100</th></tr>\n",
              "</thead>\n",
              "<tbody>\n",
              "<tr><td style=\"text-align: right;\">      0</td><td>b&#x27;These glasses are an excellent value. The fit is good and they are ...&#x27;</td><td>b&quot;These glasses are an excellent value.  The fit is good and they are very comfortable.  Because of my legal blindness, there aren&#x27;t a lot of options to try to see better, but I believe these help with my other visual aids, and because they are reasonably priced I can have more than one pair available.&quot;                                                                                                                                                                                                                                                                                                                                                                                                                                                                                                                                                                                                                                                                                                                                                                                                                  </td><td style=\"text-align: right;\">       4</td><td style=\"text-align: right;\">       1</td><td style=\"text-align: right;\">0.137222 </td><td style=\"text-align: right;\">0.115583 </td><td style=\"text-align: right;\">0.172219 </td><td style=\"text-align: right;\"> 0.0569763</td><td style=\"text-align: right;\"> 0.0792718</td><td style=\"text-align: right;\">-0.0701947</td><td style=\"text-align: right;\">-0.0574682</td><td style=\"text-align: right;\">0.264816</td><td style=\"text-align: right;\">-0.126841 </td><td style=\"text-align: right;\"> 0.0372701 </td><td style=\"text-align: right;\"> 0.0197006 </td><td style=\"text-align: right;\">0.04092  </td><td style=\"text-align: right;\"> 0.0689601  </td><td style=\"text-align: right;\">0.00691406</td><td style=\"text-align: right;\"> 0.0520193 </td><td style=\"text-align: right;\">-0.0504224 </td><td style=\"text-align: right;\"> 0.103814  </td><td style=\"text-align: right;\"> 0.0261062 </td><td style=\"text-align: right;\">0.130535 </td><td style=\"text-align: right;\"> 0.0752233  </td><td style=\"text-align: right;\">-0.0213316  </td><td style=\"text-align: right;\">-0.256437</td><td style=\"text-align: right;\">-0.00447832</td><td style=\"text-align: right;\">-0.0688431  </td><td style=\"text-align: right;\"> 0.000506429</td><td style=\"text-align: right;\"> 0.0562167  </td><td style=\"text-align: right;\">-0.00107106</td><td style=\"text-align: right;\">0.118595 </td><td style=\"text-align: right;\">-0.217802</td><td style=\"text-align: right;\"> 0.0803445</td><td style=\"text-align: right;\">-0.0190915 </td><td style=\"text-align: right;\">-0.0557879</td><td style=\"text-align: right;\">-0.0700754</td><td style=\"text-align: right;\"> 0.0153211</td><td style=\"text-align: right;\"> 0.106421  </td><td style=\"text-align: right;\">-0.0489717</td><td style=\"text-align: right;\">-0.0587561</td><td style=\"text-align: right;\"> 0.0918784</td><td style=\"text-align: right;\"> 0.0225978</td><td style=\"text-align: right;\"> 0.0677318 </td><td style=\"text-align: right;\">-0.0953665</td><td style=\"text-align: right;\">-0.0233423 </td><td style=\"text-align: right;\">-0.0789354</td><td style=\"text-align: right;\"> 0.183255 </td><td style=\"text-align: right;\"> 0.0455004  </td><td style=\"text-align: right;\"> 0.0384083</td><td style=\"text-align: right;\">-0.0595764 </td><td style=\"text-align: right;\">-0.0394668</td><td style=\"text-align: right;\">-0.0627003</td><td style=\"text-align: right;\">-0.141261 </td><td style=\"text-align: right;\">0.144207</td><td style=\"text-align: right;\">-0.0641221</td><td style=\"text-align: right;\">-0.0288916 </td><td style=\"text-align: right;\">0.0214352 </td><td style=\"text-align: right;\">-0.025104  </td><td style=\"text-align: right;\"> 0.103534  </td><td style=\"text-align: right;\">-0.0183493</td><td style=\"text-align: right;\">-0.0114785 </td><td style=\"text-align: right;\"> 0.0478604</td><td style=\"text-align: right;\">0.117643 </td><td style=\"text-align: right;\"> 0.111063  </td><td style=\"text-align: right;\">-0.165793 </td><td style=\"text-align: right;\"> 0.071179   </td><td style=\"text-align: right;\"> 0.0147723 </td><td style=\"text-align: right;\"> 0.0165586 </td><td style=\"text-align: right;\">-0.0653587</td><td style=\"text-align: right;\">0.082973 </td><td style=\"text-align: right;\">-0.0143014 </td><td style=\"text-align: right;\">-0.0336733</td><td style=\"text-align: right;\"> 0.0505101</td><td style=\"text-align: right;\">0.0633497</td><td style=\"text-align: right;\"> 0.050679 </td><td style=\"text-align: right;\">0.0828305</td><td style=\"text-align: right;\"> 0.0717191 </td><td style=\"text-align: right;\"> 0.0174651</td><td style=\"text-align: right;\">-0.0121581 </td><td style=\"text-align: right;\">0.152695 </td><td style=\"text-align: right;\">-0.0676394</td><td style=\"text-align: right;\"> 0.0428186 </td><td style=\"text-align: right;\"> 0.0194882 </td><td style=\"text-align: right;\">0.00968325</td><td style=\"text-align: right;\">-0.0384011</td><td style=\"text-align: right;\">-0.0671563</td><td style=\"text-align: right;\">-0.0351003</td><td style=\"text-align: right;\"> 0.0843942</td><td style=\"text-align: right;\">-0.0475753 </td><td style=\"text-align: right;\">0.0310518 </td><td style=\"text-align: right;\">0.0518132</td><td style=\"text-align: right;\"> 0.0302793</td><td style=\"text-align: right;\"> 0.0365999</td><td style=\"text-align: right;\"> 0.0524276</td><td style=\"text-align: right;\">-0.0633831 </td><td style=\"text-align: right;\">-0.0216948 </td><td style=\"text-align: right;\">0.192114 </td><td style=\"text-align: right;\">-0.0802923 </td><td style=\"text-align: right;\">-0.179052 </td><td style=\"text-align: right;\">-0.172212  </td><td style=\"text-align: right;\">-0.0419707</td><td style=\"text-align: right;\">0.164748 </td><td style=\"text-align: right;\"> 0.0411342</td></tr>\n",
              "<tr><td style=\"text-align: right;\">      3</td><td>b&#x27;A fantastic way to cheaply try straight razor shaving.&#x27;                </td><td>b&quot;Always wanted to try straight razor shaving (as a DE safety razor user), and this was a cheap way for me to determine I was not into it.&lt;br /&gt;&lt;br /&gt;Because the blades are disposable and always sharp, I could put a new one in and reasonably rely upon that fact that cuts were probably due to my technique and not the blade.&lt;br /&gt;&lt;br /&gt;It&#x27;s very hard to do straight razor shaving on yourself because the ANGLE is difficult to control without switching hands. Being very right-handed, I really couldn&#x27;t do that. I bet I could shave someone else&#x27;s face with it though.&lt;br /&gt;&lt;br /&gt;An immediate upside? Using a DE safety razor (slant edged even) seems SUPER safe now! I&#x27;m increased my speed with the DE due to that confidence, and I&#x27;d been using it for years now.&quot;                                                                                                                                                                                                                                                                                                                                          </td><td style=\"text-align: right;\">       5</td><td style=\"text-align: right;\">       1</td><td style=\"text-align: right;\">0.122692 </td><td style=\"text-align: right;\">0.108548 </td><td style=\"text-align: right;\">0.0928803</td><td style=\"text-align: right;\"> 0.0120673</td><td style=\"text-align: right;\"> 0.0464922</td><td style=\"text-align: right;\">-0.0562122</td><td style=\"text-align: right;\">-0.0656326</td><td style=\"text-align: right;\">0.215495</td><td style=\"text-align: right;\">-0.0165786</td><td style=\"text-align: right;\">-0.00645024</td><td style=\"text-align: right;\">-0.0161077 </td><td style=\"text-align: right;\">0.0658393</td><td style=\"text-align: right;\"> 0.0139666  </td><td style=\"text-align: right;\">0.0877592 </td><td style=\"text-align: right;\"> 0.00472991</td><td style=\"text-align: right;\"> 0.0330163 </td><td style=\"text-align: right;\"> 0.02561   </td><td style=\"text-align: right;\"> 0.0339216 </td><td style=\"text-align: right;\">0.0449717</td><td style=\"text-align: right;\"> 0.0273878  </td><td style=\"text-align: right;\">-0.0510797  </td><td style=\"text-align: right;\">-0.295671</td><td style=\"text-align: right;\">-0.0612232 </td><td style=\"text-align: right;\">-0.0128371  </td><td style=\"text-align: right;\"> 0.0769703  </td><td style=\"text-align: right;\">-0.0372176  </td><td style=\"text-align: right;\">-0.0159504 </td><td style=\"text-align: right;\">0.0999549</td><td style=\"text-align: right;\">-0.221537</td><td style=\"text-align: right;\"> 0.0809917</td><td style=\"text-align: right;\"> 0.0547917 </td><td style=\"text-align: right;\">-0.0280364</td><td style=\"text-align: right;\">-0.0960602</td><td style=\"text-align: right;\">-0.0544372</td><td style=\"text-align: right;\"> 0.0443664 </td><td style=\"text-align: right;\">-0.0296253</td><td style=\"text-align: right;\">-0.0912359</td><td style=\"text-align: right;\"> 0.0930491</td><td style=\"text-align: right;\"> 0.10542  </td><td style=\"text-align: right;\"> 0.0479294 </td><td style=\"text-align: right;\">-0.0699413</td><td style=\"text-align: right;\"> 0.0652917 </td><td style=\"text-align: right;\">-0.0653718</td><td style=\"text-align: right;\"> 0.165309 </td><td style=\"text-align: right;\"> 0.0470647  </td><td style=\"text-align: right;\">-0.121329 </td><td style=\"text-align: right;\">-0.00692901</td><td style=\"text-align: right;\"> 0.0364388</td><td style=\"text-align: right;\">-0.122898 </td><td style=\"text-align: right;\">-0.12759  </td><td style=\"text-align: right;\">0.208731</td><td style=\"text-align: right;\">-0.0888714</td><td style=\"text-align: right;\"> 0.00556658</td><td style=\"text-align: right;\">0.0340843 </td><td style=\"text-align: right;\">-0.0223497 </td><td style=\"text-align: right;\"> 0.144821  </td><td style=\"text-align: right;\">-0.0894943</td><td style=\"text-align: right;\"> 0.00871597</td><td style=\"text-align: right;\"> 0.0882565</td><td style=\"text-align: right;\">0.0918612</td><td style=\"text-align: right;\"> 0.0135239 </td><td style=\"text-align: right;\">-0.0881577</td><td style=\"text-align: right;\"> 0.0778562  </td><td style=\"text-align: right;\"> 0.00688536</td><td style=\"text-align: right;\">-0.0300894 </td><td style=\"text-align: right;\">-0.0129628</td><td style=\"text-align: right;\">0.109207 </td><td style=\"text-align: right;\">-0.0217277 </td><td style=\"text-align: right;\">-0.0863877</td><td style=\"text-align: right;\"> 0.0651518</td><td style=\"text-align: right;\">0.0470751</td><td style=\"text-align: right;\"> 0.0137142</td><td style=\"text-align: right;\">0.117338 </td><td style=\"text-align: right;\">-0.035471  </td><td style=\"text-align: right;\">-0.034892 </td><td style=\"text-align: right;\"> 0.074157  </td><td style=\"text-align: right;\">0.12689  </td><td style=\"text-align: right;\">-0.0795374</td><td style=\"text-align: right;\"> 0.00893092</td><td style=\"text-align: right;\"> 0.0284777 </td><td style=\"text-align: right;\">0.111314  </td><td style=\"text-align: right;\">-0.0171356</td><td style=\"text-align: right;\">-0.0786387</td><td style=\"text-align: right;\">-0.145153 </td><td style=\"text-align: right;\"> 0.0279958</td><td style=\"text-align: right;\">-0.0857467 </td><td style=\"text-align: right;\">0.104402  </td><td style=\"text-align: right;\">0.128696 </td><td style=\"text-align: right;\"> 0.0690357</td><td style=\"text-align: right;\"> 0.0205333</td><td style=\"text-align: right;\"> 0.0194737</td><td style=\"text-align: right;\">-0.00615596</td><td style=\"text-align: right;\"> 0.0947211 </td><td style=\"text-align: right;\">0.115763 </td><td style=\"text-align: right;\">-0.0871309 </td><td style=\"text-align: right;\">-0.0839445</td><td style=\"text-align: right;\">-0.0791118 </td><td style=\"text-align: right;\"> 0.0481745</td><td style=\"text-align: right;\">0.0663742</td><td style=\"text-align: right;\"> 0.0809002</td></tr>\n",
              "<tr><td style=\"text-align: right;\">      0</td><td>b&#x27;Great for travel&#x27;                                                      </td><td>b&#x27;I usually either throw my toothbrush in a plastic bag with spare head so this product is very convenient for keeping all the parts apart, dry and undamaged, and i now keep it in my travel bag all the time ready to go.&#x27;                                                                                                                                                                                                                                                                                                                                                                                                                                                                                                                                                                                                                                                                                                                                                                                                                                                                                                      </td><td style=\"text-align: right;\">       4</td><td style=\"text-align: right;\">       1</td><td style=\"text-align: right;\">0.142968 </td><td style=\"text-align: right;\">0.0742791</td><td style=\"text-align: right;\">0.160406 </td><td style=\"text-align: right;\"> 0.0114594</td><td style=\"text-align: right;\"> 0.12253  </td><td style=\"text-align: right;\">-0.0872727</td><td style=\"text-align: right;\">-0.0699563</td><td style=\"text-align: right;\">0.168077</td><td style=\"text-align: right;\">-0.0218188</td><td style=\"text-align: right;\"> 0.0723845 </td><td style=\"text-align: right;\">-0.0512826 </td><td style=\"text-align: right;\">0.139991 </td><td style=\"text-align: right;\"> 0.0569815  </td><td style=\"text-align: right;\">0.103654  </td><td style=\"text-align: right;\"> 0.0149677 </td><td style=\"text-align: right;\">-0.023958  </td><td style=\"text-align: right;\"> 0.0338745 </td><td style=\"text-align: right;\">-0.0825918 </td><td style=\"text-align: right;\">0.0968323</td><td style=\"text-align: right;\"> 0.0553449  </td><td style=\"text-align: right;\"> 0.000686409</td><td style=\"text-align: right;\">-0.178395</td><td style=\"text-align: right;\">-0.0321664 </td><td style=\"text-align: right;\"> 0.0117005  </td><td style=\"text-align: right;\"> 0.00898672 </td><td style=\"text-align: right;\">-0.0525435  </td><td style=\"text-align: right;\"> 0.026963  </td><td style=\"text-align: right;\">0.16446  </td><td style=\"text-align: right;\">-0.164534</td><td style=\"text-align: right;\"> 0.0612147</td><td style=\"text-align: right;\"> 0.00892821</td><td style=\"text-align: right;\"> 0.0029699</td><td style=\"text-align: right;\">-0.108288 </td><td style=\"text-align: right;\">-0.0470918</td><td style=\"text-align: right;\"> 0.0313289 </td><td style=\"text-align: right;\">-0.078487 </td><td style=\"text-align: right;\">-0.035496 </td><td style=\"text-align: right;\"> 0.0247479</td><td style=\"text-align: right;\"> 0.0540638</td><td style=\"text-align: right;\">-0.0170584 </td><td style=\"text-align: right;\">-0.033797 </td><td style=\"text-align: right;\">-0.00777416</td><td style=\"text-align: right;\">-0.0116633</td><td style=\"text-align: right;\"> 0.125645 </td><td style=\"text-align: right;\">-0.00118757 </td><td style=\"text-align: right;\">-0.0379382</td><td style=\"text-align: right;\">-0.0545512 </td><td style=\"text-align: right;\">-0.0113112</td><td style=\"text-align: right;\">-0.0882311</td><td style=\"text-align: right;\">-0.114609 </td><td style=\"text-align: right;\">0.144785</td><td style=\"text-align: right;\">-0.0988031</td><td style=\"text-align: right;\">-0.00627526</td><td style=\"text-align: right;\">0.102101  </td><td style=\"text-align: right;\">-0.0330474 </td><td style=\"text-align: right;\"> 0.117139  </td><td style=\"text-align: right;\">-0.0341278</td><td style=\"text-align: right;\">-0.047236  </td><td style=\"text-align: right;\"> 0.0302714</td><td style=\"text-align: right;\">0.188194 </td><td style=\"text-align: right;\"> 0.0177518 </td><td style=\"text-align: right;\">-0.0591799</td><td style=\"text-align: right;\"> 0.157737   </td><td style=\"text-align: right;\"> 0.0216347 </td><td style=\"text-align: right;\">-0.065269  </td><td style=\"text-align: right;\">-0.0580102</td><td style=\"text-align: right;\">0.0581487</td><td style=\"text-align: right;\"> 0.0316922 </td><td style=\"text-align: right;\">-0.102229 </td><td style=\"text-align: right;\">-0.0123889</td><td style=\"text-align: right;\">0.0969897</td><td style=\"text-align: right;\"> 0.0857195</td><td style=\"text-align: right;\">0.0278306</td><td style=\"text-align: right;\"> 0.104052  </td><td style=\"text-align: right;\">-0.0566447</td><td style=\"text-align: right;\"> 0.0266112 </td><td style=\"text-align: right;\">0.0960539</td><td style=\"text-align: right;\">-0.0758801</td><td style=\"text-align: right;\"> 0.0332453 </td><td style=\"text-align: right;\">-0.0144418 </td><td style=\"text-align: right;\">0.169762  </td><td style=\"text-align: right;\">-0.0636586</td><td style=\"text-align: right;\"> 0.0265121</td><td style=\"text-align: right;\">-0.19488  </td><td style=\"text-align: right;\"> 0.0772886</td><td style=\"text-align: right;\">-0.015011  </td><td style=\"text-align: right;\">0.109137  </td><td style=\"text-align: right;\">0.0887782</td><td style=\"text-align: right;\"> 0.0466339</td><td style=\"text-align: right;\"> 0.102586 </td><td style=\"text-align: right;\"> 0.0670452</td><td style=\"text-align: right;\">-0.163695  </td><td style=\"text-align: right;\">-0.0127398 </td><td style=\"text-align: right;\">0.167928 </td><td style=\"text-align: right;\">-0.0896176 </td><td style=\"text-align: right;\">-0.164553 </td><td style=\"text-align: right;\">-0.0550749 </td><td style=\"text-align: right;\"> 0.0176373</td><td style=\"text-align: right;\">0.157681 </td><td style=\"text-align: right;\"> 0.11683  </td></tr>\n",
              "<tr><td style=\"text-align: right;\">      0</td><td>b&#x27;Five Stars&#x27;                                                            </td><td>b&#x27;Top quality.&#x27;                                                                                                                                                                                                                                                                                                                                                                                                                                                                                                                                                                                                                                                                                                                                                                                                                                                                                                                                                                                                                                                                                                                   </td><td style=\"text-align: right;\">       5</td><td style=\"text-align: right;\">       1</td><td style=\"text-align: right;\">0.2096   </td><td style=\"text-align: right;\">0.177676 </td><td style=\"text-align: right;\">0.276516 </td><td style=\"text-align: right;\">-0.213128 </td><td style=\"text-align: right;\">-0.045182 </td><td style=\"text-align: right;\">-0.0748436</td><td style=\"text-align: right;\">-0.188679 </td><td style=\"text-align: right;\">0.267056</td><td style=\"text-align: right;\">-0.123235 </td><td style=\"text-align: right;\">-0.123182  </td><td style=\"text-align: right;\"> 0.204238  </td><td style=\"text-align: right;\">0.157368 </td><td style=\"text-align: right;\"> 0.103422   </td><td style=\"text-align: right;\">0.0577136 </td><td style=\"text-align: right;\">-0.0310706 </td><td style=\"text-align: right;\">-0.156878  </td><td style=\"text-align: right;\">-0.00129108</td><td style=\"text-align: right;\"> 0.0920107 </td><td style=\"text-align: right;\">0.102773 </td><td style=\"text-align: right;\">-0.15345    </td><td style=\"text-align: right;\">-0.274706   </td><td style=\"text-align: right;\">-0.21033 </td><td style=\"text-align: right;\"> 0.0920886 </td><td style=\"text-align: right;\">-0.0583911  </td><td style=\"text-align: right;\">-0.0695628  </td><td style=\"text-align: right;\"> 0.184897   </td><td style=\"text-align: right;\">-0.175097  </td><td style=\"text-align: right;\">0.150086 </td><td style=\"text-align: right;\">-0.48452 </td><td style=\"text-align: right;\"> 0.0855363</td><td style=\"text-align: right;\">-0.055192  </td><td style=\"text-align: right;\">-0.0244086</td><td style=\"text-align: right;\"> 0.102094 </td><td style=\"text-align: right;\"> 0.145785 </td><td style=\"text-align: right;\"> 0.0128132 </td><td style=\"text-align: right;\">-0.102625 </td><td style=\"text-align: right;\">-0.20956  </td><td style=\"text-align: right;\">-0.0859426</td><td style=\"text-align: right;\">-0.163133 </td><td style=\"text-align: right;\"> 0.355339  </td><td style=\"text-align: right;\">-0.0124848</td><td style=\"text-align: right;\">-0.0266485 </td><td style=\"text-align: right;\">-0.189644 </td><td style=\"text-align: right;\">-0.0136696</td><td style=\"text-align: right;\">-0.13802    </td><td style=\"text-align: right;\"> 0.0118813</td><td style=\"text-align: right;\"> 0.136061  </td><td style=\"text-align: right;\">-0.146467 </td><td style=\"text-align: right;\">-0.222834 </td><td style=\"text-align: right;\"> 0.174656 </td><td style=\"text-align: right;\">0.175275</td><td style=\"text-align: right;\">-0.212595 </td><td style=\"text-align: right;\"> 0.154557  </td><td style=\"text-align: right;\">0.00873826</td><td style=\"text-align: right;\"> 0.206605  </td><td style=\"text-align: right;\">-0.00236053</td><td style=\"text-align: right;\"> 0.0201504</td><td style=\"text-align: right;\"> 0.0140764 </td><td style=\"text-align: right;\">-0.14914  </td><td style=\"text-align: right;\">0.0484427</td><td style=\"text-align: right;\">-0.0403605 </td><td style=\"text-align: right;\">-0.227139 </td><td style=\"text-align: right;\">-0.162882   </td><td style=\"text-align: right;\"> 0.294476  </td><td style=\"text-align: right;\"> 0.118188  </td><td style=\"text-align: right;\">-0.0916324</td><td style=\"text-align: right;\">0.124314 </td><td style=\"text-align: right;\">-0.0549472 </td><td style=\"text-align: right;\">-0.294272 </td><td style=\"text-align: right;\"> 0.0810284</td><td style=\"text-align: right;\">0.170626 </td><td style=\"text-align: right;\">-0.138556 </td><td style=\"text-align: right;\">0.294438 </td><td style=\"text-align: right;\"> 0.176641  </td><td style=\"text-align: right;\">-0.0176119</td><td style=\"text-align: right;\">-0.131456  </td><td style=\"text-align: right;\">0.0702167</td><td style=\"text-align: right;\">-0.183272 </td><td style=\"text-align: right;\"> 0.195557  </td><td style=\"text-align: right;\"> 0.0401966 </td><td style=\"text-align: right;\">0.339337  </td><td style=\"text-align: right;\">-0.0362502</td><td style=\"text-align: right;\"> 0.108756 </td><td style=\"text-align: right;\">-0.0228997</td><td style=\"text-align: right;\"> 0.0598536</td><td style=\"text-align: right;\">-0.090869  </td><td style=\"text-align: right;\">0.171889  </td><td style=\"text-align: right;\">0.275976 </td><td style=\"text-align: right;\">-0.0671414</td><td style=\"text-align: right;\">-0.0544083</td><td style=\"text-align: right;\"> 0.124508 </td><td style=\"text-align: right;\">-0.150349  </td><td style=\"text-align: right;\"> 0.0514965 </td><td style=\"text-align: right;\">0.0126578</td><td style=\"text-align: right;\">-0.289925  </td><td style=\"text-align: right;\">-0.259818 </td><td style=\"text-align: right;\"> 0.178651  </td><td style=\"text-align: right;\"> 0.0290352</td><td style=\"text-align: right;\">0.360326 </td><td style=\"text-align: right;\">-0.139308 </td></tr>\n",
              "<tr><td style=\"text-align: right;\">      1</td><td>b&#x27;*Product sent not as shown&#x27;                                            </td><td>b&#x27;Today I received  1 Fl. Oz, Natures Balance AlkaMAX alkaline booster liquid unflavored (formally TriMedica) a glass brown bottle with eye dropper.&lt;br /&gt;Supplement Facts; Serving Size: 10 Drops (Approx. 0.5 mL). Servings per Container: Approx. 60&lt;br /&gt;Amount Per Serving % Daily Value&lt;br /&gt;Magnesium (as Magnesium Chloride) 40 mg 10%&lt;br /&gt;Chloride (as Magnesium Chloride) 64 mg 2%&lt;br /&gt;Other Ingredients: Deionized water and trace mineral complex.&lt;br /&gt;Directions: Add 10 drops to 8 oz. of water or other beverage daily as needed or as directed by your health care practitioner. Store in a cool, dry place.&lt;br /&gt;&lt;br /&gt;I have not used product as of yet with changed ingredients of original/as shown in AlkaMax alkaline support white squeeze bottle.&lt;br /&gt;but had to rate to post...heck this new may be better for all I know.&#x27;                                                                                                                                                                                                                                                                          </td><td style=\"text-align: right;\">       3</td><td style=\"text-align: right;\">       0</td><td style=\"text-align: right;\">0.0626301</td><td style=\"text-align: right;\">0.126807 </td><td style=\"text-align: right;\">0.130195 </td><td style=\"text-align: right;\"> 0.016873 </td><td style=\"text-align: right;\"> 0.101479 </td><td style=\"text-align: right;\">-0.155231 </td><td style=\"text-align: right;\">-0.153967 </td><td style=\"text-align: right;\">0.406566</td><td style=\"text-align: right;\">-0.0825469</td><td style=\"text-align: right;\"> 0.0915175 </td><td style=\"text-align: right;\">-0.00728479</td><td style=\"text-align: right;\">0.0658561</td><td style=\"text-align: right;\"> 0.0062924  </td><td style=\"text-align: right;\">0.16953   </td><td style=\"text-align: right;\"> 0.0380496 </td><td style=\"text-align: right;\"> 0.00319333</td><td style=\"text-align: right;\"> 0.116801  </td><td style=\"text-align: right;\">-0.00822323</td><td style=\"text-align: right;\">0.0692968</td><td style=\"text-align: right;\">-0.0203381  </td><td style=\"text-align: right;\"> 0.155705   </td><td style=\"text-align: right;\">-0.214821</td><td style=\"text-align: right;\"> 0.0298617 </td><td style=\"text-align: right;\"> 0.0065346  </td><td style=\"text-align: right;\"> 0.198923   </td><td style=\"text-align: right;\"> 0.0750754  </td><td style=\"text-align: right;\"> 0.0225692 </td><td style=\"text-align: right;\">0.0566269</td><td style=\"text-align: right;\">-0.196215</td><td style=\"text-align: right;\"> 0.0270102</td><td style=\"text-align: right;\">-0.0578897 </td><td style=\"text-align: right;\">-0.0473687</td><td style=\"text-align: right;\">-0.0517445</td><td style=\"text-align: right;\">-0.168628 </td><td style=\"text-align: right;\"> 0.0359857 </td><td style=\"text-align: right;\">-0.0305779</td><td style=\"text-align: right;\"> 0.0680659</td><td style=\"text-align: right;\"> 0.110962 </td><td style=\"text-align: right;\"> 0.0756353</td><td style=\"text-align: right;\">-0.0369561 </td><td style=\"text-align: right;\">-0.0878788</td><td style=\"text-align: right;\">-0.154237  </td><td style=\"text-align: right;\">-0.0842444</td><td style=\"text-align: right;\"> 0.185295 </td><td style=\"text-align: right;\">-0.041089   </td><td style=\"text-align: right;\">-0.0752456</td><td style=\"text-align: right;\">-0.0691809 </td><td style=\"text-align: right;\">-0.0110303</td><td style=\"text-align: right;\">-0.127653 </td><td style=\"text-align: right;\">-0.0406766</td><td style=\"text-align: right;\">0.138534</td><td style=\"text-align: right;\">-0.0880628</td><td style=\"text-align: right;\">-0.105783  </td><td style=\"text-align: right;\">0.114884  </td><td style=\"text-align: right;\"> 0.00761798</td><td style=\"text-align: right;\"> 0.0390274 </td><td style=\"text-align: right;\"> 0.0229785</td><td style=\"text-align: right;\">-0.0238846 </td><td style=\"text-align: right;\"> 0.125963 </td><td style=\"text-align: right;\">0.122912 </td><td style=\"text-align: right;\">-0.14057   </td><td style=\"text-align: right;\">-0.0901455</td><td style=\"text-align: right;\">-0.000400779</td><td style=\"text-align: right;\"> 0.00601801</td><td style=\"text-align: right;\">-0.0166851 </td><td style=\"text-align: right;\"> 0.061007 </td><td style=\"text-align: right;\">0.112463 </td><td style=\"text-align: right;\"> 0.0305451 </td><td style=\"text-align: right;\">-0.0662827</td><td style=\"text-align: right;\">-0.033725 </td><td style=\"text-align: right;\">0.153377 </td><td style=\"text-align: right;\"> 0.0454982</td><td style=\"text-align: right;\">0.0226767</td><td style=\"text-align: right;\"> 0.013146  </td><td style=\"text-align: right;\"> 0.101961 </td><td style=\"text-align: right;\"> 0.0228005 </td><td style=\"text-align: right;\">0.113702 </td><td style=\"text-align: right;\"> 0.0910155</td><td style=\"text-align: right;\"> 0.010642  </td><td style=\"text-align: right;\">-0.0675314 </td><td style=\"text-align: right;\">0.127824  </td><td style=\"text-align: right;\"> 0.0348665</td><td style=\"text-align: right;\"> 0.0974542</td><td style=\"text-align: right;\">-0.146897 </td><td style=\"text-align: right;\">-0.0246275</td><td style=\"text-align: right;\"> 0.00439074</td><td style=\"text-align: right;\">0.0836875 </td><td style=\"text-align: right;\">0.0847606</td><td style=\"text-align: right;\"> 0.0624358</td><td style=\"text-align: right;\">-0.02585  </td><td style=\"text-align: right;\">-0.0887119</td><td style=\"text-align: right;\">-0.0605516 </td><td style=\"text-align: right;\">-0.00935856</td><td style=\"text-align: right;\">0.0630535</td><td style=\"text-align: right;\">-0.059736  </td><td style=\"text-align: right;\">-0.218024 </td><td style=\"text-align: right;\">-0.0235449 </td><td style=\"text-align: right;\"> 0.0190498</td><td style=\"text-align: right;\">0.0768014</td><td style=\"text-align: right;\">-0.123224 </td></tr>\n",
              "<tr><td style=\"text-align: right;\">      6</td><td>b&#x27;Seems to work well!&#x27;                                                   </td><td>b&#x27;I recently picked this unit up at Bed and Bath where it was $99.00. With a 20% coupon the price was $80 (so comparison shop!) It\\&#x27;s easy to use and seems to work well. I agree with other reviewers about the noise level (loud like a tea kettle boiling), but I use this unit in the living room area so sleeping is not an issue. Having the 2 separate water reservoirs to fill is much easier, weight-wise, as I previously had another humidifier which had one large water reservoir and it was very heavy when full. The unit comes apart quite easily for cleaning and since frequent cleaning is recommended (I usually do it 1x per week, not daily) this is a definite plus. Additionally, one only needs to use vinegar to clean the inside reservoir, which is a lot cheaper than having to buy some kind of \\\\\\\\&quot;special\\\\\\\\&quot; cleaning solution. My one complaint is that it doesn\\&#x27;t, but should, have an automatic shut off when both tanks are empty.I have to remember to turn the unit off when I leave the house. My previous humidifiers all had this auto turn off; seems like every humidifier should.&#x27;</td><td style=\"text-align: right;\">       4</td><td style=\"text-align: right;\">       1</td><td style=\"text-align: right;\">0.13075  </td><td style=\"text-align: right;\">0.139654 </td><td style=\"text-align: right;\">0.172078 </td><td style=\"text-align: right;\"> 0.0286312</td><td style=\"text-align: right;\"> 0.120455 </td><td style=\"text-align: right;\">-0.0796384</td><td style=\"text-align: right;\">-0.0437741</td><td style=\"text-align: right;\">0.20934 </td><td style=\"text-align: right;\">-0.0742992</td><td style=\"text-align: right;\"> 0.0634611 </td><td style=\"text-align: right;\"> 0.00471283</td><td style=\"text-align: right;\">0.081207 </td><td style=\"text-align: right;\">-0.000618037</td><td style=\"text-align: right;\">0.0627246 </td><td style=\"text-align: right;\">-0.0220044 </td><td style=\"text-align: right;\">-0.0758107 </td><td style=\"text-align: right;\"> 0.0662574 </td><td style=\"text-align: right;\">-0.060991  </td><td style=\"text-align: right;\">0.0868191</td><td style=\"text-align: right;\"> 0.0470866  </td><td style=\"text-align: right;\"> 0.00522957 </td><td style=\"text-align: right;\">-0.215489</td><td style=\"text-align: right;\">-0.0485955 </td><td style=\"text-align: right;\">-0.0123371  </td><td style=\"text-align: right;\"> 0.0290404  </td><td style=\"text-align: right;\"> 0.000684645</td><td style=\"text-align: right;\">-0.00726271</td><td style=\"text-align: right;\">0.0996944</td><td style=\"text-align: right;\">-0.146767</td><td style=\"text-align: right;\"> 0.0612409</td><td style=\"text-align: right;\">-0.0492114 </td><td style=\"text-align: right;\">-0.017517 </td><td style=\"text-align: right;\">-0.0420453</td><td style=\"text-align: right;\">-0.0856084</td><td style=\"text-align: right;\"> 0.0243594 </td><td style=\"text-align: right;\">-0.100377 </td><td style=\"text-align: right;\">-0.0669424</td><td style=\"text-align: right;\"> 0.0870939</td><td style=\"text-align: right;\"> 0.0905796</td><td style=\"text-align: right;\"> 0.00503849</td><td style=\"text-align: right;\">-0.0993172</td><td style=\"text-align: right;\">-0.0357092 </td><td style=\"text-align: right;\">-0.0596968</td><td style=\"text-align: right;\"> 0.134164 </td><td style=\"text-align: right;\">-0.0214094  </td><td style=\"text-align: right;\">-0.0478316</td><td style=\"text-align: right;\">-0.0535499 </td><td style=\"text-align: right;\">-0.0248203</td><td style=\"text-align: right;\">-0.125564 </td><td style=\"text-align: right;\">-0.104437 </td><td style=\"text-align: right;\">0.192025</td><td style=\"text-align: right;\">-0.116863 </td><td style=\"text-align: right;\">-0.0930116 </td><td style=\"text-align: right;\">0.0719236 </td><td style=\"text-align: right;\"> 0.00473051</td><td style=\"text-align: right;\"> 0.068249  </td><td style=\"text-align: right;\">-0.0216978</td><td style=\"text-align: right;\"> 0.00629659</td><td style=\"text-align: right;\"> 0.134106 </td><td style=\"text-align: right;\">0.130899 </td><td style=\"text-align: right;\"> 0.046925  </td><td style=\"text-align: right;\">-0.0661847</td><td style=\"text-align: right;\"> 0.0762491  </td><td style=\"text-align: right;\">-0.0155742 </td><td style=\"text-align: right;\">-0.00418152</td><td style=\"text-align: right;\"> 0.0138882</td><td style=\"text-align: right;\">0.0397678</td><td style=\"text-align: right;\"> 0.0201651 </td><td style=\"text-align: right;\">-0.107262 </td><td style=\"text-align: right;\"> 0.0492572</td><td style=\"text-align: right;\">0.103883 </td><td style=\"text-align: right;\"> 0.0278678</td><td style=\"text-align: right;\">0.0593717</td><td style=\"text-align: right;\"> 0.0475381 </td><td style=\"text-align: right;\"> 0.0171683</td><td style=\"text-align: right;\"> 0.0170907 </td><td style=\"text-align: right;\">0.0943834</td><td style=\"text-align: right;\">-0.0487702</td><td style=\"text-align: right;\"> 0.0263165 </td><td style=\"text-align: right;\"> 0.0366465 </td><td style=\"text-align: right;\">0.126617  </td><td style=\"text-align: right;\">-0.0339458</td><td style=\"text-align: right;\"> 0.01086  </td><td style=\"text-align: right;\">-0.175551 </td><td style=\"text-align: right;\"> 0.061595 </td><td style=\"text-align: right;\">-0.0791027 </td><td style=\"text-align: right;\">0.0683543 </td><td style=\"text-align: right;\">0.143595 </td><td style=\"text-align: right;\"> 0.0558375</td><td style=\"text-align: right;\"> 0.0807868</td><td style=\"text-align: right;\"> 0.0483459</td><td style=\"text-align: right;\">-0.0956113 </td><td style=\"text-align: right;\"> 0.0640084 </td><td style=\"text-align: right;\">0.115195 </td><td style=\"text-align: right;\">-0.00954892</td><td style=\"text-align: right;\">-0.147301 </td><td style=\"text-align: right;\">-0.00100108</td><td style=\"text-align: right;\">-0.0202444</td><td style=\"text-align: right;\">0.112041 </td><td style=\"text-align: right;\">-0.0292605</td></tr>\n",
              "<tr><td style=\"text-align: right;\">      8</td><td>b&#x27;deep heat?????&#x27;                                                        </td><td>b&#x27;Not sure what previous reviewer was talking about. The product uses ULTRASOUND waves for pain relief NOT heat.  After repeated use, the pain in my knee and shoulder was feeling great. I think you should re-read the description and reconsider your opinion. Great product sold by a great company.&#x27;                                                                                                                                                                                                                                                                                                                                                                                                                                                                                                                                                                                                                                                                                                                                                                                                                         </td><td style=\"text-align: right;\">       5</td><td style=\"text-align: right;\">       1</td><td style=\"text-align: right;\">0.0979981</td><td style=\"text-align: right;\">0.101348 </td><td style=\"text-align: right;\">0.0750059</td><td style=\"text-align: right;\"> 0.0518149</td><td style=\"text-align: right;\"> 0.0870778</td><td style=\"text-align: right;\">-0.104619 </td><td style=\"text-align: right;\">-0.0506312</td><td style=\"text-align: right;\">0.219862</td><td style=\"text-align: right;\">-0.0729531</td><td style=\"text-align: right;\"> 0.0302932 </td><td style=\"text-align: right;\">-0.0447922 </td><td style=\"text-align: right;\">0.0502722</td><td style=\"text-align: right;\"> 0.0133541  </td><td style=\"text-align: right;\">0.0535281 </td><td style=\"text-align: right;\"> 0.0438976 </td><td style=\"text-align: right;\">-0.0495539 </td><td style=\"text-align: right;\"> 0.102699  </td><td style=\"text-align: right;\">-0.0689137 </td><td style=\"text-align: right;\">0.143018 </td><td style=\"text-align: right;\">-0.000828844</td><td style=\"text-align: right;\"> 0.0909695  </td><td style=\"text-align: right;\">-0.207799</td><td style=\"text-align: right;\">-0.119354  </td><td style=\"text-align: right;\">-0.00820956 </td><td style=\"text-align: right;\"> 0.0862776  </td><td style=\"text-align: right;\"> 0.0485463  </td><td style=\"text-align: right;\">-0.042938  </td><td style=\"text-align: right;\">0.107212 </td><td style=\"text-align: right;\">-0.21548 </td><td style=\"text-align: right;\">-0.0150439</td><td style=\"text-align: right;\"> 0.012874  </td><td style=\"text-align: right;\">-0.0758553</td><td style=\"text-align: right;\">-0.0609429</td><td style=\"text-align: right;\">-0.0861171</td><td style=\"text-align: right;\">-0.00875373</td><td style=\"text-align: right;\">-0.072199 </td><td style=\"text-align: right;\">-0.0883415</td><td style=\"text-align: right;\"> 0.0773664</td><td style=\"text-align: right;\"> 0.0721034</td><td style=\"text-align: right;\"> 0.0651225 </td><td style=\"text-align: right;\">-0.127098 </td><td style=\"text-align: right;\"> 0.0630907 </td><td style=\"text-align: right;\">-0.0025614</td><td style=\"text-align: right;\"> 0.0726645</td><td style=\"text-align: right;\"> 0.00802816 </td><td style=\"text-align: right;\">-0.0478526</td><td style=\"text-align: right;\">-0.0348677 </td><td style=\"text-align: right;\">-0.0179062</td><td style=\"text-align: right;\">-0.100591 </td><td style=\"text-align: right;\">-0.162705 </td><td style=\"text-align: right;\">0.210081</td><td style=\"text-align: right;\">-0.0878417</td><td style=\"text-align: right;\">-0.0826705 </td><td style=\"text-align: right;\">0.0924134 </td><td style=\"text-align: right;\"> 0.090231  </td><td style=\"text-align: right;\"> 0.12224   </td><td style=\"text-align: right;\">-0.0438287</td><td style=\"text-align: right;\"> 0.117967  </td><td style=\"text-align: right;\"> 0.0637744</td><td style=\"text-align: right;\">0.201169 </td><td style=\"text-align: right;\">-0.00422142</td><td style=\"text-align: right;\">-0.0881254</td><td style=\"text-align: right;\"> 0.0271353  </td><td style=\"text-align: right;\"> 0.0382735 </td><td style=\"text-align: right;\">-0.00197718</td><td style=\"text-align: right;\">-0.0198204</td><td style=\"text-align: right;\">0.0607964</td><td style=\"text-align: right;\">-0.0110545 </td><td style=\"text-align: right;\">-0.0351865</td><td style=\"text-align: right;\"> 0.0496943</td><td style=\"text-align: right;\">0.0972779</td><td style=\"text-align: right;\"> 0.0783771</td><td style=\"text-align: right;\">0.0861033</td><td style=\"text-align: right;\">-0.00650797</td><td style=\"text-align: right;\">-0.0102351</td><td style=\"text-align: right;\">-0.012753  </td><td style=\"text-align: right;\">0.144535 </td><td style=\"text-align: right;\">-0.0880362</td><td style=\"text-align: right;\"> 0.00457738</td><td style=\"text-align: right;\"> 0.0146762 </td><td style=\"text-align: right;\">0.0507509 </td><td style=\"text-align: right;\">-0.0466019</td><td style=\"text-align: right;\">-0.0510971</td><td style=\"text-align: right;\">-0.0686426</td><td style=\"text-align: right;\"> 0.0781431</td><td style=\"text-align: right;\">-0.110013  </td><td style=\"text-align: right;\">0.00331568</td><td style=\"text-align: right;\">0.0551486</td><td style=\"text-align: right;\">-0.0177127</td><td style=\"text-align: right;\"> 0.0346767</td><td style=\"text-align: right;\"> 0.0520159</td><td style=\"text-align: right;\">-0.0470497 </td><td style=\"text-align: right;\">-0.059332  </td><td style=\"text-align: right;\">0.202796 </td><td style=\"text-align: right;\">-0.0650292 </td><td style=\"text-align: right;\">-0.152551 </td><td style=\"text-align: right;\">-0.0444725 </td><td style=\"text-align: right;\">-0.0353221</td><td style=\"text-align: right;\">0.0596988</td><td style=\"text-align: right;\">-0.0179593</td></tr>\n",
              "<tr><td style=\"text-align: right;\">      2</td><td>b&#x27;Thermometer for a toddler&#x27;                                             </td><td>b&quot;The shippers were great....willing to consider speedier shipping options, but in the end the standard shipping arrived quickly enough. The thermometer is fun and easy to use, but with an inquisitive toddler, it would be nice to have the plastic cap attached to the body so that it doesn&#x27;t disappear.  Would buy it again from these sellers.&quot;                                                                                                                                                                                                                                                                                                                                                                                                                                                                                                                                                                                                                                                                                                                                                                            </td><td style=\"text-align: right;\">       4</td><td style=\"text-align: right;\">       1</td><td style=\"text-align: right;\">0.153204 </td><td style=\"text-align: right;\">0.148385 </td><td style=\"text-align: right;\">0.13946  </td><td style=\"text-align: right;\"> 0.0472129</td><td style=\"text-align: right;\"> 0.0946031</td><td style=\"text-align: right;\">-0.0857547</td><td style=\"text-align: right;\">-0.0442527</td><td style=\"text-align: right;\">0.227425</td><td style=\"text-align: right;\">-0.0191234</td><td style=\"text-align: right;\">-0.0189285 </td><td style=\"text-align: right;\"> 0.0255732 </td><td style=\"text-align: right;\">0.0492857</td><td style=\"text-align: right;\"> 0.0475714  </td><td style=\"text-align: right;\">0.0447048 </td><td style=\"text-align: right;\"> 0.0169268 </td><td style=\"text-align: right;\">-0.0959539 </td><td style=\"text-align: right;\"> 0.0532552 </td><td style=\"text-align: right;\">-0.0863216 </td><td style=\"text-align: right;\">0.10944  </td><td style=\"text-align: right;\"> 0.0302428  </td><td style=\"text-align: right;\">-0.0162661  </td><td style=\"text-align: right;\">-0.22462 </td><td style=\"text-align: right;\">-0.083825  </td><td style=\"text-align: right;\"> 0.012825   </td><td style=\"text-align: right;\"> 0.00480149 </td><td style=\"text-align: right;\"> 0.0378606  </td><td style=\"text-align: right;\"> 0.00313209</td><td style=\"text-align: right;\">0.0784633</td><td style=\"text-align: right;\">-0.163685</td><td style=\"text-align: right;\"> 0.0798157</td><td style=\"text-align: right;\"> 0.0129365 </td><td style=\"text-align: right;\">-0.0414716</td><td style=\"text-align: right;\">-0.0565136</td><td style=\"text-align: right;\">-0.0689486</td><td style=\"text-align: right;\"> 0.0547431 </td><td style=\"text-align: right;\">-0.0751133</td><td style=\"text-align: right;\">-0.0534636</td><td style=\"text-align: right;\"> 0.0574853</td><td style=\"text-align: right;\"> 0.0732438</td><td style=\"text-align: right;\"> 0.0298127 </td><td style=\"text-align: right;\">-0.0594855</td><td style=\"text-align: right;\"> 0.0594759 </td><td style=\"text-align: right;\">-0.0891099</td><td style=\"text-align: right;\"> 0.110774 </td><td style=\"text-align: right;\">-0.0174584  </td><td style=\"text-align: right;\">-0.0288389</td><td style=\"text-align: right;\">-0.0306916 </td><td style=\"text-align: right;\">-0.0291776</td><td style=\"text-align: right;\">-0.102718 </td><td style=\"text-align: right;\">-0.151704 </td><td style=\"text-align: right;\">0.168603</td><td style=\"text-align: right;\">-0.0744969</td><td style=\"text-align: right;\">-0.0864446 </td><td style=\"text-align: right;\">0.0526603 </td><td style=\"text-align: right;\">-0.038206  </td><td style=\"text-align: right;\"> 0.157877  </td><td style=\"text-align: right;\">-0.0261321</td><td style=\"text-align: right;\"> 0.00719404</td><td style=\"text-align: right;\"> 0.0490574</td><td style=\"text-align: right;\">0.184451 </td><td style=\"text-align: right;\"> 0.0128334 </td><td style=\"text-align: right;\">-0.08106  </td><td style=\"text-align: right;\"> 0.0657595  </td><td style=\"text-align: right;\"> 0.0123842 </td><td style=\"text-align: right;\"> 0.0182222 </td><td style=\"text-align: right;\">-0.0405839</td><td style=\"text-align: right;\">0.0607763</td><td style=\"text-align: right;\">-0.00668073</td><td style=\"text-align: right;\">-0.141646 </td><td style=\"text-align: right;\"> 0.0110707</td><td style=\"text-align: right;\">0.109705 </td><td style=\"text-align: right;\"> 0.0948252</td><td style=\"text-align: right;\">0.117275 </td><td style=\"text-align: right;\"> 0.0411354 </td><td style=\"text-align: right;\">-0.0331181</td><td style=\"text-align: right;\"> 0.00253247</td><td style=\"text-align: right;\">0.113964 </td><td style=\"text-align: right;\">-0.0329304</td><td style=\"text-align: right;\">-0.00909539</td><td style=\"text-align: right;\"> 0.0473056 </td><td style=\"text-align: right;\">0.156388  </td><td style=\"text-align: right;\">-0.054214 </td><td style=\"text-align: right;\">-0.0311135</td><td style=\"text-align: right;\">-0.049593 </td><td style=\"text-align: right;\"> 0.106849 </td><td style=\"text-align: right;\">-0.0456326 </td><td style=\"text-align: right;\">0.0836845 </td><td style=\"text-align: right;\">0.107159 </td><td style=\"text-align: right;\"> 0.0452799</td><td style=\"text-align: right;\"> 0.0645329</td><td style=\"text-align: right;\"> 0.0020185</td><td style=\"text-align: right;\">-0.0715932 </td><td style=\"text-align: right;\">-0.0556652 </td><td style=\"text-align: right;\">0.135935 </td><td style=\"text-align: right;\">-0.0414724 </td><td style=\"text-align: right;\">-0.135423 </td><td style=\"text-align: right;\">-0.0759807 </td><td style=\"text-align: right;\">-0.0141295</td><td style=\"text-align: right;\">0.122858 </td><td style=\"text-align: right;\"> 0.048554 </td></tr>\n",
              "<tr><td style=\"text-align: right;\">      2</td><td>b&#x27;Wow!&#x27;                                                                  </td><td>b&quot;Man, for all you who know what I&#x27;m talking about, this is the best thing I&#x27;ve ever had on my back.  I suffer from back pain constantly and find myself waking up in the middle of the night pushing parts of my back and neck on the edges of walls on the corners of doors and sometimes lying down on tennis or racket balls to get pressure on those dang trigger points.  I opted for the body sticks package not knowing what they would do and it was a good thing.  They are like have racket balls on the ends of sticks to beat your muscle spasms and to lie down on them rolling around on your back. It is worth the money.  They use a device similar to this in physical therapy so if you get your doctor to write you a script for it, insurance may very well pay for it like mine did.  Even so, paid or not, buy this sucker.  Buy two, I thought, just in case it breaks and they for some reason stop manufacturing this thing.  Good stuff.&quot;                                                                                                                                                              </td><td style=\"text-align: right;\">       5</td><td style=\"text-align: right;\">       1</td><td style=\"text-align: right;\">0.0810841</td><td style=\"text-align: right;\">0.0983929</td><td style=\"text-align: right;\">0.0878222</td><td style=\"text-align: right;\"> 0.0366709</td><td style=\"text-align: right;\"> 0.0750156</td><td style=\"text-align: right;\">-0.081728 </td><td style=\"text-align: right;\">-0.0941071</td><td style=\"text-align: right;\">0.205436</td><td style=\"text-align: right;\">-0.0375306</td><td style=\"text-align: right;\"> 0.0570663 </td><td style=\"text-align: right;\"> 0.0451933 </td><td style=\"text-align: right;\">0.095489 </td><td style=\"text-align: right;\"> 0.0260158  </td><td style=\"text-align: right;\">0.0199421 </td><td style=\"text-align: right;\"> 0.0784389 </td><td style=\"text-align: right;\"> 0.00994762</td><td style=\"text-align: right;\"> 0.0547685 </td><td style=\"text-align: right;\">-0.0700528 </td><td style=\"text-align: right;\">0.0599805</td><td style=\"text-align: right;\"> 0.0724743  </td><td style=\"text-align: right;\">-0.0132104  </td><td style=\"text-align: right;\">-0.223446</td><td style=\"text-align: right;\">-0.0673548 </td><td style=\"text-align: right;\"> 0.000442313</td><td style=\"text-align: right;\"> 0.0367425  </td><td style=\"text-align: right;\">-0.00706792 </td><td style=\"text-align: right;\">-0.0168192 </td><td style=\"text-align: right;\">0.119371 </td><td style=\"text-align: right;\">-0.208061</td><td style=\"text-align: right;\"> 0.0238111</td><td style=\"text-align: right;\">-0.031631  </td><td style=\"text-align: right;\">-0.0643017</td><td style=\"text-align: right;\">-0.0842288</td><td style=\"text-align: right;\">-0.060619 </td><td style=\"text-align: right;\"> 0.0358701 </td><td style=\"text-align: right;\">-0.0905819</td><td style=\"text-align: right;\">-0.0716328</td><td style=\"text-align: right;\"> 0.0128841</td><td style=\"text-align: right;\"> 0.103654 </td><td style=\"text-align: right;\"> 0.0505817 </td><td style=\"text-align: right;\">-0.0977753</td><td style=\"text-align: right;\"> 0.0573299 </td><td style=\"text-align: right;\">-0.0170653</td><td style=\"text-align: right;\"> 0.15967  </td><td style=\"text-align: right;\"> 0.000847472</td><td style=\"text-align: right;\">-0.0017818</td><td style=\"text-align: right;\"> 0.0125368 </td><td style=\"text-align: right;\">-0.0265713</td><td style=\"text-align: right;\">-0.0729008</td><td style=\"text-align: right;\">-0.124589 </td><td style=\"text-align: right;\">0.177873</td><td style=\"text-align: right;\">-0.0833243</td><td style=\"text-align: right;\">-0.0735446 </td><td style=\"text-align: right;\">0.0579862 </td><td style=\"text-align: right;\">-0.00976681</td><td style=\"text-align: right;\"> 0.0944642 </td><td style=\"text-align: right;\">-0.0558192</td><td style=\"text-align: right;\"> 0.0347471 </td><td style=\"text-align: right;\"> 0.0495811</td><td style=\"text-align: right;\">0.169656 </td><td style=\"text-align: right;\"> 0.00887781</td><td style=\"text-align: right;\">-0.0370562</td><td style=\"text-align: right;\"> 0.0923524  </td><td style=\"text-align: right;\"> 0.0225231 </td><td style=\"text-align: right;\">-0.0501373 </td><td style=\"text-align: right;\">-0.0234993</td><td style=\"text-align: right;\">0.0867613</td><td style=\"text-align: right;\">-0.0128557 </td><td style=\"text-align: right;\">-0.0356261</td><td style=\"text-align: right;\"> 0.0834583</td><td style=\"text-align: right;\">0.126254 </td><td style=\"text-align: right;\"> 0.0828689</td><td style=\"text-align: right;\">0.103016 </td><td style=\"text-align: right;\"> 0.0399333 </td><td style=\"text-align: right;\"> 0.0257776</td><td style=\"text-align: right;\"> 0.0639252 </td><td style=\"text-align: right;\">0.190311 </td><td style=\"text-align: right;\">-0.0410111</td><td style=\"text-align: right;\"> 0.0263699 </td><td style=\"text-align: right;\"> 0.0232538 </td><td style=\"text-align: right;\">0.136042  </td><td style=\"text-align: right;\">-0.0826214</td><td style=\"text-align: right;\">-0.0396102</td><td style=\"text-align: right;\">-0.0912433</td><td style=\"text-align: right;\"> 0.100314 </td><td style=\"text-align: right;\">-0.119502  </td><td style=\"text-align: right;\">0.0515929 </td><td style=\"text-align: right;\">0.03851  </td><td style=\"text-align: right;\"> 0.0248161</td><td style=\"text-align: right;\"> 0.0808391</td><td style=\"text-align: right;\"> 0.0237151</td><td style=\"text-align: right;\">-0.0720891 </td><td style=\"text-align: right;\"> 0.0216588 </td><td style=\"text-align: right;\">0.151795 </td><td style=\"text-align: right;\">-0.0258315 </td><td style=\"text-align: right;\">-0.160452 </td><td style=\"text-align: right;\">-0.0595155 </td><td style=\"text-align: right;\">-0.0165779</td><td style=\"text-align: right;\">0.104787 </td><td style=\"text-align: right;\"> 0.0119941</td></tr>\n",
              "<tr><td style=\"text-align: right;\">      1</td><td>b&#x27;Great cane for people with hand and wrist issues&#x27;                      </td><td>b&quot;I purchased this cane to assist me when I have to walk long distances.  I have rheumatoid arthritis that has particularly affected my low back and hips, and it sometimes makes walking difficult.  The problem with using a cane when you have RA is that RA doesn&#x27;t just affect your lower extremities.  My hands, wrists, and shoulders are also affected.  When I tried a normal cane, it was agonizingly painful for my hand and wrist in particular.  That made it not worth using, even though it did help my hip and back.  A friend with similar issues recommended this one, and the difference was amazing.  It is still a bit hard on my hand after awhile, but not to the point that would make it not worth using.  There really is no perfect solution for this circumstance short of a wheelchair, and I&#x27;m nowhere near ready for that yet!  The forearm rest makes it bearable to use this cane, and it does really help me to walk longer distances when I need to!  It is a great product, and I&#x27;m happy that I purchased it!&quot;                                                                               </td><td style=\"text-align: right;\">       4</td><td style=\"text-align: right;\">       1</td><td style=\"text-align: right;\">0.10803  </td><td style=\"text-align: right;\">0.113233 </td><td style=\"text-align: right;\">0.0591104</td><td style=\"text-align: right;\"> 0.0454265</td><td style=\"text-align: right;\"> 0.101606 </td><td style=\"text-align: right;\">-0.0408791</td><td style=\"text-align: right;\">-0.0712747</td><td style=\"text-align: right;\">0.165614</td><td style=\"text-align: right;\">-0.0138481</td><td style=\"text-align: right;\"> 0.0901899 </td><td style=\"text-align: right;\">-0.0150355 </td><td style=\"text-align: right;\">0.0893796</td><td style=\"text-align: right;\">-0.00772034 </td><td style=\"text-align: right;\">0.0492968 </td><td style=\"text-align: right;\"> 0.00308092</td><td style=\"text-align: right;\">-0.0454129 </td><td style=\"text-align: right;\"> 0.0704459 </td><td style=\"text-align: right;\">-0.0427783 </td><td style=\"text-align: right;\">0.0645295</td><td style=\"text-align: right;\"> 0.0368903  </td><td style=\"text-align: right;\"> 0.0145296  </td><td style=\"text-align: right;\">-0.235837</td><td style=\"text-align: right;\">-0.0708448 </td><td style=\"text-align: right;\"> 0.00105701 </td><td style=\"text-align: right;\"> 0.0306673  </td><td style=\"text-align: right;\">-0.0140228  </td><td style=\"text-align: right;\">-0.0294444 </td><td style=\"text-align: right;\">0.116809 </td><td style=\"text-align: right;\">-0.187515</td><td style=\"text-align: right;\"> 0.0498606</td><td style=\"text-align: right;\">-0.019991  </td><td style=\"text-align: right;\">-0.0679947</td><td style=\"text-align: right;\">-0.0712887</td><td style=\"text-align: right;\">-0.0823039</td><td style=\"text-align: right;\"> 0.00170135</td><td style=\"text-align: right;\">-0.0703777</td><td style=\"text-align: right;\">-0.0487114</td><td style=\"text-align: right;\"> 0.0587763</td><td style=\"text-align: right;\"> 0.0737196</td><td style=\"text-align: right;\"> 0.00734738</td><td style=\"text-align: right;\">-0.0963337</td><td style=\"text-align: right;\"> 0.00471263</td><td style=\"text-align: right;\">-0.024606 </td><td style=\"text-align: right;\"> 0.113277 </td><td style=\"text-align: right;\"> 0.0348925  </td><td style=\"text-align: right;\">-0.0130295</td><td style=\"text-align: right;\">-0.0575264 </td><td style=\"text-align: right;\"> 0.0625373</td><td style=\"text-align: right;\">-0.132125 </td><td style=\"text-align: right;\">-0.18266  </td><td style=\"text-align: right;\">0.181239</td><td style=\"text-align: right;\">-0.0841221</td><td style=\"text-align: right;\">-0.0698063 </td><td style=\"text-align: right;\">0.0710529 </td><td style=\"text-align: right;\">-0.0202315 </td><td style=\"text-align: right;\"> 0.111991  </td><td style=\"text-align: right;\">-0.0445501</td><td style=\"text-align: right;\"> 0.0939234 </td><td style=\"text-align: right;\"> 0.0525308</td><td style=\"text-align: right;\">0.167355 </td><td style=\"text-align: right;\"> 0.0713977 </td><td style=\"text-align: right;\">-0.0687568</td><td style=\"text-align: right;\"> 0.0982793  </td><td style=\"text-align: right;\"> 0.0537723 </td><td style=\"text-align: right;\"> 0.0200467 </td><td style=\"text-align: right;\"> 0.0107599</td><td style=\"text-align: right;\">0.109996 </td><td style=\"text-align: right;\">-0.0284748 </td><td style=\"text-align: right;\">-0.0417611</td><td style=\"text-align: right;\"> 0.057167 </td><td style=\"text-align: right;\">0.0931835</td><td style=\"text-align: right;\"> 0.0801345</td><td style=\"text-align: right;\">0.0994689</td><td style=\"text-align: right;\"> 0.00640396</td><td style=\"text-align: right;\">-0.0182263</td><td style=\"text-align: right;\"> 0.0749476 </td><td style=\"text-align: right;\">0.199629 </td><td style=\"text-align: right;\">-0.0821878</td><td style=\"text-align: right;\"> 0.0107776 </td><td style=\"text-align: right;\"> 0.00730485</td><td style=\"text-align: right;\">0.0933344 </td><td style=\"text-align: right;\">-0.0932285</td><td style=\"text-align: right;\">-0.071254 </td><td style=\"text-align: right;\">-0.121134 </td><td style=\"text-align: right;\"> 0.07035  </td><td style=\"text-align: right;\">-0.0572775 </td><td style=\"text-align: right;\">0.0597099 </td><td style=\"text-align: right;\">0.0225946</td><td style=\"text-align: right;\"> 0.0429855</td><td style=\"text-align: right;\"> 0.0576924</td><td style=\"text-align: right;\"> 0.0557077</td><td style=\"text-align: right;\">-0.105219  </td><td style=\"text-align: right;\"> 0.0303827 </td><td style=\"text-align: right;\">0.182585 </td><td style=\"text-align: right;\">-0.0293144 </td><td style=\"text-align: right;\">-0.142809 </td><td style=\"text-align: right;\">-0.0975149 </td><td style=\"text-align: right;\">-0.0478109</td><td style=\"text-align: right;\">0.0429077</td><td style=\"text-align: right;\"> 0.0152282</td></tr>\n",
              "</tbody>\n",
              "</table>"
            ]
          },
          "metadata": {
            "tags": []
          }
        },
        {
          "output_type": "execute_result",
          "data": {
            "text/plain": [
              ""
            ]
          },
          "metadata": {
            "tags": []
          },
          "execution_count": 38
        }
      ]
    },
    {
      "cell_type": "code",
      "metadata": {
        "id": "mnW6nH7Q1UOA"
      },
      "source": [
        "### split the xtended h2o dataframe between 80-20 ration between train and validation dataset\n",
        "h2o_train, h2o_valid = h2o_extended_df.split_frame(ratios=[0.8])"
      ],
      "execution_count": 43,
      "outputs": []
    },
    {
      "cell_type": "code",
      "metadata": {
        "id": "Jn-vdjBk7bp9",
        "outputId": "80605185-2cda-4320-d275-500cdea0e7c8",
        "colab": {
          "base_uri": "https://localhost:8080/",
          "height": 82
        }
      },
      "source": [
        "### check the distributuin of validation dataset\n",
        "h2o_valid['target'].table()"
      ],
      "execution_count": 45,
      "outputs": [
        {
          "output_type": "display_data",
          "data": {
            "text/html": [
              "<table>\n",
              "<thead>\n",
              "<tr><th style=\"text-align: right;\">  target</th><th style=\"text-align: right;\">  Count</th></tr>\n",
              "</thead>\n",
              "<tbody>\n",
              "<tr><td style=\"text-align: right;\">       0</td><td style=\"text-align: right;\">   4765</td></tr>\n",
              "<tr><td style=\"text-align: right;\">       1</td><td style=\"text-align: right;\">  12501</td></tr>\n",
              "</tbody>\n",
              "</table>"
            ]
          },
          "metadata": {
            "tags": []
          }
        },
        {
          "output_type": "execute_result",
          "data": {
            "text/plain": [
              ""
            ]
          },
          "metadata": {
            "tags": []
          },
          "execution_count": 45
        }
      ]
    },
    {
      "cell_type": "code",
      "metadata": {
        "id": "BUet80_27utv"
      },
      "source": [
        "### instantiate the GBM baseline model\n",
        "### with stopping tolerance of 0.001 between last 5 rounds of training \n",
        "gbm_baseline = H2OGradientBoostingEstimator(stopping_metric='AUC', \n",
        "                                            stopping_tolerance=0.001,\n",
        "                                            stopping_rounds=5,\n",
        "                                            score_tree_interval=10)"
      ],
      "execution_count": 46,
      "outputs": []
    },
    {
      "cell_type": "code",
      "metadata": {
        "id": "mub5JHKf8qvW",
        "outputId": "c51ed089-7458-44e0-bdf9-bf8c358c5799",
        "colab": {
          "base_uri": "https://localhost:8080/"
        }
      },
      "source": [
        "### train the model with h20_train dataset with column names from original \n",
        "### review vectors(c1--> c100) and yhat being 'target' classifier column\n",
        "gbm_baseline.train(x=review_vectors.names, y='target', training_frame=h2o_train, validation_frame=h2o_valid)"
      ],
      "execution_count": 47,
      "outputs": [
        {
          "output_type": "stream",
          "text": [
            "gbm Model Build progress: |███████████████████████████████████████████████| 100%\n"
          ],
          "name": "stdout"
        }
      ]
    },
    {
      "cell_type": "code",
      "metadata": {
        "id": "sDVSK_Rc9ffc",
        "outputId": "8b9d11ef-e961-4e61-e865-72f76133bfd4",
        "colab": {
          "base_uri": "https://localhost:8080/"
        }
      },
      "source": [
        "### verify the Area under curve from the above trained dataset\n",
        "print('Baselined AUC:  ' + str(round(gbm_baseline.auc(valid=True), 3)))"
      ],
      "execution_count": 48,
      "outputs": [
        {
          "output_type": "stream",
          "text": [
            "Baselined AUC:  0.886\n"
          ],
          "name": "stdout"
        }
      ]
    },
    {
      "cell_type": "code",
      "metadata": {
        "id": "0lkCVyPX91Th",
        "outputId": "18dda25a-741e-420f-90b7-e958ec561336",
        "colab": {
          "base_uri": "https://localhost:8080/",
          "height": 173
        }
      },
      "source": [
        "### check the confusion matrix for under and over fitting\n",
        "gbm_baseline.confusion_matrix(valid=True)"
      ],
      "execution_count": 49,
      "outputs": [
        {
          "output_type": "stream",
          "text": [
            "\n",
            "Confusion Matrix (Act/Pred) for max f1 @ threshold = 0.541041407871051: \n"
          ],
          "name": "stdout"
        },
        {
          "output_type": "display_data",
          "data": {
            "text/html": [
              "<div>\n",
              "<style scoped>\n",
              "    .dataframe tbody tr th:only-of-type {\n",
              "        vertical-align: middle;\n",
              "    }\n",
              "\n",
              "    .dataframe tbody tr th {\n",
              "        vertical-align: top;\n",
              "    }\n",
              "\n",
              "    .dataframe thead th {\n",
              "        text-align: right;\n",
              "    }\n",
              "</style>\n",
              "<table border=\"1\" class=\"dataframe\">\n",
              "  <thead>\n",
              "    <tr style=\"text-align: right;\">\n",
              "      <th></th>\n",
              "      <th></th>\n",
              "      <th>0</th>\n",
              "      <th>1</th>\n",
              "      <th>Error</th>\n",
              "      <th>Rate</th>\n",
              "    </tr>\n",
              "  </thead>\n",
              "  <tbody>\n",
              "    <tr>\n",
              "      <th>0</th>\n",
              "      <td>0</td>\n",
              "      <td>2776.0</td>\n",
              "      <td>1989.0</td>\n",
              "      <td>0.4174</td>\n",
              "      <td>(1989.0/4765.0)</td>\n",
              "    </tr>\n",
              "    <tr>\n",
              "      <th>1</th>\n",
              "      <td>1</td>\n",
              "      <td>848.0</td>\n",
              "      <td>11653.0</td>\n",
              "      <td>0.0678</td>\n",
              "      <td>(848.0/12501.0)</td>\n",
              "    </tr>\n",
              "    <tr>\n",
              "      <th>2</th>\n",
              "      <td>Total</td>\n",
              "      <td>3624.0</td>\n",
              "      <td>13642.0</td>\n",
              "      <td>0.1643</td>\n",
              "      <td>(2837.0/17266.0)</td>\n",
              "    </tr>\n",
              "  </tbody>\n",
              "</table>\n",
              "</div>"
            ],
            "text/plain": [
              "               0        1   Error               Rate\n",
              "0      0  2776.0   1989.0  0.4174    (1989.0/4765.0)\n",
              "1      1   848.0  11653.0  0.0678    (848.0/12501.0)\n",
              "2  Total  3624.0  13642.0  0.1643   (2837.0/17266.0)"
            ]
          },
          "metadata": {
            "tags": []
          }
        },
        {
          "output_type": "execute_result",
          "data": {
            "text/plain": [
              ""
            ]
          },
          "metadata": {
            "tags": []
          },
          "execution_count": 49
        }
      ]
    },
    {
      "cell_type": "code",
      "metadata": {
        "id": "JBPSlF8d-PUp"
      },
      "source": [
        "### instantiate H2o GradientBoosting estimator, with Balanced classes/distribution\n",
        "### along with 0.001 tolerance for last 5 rounds of training\n",
        "gbm_balanced = H2OGradientBoostingEstimator(stopping_metric='AUC',\n",
        "                                            stopping_tolerance=0.001,\n",
        "                                            stopping_rounds=5,\n",
        "                                            score_tree_interval=10,\n",
        "                                            balance_classes=True)"
      ],
      "execution_count": 51,
      "outputs": []
    },
    {
      "cell_type": "code",
      "metadata": {
        "id": "RNW_OZbD-1n_",
        "outputId": "ff446073-3a19-4f3b-9a72-42e8c7faec4c",
        "colab": {
          "base_uri": "https://localhost:8080/"
        }
      },
      "source": [
        "### train again, with balanced classes\n",
        "gbm_balanced.train(x=review_vectors.names, y='target', training_frame=h2o_train, validation_frame=h2o_valid)"
      ],
      "execution_count": 53,
      "outputs": [
        {
          "output_type": "stream",
          "text": [
            "gbm Model Build progress: |███████████████████████████████████████████████| 100%\n"
          ],
          "name": "stdout"
        }
      ]
    },
    {
      "cell_type": "code",
      "metadata": {
        "id": "yE0sL9kc_hDz",
        "outputId": "c832f919-e373-446e-ccb9-03da7a452e68",
        "colab": {
          "base_uri": "https://localhost:8080/"
        }
      },
      "source": [
        "### print again the AUC for balanced classes. no guarntee but better to validat this balanced class might \n",
        "###return better than unbalanced\n",
        "print('Balanced GBM AUC: '+ str(round(gbm_balanced.auc(valid=True),3))) "
      ],
      "execution_count": 54,
      "outputs": [
        {
          "output_type": "stream",
          "text": [
            "Balanced GBM AUC: 0.886\n"
          ],
          "name": "stdout"
        }
      ]
    },
    {
      "cell_type": "code",
      "metadata": {
        "id": "X4udv6HN_9KU",
        "outputId": "975f08dd-3544-47b3-fc71-e0a241abb166",
        "colab": {
          "base_uri": "https://localhost:8080/",
          "height": 173
        }
      },
      "source": [
        "### check the confusion matrix for under and over fitting\n",
        "gbm_balanced.confusion_matrix(valid=True)"
      ],
      "execution_count": 55,
      "outputs": [
        {
          "output_type": "stream",
          "text": [
            "\n",
            "Confusion Matrix (Act/Pred) for max f1 @ threshold = 0.5439243497810086: \n"
          ],
          "name": "stdout"
        },
        {
          "output_type": "display_data",
          "data": {
            "text/html": [
              "<div>\n",
              "<style scoped>\n",
              "    .dataframe tbody tr th:only-of-type {\n",
              "        vertical-align: middle;\n",
              "    }\n",
              "\n",
              "    .dataframe tbody tr th {\n",
              "        vertical-align: top;\n",
              "    }\n",
              "\n",
              "    .dataframe thead th {\n",
              "        text-align: right;\n",
              "    }\n",
              "</style>\n",
              "<table border=\"1\" class=\"dataframe\">\n",
              "  <thead>\n",
              "    <tr style=\"text-align: right;\">\n",
              "      <th></th>\n",
              "      <th></th>\n",
              "      <th>0</th>\n",
              "      <th>1</th>\n",
              "      <th>Error</th>\n",
              "      <th>Rate</th>\n",
              "    </tr>\n",
              "  </thead>\n",
              "  <tbody>\n",
              "    <tr>\n",
              "      <th>0</th>\n",
              "      <td>0</td>\n",
              "      <td>2650.0</td>\n",
              "      <td>2115.0</td>\n",
              "      <td>0.4439</td>\n",
              "      <td>(2115.0/4765.0)</td>\n",
              "    </tr>\n",
              "    <tr>\n",
              "      <th>1</th>\n",
              "      <td>1</td>\n",
              "      <td>781.0</td>\n",
              "      <td>11720.0</td>\n",
              "      <td>0.0625</td>\n",
              "      <td>(781.0/12501.0)</td>\n",
              "    </tr>\n",
              "    <tr>\n",
              "      <th>2</th>\n",
              "      <td>Total</td>\n",
              "      <td>3431.0</td>\n",
              "      <td>13835.0</td>\n",
              "      <td>0.1677</td>\n",
              "      <td>(2896.0/17266.0)</td>\n",
              "    </tr>\n",
              "  </tbody>\n",
              "</table>\n",
              "</div>"
            ],
            "text/plain": [
              "               0        1   Error               Rate\n",
              "0      0  2650.0   2115.0  0.4439    (2115.0/4765.0)\n",
              "1      1   781.0  11720.0  0.0625    (781.0/12501.0)\n",
              "2  Total  3431.0  13835.0  0.1677   (2896.0/17266.0)"
            ]
          },
          "metadata": {
            "tags": []
          }
        },
        {
          "output_type": "execute_result",
          "data": {
            "text/plain": [
              ""
            ]
          },
          "metadata": {
            "tags": []
          },
          "execution_count": 55
        }
      ]
    },
    {
      "cell_type": "markdown",
      "metadata": {
        "id": "mRcVHuxuBACA"
      },
      "source": [
        "# #*Out Come from above Model:*  Not much difference between balanced v/s baseline GBM model. Looking at confusion matrix, error got increased with '0' classification in balanced model*\n",
        "-----------------------------------------------------------------------\n",
        "\n",
        "\n",
        "\n",
        "\n",
        "\n"
      ]
    },
    {
      "cell_type": "code",
      "metadata": {
        "id": "LbPCaAM1BdDz"
      },
      "source": [
        "### let's add review headline texts\n",
        "\n",
        "#### create a headline vector using word2Vec \n",
        "##### append prefix 'headline_' to the each column for identfication\n",
        "headline_vectors = vec_model.transform(headline_words, aggregate_method='AVERAGE')\n",
        "headline_vectors.names = ['headline_' +  col for col in headline_vectors.names]"
      ],
      "execution_count": 89,
      "outputs": []
    },
    {
      "cell_type": "code",
      "metadata": {
        "id": "ejzXvF1DKw31",
        "outputId": "3120a58f-4d59-48da-ed6e-d256458d1652",
        "colab": {
          "base_uri": "https://localhost:8080/",
          "height": 213
        }
      },
      "source": [
        "headline_words.head()"
      ],
      "execution_count": 90,
      "outputs": [
        {
          "output_type": "display_data",
          "data": {
            "text/html": [
              "<table>\n",
              "<thead>\n",
              "<tr><th>C1       </th></tr>\n",
              "</thead>\n",
              "<tbody>\n",
              "<tr><td>these    </td></tr>\n",
              "<tr><td>glasses  </td></tr>\n",
              "<tr><td>are      </td></tr>\n",
              "<tr><td>an       </td></tr>\n",
              "<tr><td>excellent</td></tr>\n",
              "<tr><td>value    </td></tr>\n",
              "<tr><td>the      </td></tr>\n",
              "<tr><td>fit      </td></tr>\n",
              "<tr><td>is       </td></tr>\n",
              "<tr><td>good     </td></tr>\n",
              "</tbody>\n",
              "</table>"
            ]
          },
          "metadata": {
            "tags": []
          }
        },
        {
          "output_type": "execute_result",
          "data": {
            "text/plain": [
              ""
            ]
          },
          "metadata": {
            "tags": []
          },
          "execution_count": 90
        }
      ]
    },
    {
      "cell_type": "code",
      "metadata": {
        "id": "XdfpLO80DrAg",
        "outputId": "d490e8ae-c80d-4eb1-83ca-3067afeef225",
        "colab": {
          "base_uri": "https://localhost:8080/",
          "height": 233
        }
      },
      "source": [
        "headline_vectors.head()"
      ],
      "execution_count": 91,
      "outputs": [
        {
          "output_type": "display_data",
          "data": {
            "text/html": [
              "<table>\n",
              "<thead>\n",
              "<tr><th style=\"text-align: right;\">  headline_C1</th><th style=\"text-align: right;\">  headline_C2</th><th style=\"text-align: right;\">  headline_C3</th><th style=\"text-align: right;\">  headline_C4</th><th style=\"text-align: right;\">  headline_C5</th><th style=\"text-align: right;\">  headline_C6</th><th style=\"text-align: right;\">  headline_C7</th><th style=\"text-align: right;\">  headline_C8</th><th style=\"text-align: right;\">  headline_C9</th><th style=\"text-align: right;\">  headline_C10</th><th style=\"text-align: right;\">  headline_C11</th><th style=\"text-align: right;\">  headline_C12</th><th style=\"text-align: right;\">  headline_C13</th><th style=\"text-align: right;\">  headline_C14</th><th style=\"text-align: right;\">  headline_C15</th><th style=\"text-align: right;\">  headline_C16</th><th style=\"text-align: right;\">  headline_C17</th><th style=\"text-align: right;\">  headline_C18</th><th style=\"text-align: right;\">  headline_C19</th><th style=\"text-align: right;\">  headline_C20</th><th style=\"text-align: right;\">  headline_C21</th><th style=\"text-align: right;\">  headline_C22</th><th style=\"text-align: right;\">  headline_C23</th><th style=\"text-align: right;\">  headline_C24</th><th style=\"text-align: right;\">  headline_C25</th><th style=\"text-align: right;\">  headline_C26</th><th style=\"text-align: right;\">  headline_C27</th><th style=\"text-align: right;\">  headline_C28</th><th style=\"text-align: right;\">  headline_C29</th><th style=\"text-align: right;\">  headline_C30</th><th style=\"text-align: right;\">  headline_C31</th><th style=\"text-align: right;\">  headline_C32</th><th style=\"text-align: right;\">  headline_C33</th><th style=\"text-align: right;\">  headline_C34</th><th style=\"text-align: right;\">  headline_C35</th><th style=\"text-align: right;\">  headline_C36</th><th style=\"text-align: right;\">  headline_C37</th><th style=\"text-align: right;\">  headline_C38</th><th style=\"text-align: right;\">  headline_C39</th><th style=\"text-align: right;\">  headline_C40</th><th style=\"text-align: right;\">  headline_C41</th><th style=\"text-align: right;\">  headline_C42</th><th style=\"text-align: right;\">  headline_C43</th><th style=\"text-align: right;\">  headline_C44</th><th style=\"text-align: right;\">  headline_C45</th><th style=\"text-align: right;\">  headline_C46</th><th style=\"text-align: right;\">  headline_C47</th><th style=\"text-align: right;\">  headline_C48</th><th style=\"text-align: right;\">  headline_C49</th><th style=\"text-align: right;\">  headline_C50</th><th style=\"text-align: right;\">  headline_C51</th><th style=\"text-align: right;\">  headline_C52</th><th style=\"text-align: right;\">  headline_C53</th><th style=\"text-align: right;\">  headline_C54</th><th style=\"text-align: right;\">  headline_C55</th><th style=\"text-align: right;\">  headline_C56</th><th style=\"text-align: right;\">  headline_C57</th><th style=\"text-align: right;\">  headline_C58</th><th style=\"text-align: right;\">  headline_C59</th><th style=\"text-align: right;\">  headline_C60</th><th style=\"text-align: right;\">  headline_C61</th><th style=\"text-align: right;\">  headline_C62</th><th style=\"text-align: right;\">  headline_C63</th><th style=\"text-align: right;\">  headline_C64</th><th style=\"text-align: right;\">  headline_C65</th><th style=\"text-align: right;\">  headline_C66</th><th style=\"text-align: right;\">  headline_C67</th><th style=\"text-align: right;\">  headline_C68</th><th style=\"text-align: right;\">  headline_C69</th><th style=\"text-align: right;\">  headline_C70</th><th style=\"text-align: right;\">  headline_C71</th><th style=\"text-align: right;\">  headline_C72</th><th style=\"text-align: right;\">  headline_C73</th><th style=\"text-align: right;\">  headline_C74</th><th style=\"text-align: right;\">  headline_C75</th><th style=\"text-align: right;\">  headline_C76</th><th style=\"text-align: right;\">  headline_C77</th><th style=\"text-align: right;\">  headline_C78</th><th style=\"text-align: right;\">  headline_C79</th><th style=\"text-align: right;\">  headline_C80</th><th style=\"text-align: right;\">  headline_C81</th><th style=\"text-align: right;\">  headline_C82</th><th style=\"text-align: right;\">  headline_C83</th><th style=\"text-align: right;\">  headline_C84</th><th style=\"text-align: right;\">  headline_C85</th><th style=\"text-align: right;\">  headline_C86</th><th style=\"text-align: right;\">  headline_C87</th><th style=\"text-align: right;\">  headline_C88</th><th style=\"text-align: right;\">  headline_C89</th><th style=\"text-align: right;\">  headline_C90</th><th style=\"text-align: right;\">  headline_C91</th><th style=\"text-align: right;\">  headline_C92</th><th style=\"text-align: right;\">  headline_C93</th><th style=\"text-align: right;\">  headline_C94</th><th style=\"text-align: right;\">  headline_C95</th><th style=\"text-align: right;\">  headline_C96</th><th style=\"text-align: right;\">  headline_C97</th><th style=\"text-align: right;\">  headline_C98</th><th style=\"text-align: right;\">  headline_C99</th><th style=\"text-align: right;\">  headline_C100</th></tr>\n",
              "</thead>\n",
              "<tbody>\n",
              "<tr><td style=\"text-align: right;\">    0.120433 </td><td style=\"text-align: right;\">   0.120275  </td><td style=\"text-align: right;\">    0.18225  </td><td style=\"text-align: right;\">    0.108753 </td><td style=\"text-align: right;\">    0.0225839</td><td style=\"text-align: right;\"> -0.133953   </td><td style=\"text-align: right;\">   0.00737818</td><td style=\"text-align: right;\">    0.271908 </td><td style=\"text-align: right;\">   -0.078657 </td><td style=\"text-align: right;\">     0.0189213</td><td style=\"text-align: right;\">     0.0583077</td><td style=\"text-align: right;\">     0.0446394</td><td style=\"text-align: right;\">     0.0599999</td><td style=\"text-align: right;\">     0.0243721</td><td style=\"text-align: right;\">     0.018249 </td><td style=\"text-align: right;\">    -0.0599809</td><td style=\"text-align: right;\">     0.0738756</td><td style=\"text-align: right;\">    0.046866  </td><td style=\"text-align: right;\">    0.107274  </td><td style=\"text-align: right;\">     0.111002 </td><td style=\"text-align: right;\">    -0.0148671</td><td style=\"text-align: right;\">   -0.296762  </td><td style=\"text-align: right;\">    0.00299188</td><td style=\"text-align: right;\">   -0.0687455 </td><td style=\"text-align: right;\">    -0.0151827</td><td style=\"text-align: right;\">   0.121953   </td><td style=\"text-align: right;\">   -0.0237737 </td><td style=\"text-align: right;\">     0.0905558</td><td style=\"text-align: right;\">    -0.256946 </td><td style=\"text-align: right;\">    -0.0181087</td><td style=\"text-align: right;\">    -0.0364027</td><td style=\"text-align: right;\">   -0.0138636 </td><td style=\"text-align: right;\">    -0.0521989</td><td style=\"text-align: right;\">    -0.0175517</td><td style=\"text-align: right;\">    0.130129  </td><td style=\"text-align: right;\">   -0.064984  </td><td style=\"text-align: right;\">    -0.185326 </td><td style=\"text-align: right;\">    0.0951509 </td><td style=\"text-align: right;\">   -0.0800862 </td><td style=\"text-align: right;\">     0.123126 </td><td style=\"text-align: right;\">    -0.10959  </td><td style=\"text-align: right;\">   -0.0353287 </td><td style=\"text-align: right;\">   -0.121223  </td><td style=\"text-align: right;\">    0.170373  </td><td style=\"text-align: right;\">   -0.0430008 </td><td style=\"text-align: right;\">     0.14486  </td><td style=\"text-align: right;\">   -0.0323719 </td><td style=\"text-align: right;\">   -0.0548278 </td><td style=\"text-align: right;\">    -0.0925091</td><td style=\"text-align: right;\">   -0.189443  </td><td style=\"text-align: right;\">    0.162183  </td><td style=\"text-align: right;\">    -0.127951 </td><td style=\"text-align: right;\">    0.0925832 </td><td style=\"text-align: right;\">     0.0116316</td><td style=\"text-align: right;\">    -0.0157673</td><td style=\"text-align: right;\">     0.0778026</td><td style=\"text-align: right;\">     0.0104479</td><td style=\"text-align: right;\">    -0.0615527</td><td style=\"text-align: right;\">    -0.0587697</td><td style=\"text-align: right;\">      0.102826</td><td style=\"text-align: right;\">    0.10311   </td><td style=\"text-align: right;\">    -0.202775 </td><td style=\"text-align: right;\">     0.0139756</td><td style=\"text-align: right;\">    0.0352815 </td><td style=\"text-align: right;\">     0.010193 </td><td style=\"text-align: right;\">    -0.0706372</td><td style=\"text-align: right;\">     0.0864672</td><td style=\"text-align: right;\">    -0.0410351</td><td style=\"text-align: right;\">    -0.127968 </td><td style=\"text-align: right;\">    0.0289008 </td><td style=\"text-align: right;\">     0.0326841</td><td style=\"text-align: right;\">     0.0524458</td><td style=\"text-align: right;\">     0.116374 </td><td style=\"text-align: right;\">     0.0358663</td><td style=\"text-align: right;\">    0.00354227</td><td style=\"text-align: right;\">   -0.114292  </td><td style=\"text-align: right;\">     0.103039 </td><td style=\"text-align: right;\">    -0.0810837</td><td style=\"text-align: right;\">     0.0558732</td><td style=\"text-align: right;\">     0.0264037</td><td style=\"text-align: right;\">    -0.0115502</td><td style=\"text-align: right;\">    0.00726769</td><td style=\"text-align: right;\">    -0.0476516</td><td style=\"text-align: right;\">     0.0529109</td><td style=\"text-align: right;\">     0.0456636</td><td style=\"text-align: right;\">    -0.060835 </td><td style=\"text-align: right;\">     0.118889 </td><td style=\"text-align: right;\">    -0.0193093</td><td style=\"text-align: right;\">   -0.00876675</td><td style=\"text-align: right;\">    0.0111231 </td><td style=\"text-align: right;\">     0.0636958</td><td style=\"text-align: right;\">   -0.170293  </td><td style=\"text-align: right;\">    -0.0548802</td><td style=\"text-align: right;\">     0.238557 </td><td style=\"text-align: right;\">   -0.165214  </td><td style=\"text-align: right;\">    -0.160083 </td><td style=\"text-align: right;\">    -0.222556 </td><td style=\"text-align: right;\">     0.0700457</td><td style=\"text-align: right;\">    0.239464  </td><td style=\"text-align: right;\">     0.124194  </td></tr>\n",
              "<tr><td style=\"text-align: right;\">    0.158383 </td><td style=\"text-align: right;\">   0.0911363 </td><td style=\"text-align: right;\">    0.0594457</td><td style=\"text-align: right;\">   -0.023756 </td><td style=\"text-align: right;\">    0.0285117</td><td style=\"text-align: right;\"> -0.0493681  </td><td style=\"text-align: right;\">  -0.0824205 </td><td style=\"text-align: right;\">    0.225183 </td><td style=\"text-align: right;\">    0.0667406</td><td style=\"text-align: right;\">    -0.177953 </td><td style=\"text-align: right;\">    -0.0876668</td><td style=\"text-align: right;\">     0.0755046</td><td style=\"text-align: right;\">    -0.0599584</td><td style=\"text-align: right;\">     0.0950688</td><td style=\"text-align: right;\">     0.0402523</td><td style=\"text-align: right;\">     0.0703948</td><td style=\"text-align: right;\">    -0.035847 </td><td style=\"text-align: right;\">    0.127785  </td><td style=\"text-align: right;\">    0.0553006 </td><td style=\"text-align: right;\">     0.0727454</td><td style=\"text-align: right;\">    -0.144333 </td><td style=\"text-align: right;\">   -0.345796  </td><td style=\"text-align: right;\">    0.0622067 </td><td style=\"text-align: right;\">   -0.0747237 </td><td style=\"text-align: right;\">    -0.0160077</td><td style=\"text-align: right;\">   0.0126574  </td><td style=\"text-align: right;\">   -0.032549  </td><td style=\"text-align: right;\">     0.129703 </td><td style=\"text-align: right;\">    -0.289492 </td><td style=\"text-align: right;\">     0.066432 </td><td style=\"text-align: right;\">     0.0989055</td><td style=\"text-align: right;\">   -0.0423197 </td><td style=\"text-align: right;\">    -0.151822 </td><td style=\"text-align: right;\">    -0.0755151</td><td style=\"text-align: right;\">   -0.0152593 </td><td style=\"text-align: right;\">    0.010668  </td><td style=\"text-align: right;\">    -0.084421 </td><td style=\"text-align: right;\">    0.184216  </td><td style=\"text-align: right;\">    0.159839  </td><td style=\"text-align: right;\">     0.0712889</td><td style=\"text-align: right;\">    -0.130636 </td><td style=\"text-align: right;\">    0.103666  </td><td style=\"text-align: right;\">   -0.133982  </td><td style=\"text-align: right;\">    0.136849  </td><td style=\"text-align: right;\">    0.0322409 </td><td style=\"text-align: right;\">    -0.179032 </td><td style=\"text-align: right;\">    0.00127896</td><td style=\"text-align: right;\">   -0.00799716</td><td style=\"text-align: right;\">    -0.127601 </td><td style=\"text-align: right;\">   -0.0673664 </td><td style=\"text-align: right;\">    0.272378  </td><td style=\"text-align: right;\">    -0.107848 </td><td style=\"text-align: right;\">    0.0953653 </td><td style=\"text-align: right;\">    -0.118549 </td><td style=\"text-align: right;\">    -0.0305724</td><td style=\"text-align: right;\">     0.212004 </td><td style=\"text-align: right;\">    -0.042176 </td><td style=\"text-align: right;\">     0.0339364</td><td style=\"text-align: right;\">     0.0957002</td><td style=\"text-align: right;\">      0.147352</td><td style=\"text-align: right;\">   -0.0609625 </td><td style=\"text-align: right;\">    -0.0368138</td><td style=\"text-align: right;\">     0.101308 </td><td style=\"text-align: right;\">    0.00017385</td><td style=\"text-align: right;\">    -0.0343041</td><td style=\"text-align: right;\">    -0.0668019</td><td style=\"text-align: right;\">     0.258299 </td><td style=\"text-align: right;\">     0.0254555</td><td style=\"text-align: right;\">    -0.136551 </td><td style=\"text-align: right;\">    0.0665586 </td><td style=\"text-align: right;\">     0.0890355</td><td style=\"text-align: right;\">     0.0070146</td><td style=\"text-align: right;\">     0.0357433</td><td style=\"text-align: right;\">    -0.233935 </td><td style=\"text-align: right;\">   -0.0966218 </td><td style=\"text-align: right;\">    0.0809717 </td><td style=\"text-align: right;\">     0.0162008</td><td style=\"text-align: right;\">    -0.0902395</td><td style=\"text-align: right;\">     0.0131134</td><td style=\"text-align: right;\">     0.0580345</td><td style=\"text-align: right;\">     0.0649898</td><td style=\"text-align: right;\">    0.00134654</td><td style=\"text-align: right;\">    -0.0597993</td><td style=\"text-align: right;\">    -0.226696 </td><td style=\"text-align: right;\">     0.0422443</td><td style=\"text-align: right;\">    -0.0440965</td><td style=\"text-align: right;\">     0.151241 </td><td style=\"text-align: right;\">     0.157949 </td><td style=\"text-align: right;\">    0.105984  </td><td style=\"text-align: right;\">    0.0251563 </td><td style=\"text-align: right;\">    -0.0387722</td><td style=\"text-align: right;\">    0.093787  </td><td style=\"text-align: right;\">     0.116767 </td><td style=\"text-align: right;\">     0.059078 </td><td style=\"text-align: right;\">   -0.0509626 </td><td style=\"text-align: right;\">    -0.124683 </td><td style=\"text-align: right;\">    -0.0996032</td><td style=\"text-align: right;\">     0.0917846</td><td style=\"text-align: right;\">    0.0856078 </td><td style=\"text-align: right;\">     0.255243  </td></tr>\n",
              "<tr><td style=\"text-align: right;\">    0.155315 </td><td style=\"text-align: right;\">   0.107067  </td><td style=\"text-align: right;\">    0.201106 </td><td style=\"text-align: right;\">    0.0977991</td><td style=\"text-align: right;\">    0.211032 </td><td style=\"text-align: right;\"> -0.109157   </td><td style=\"text-align: right;\">  -0.362653  </td><td style=\"text-align: right;\">    0.11749  </td><td style=\"text-align: right;\">    0.0733845</td><td style=\"text-align: right;\">     0.227801 </td><td style=\"text-align: right;\">    -0.0721864</td><td style=\"text-align: right;\">     0.15982  </td><td style=\"text-align: right;\">     0.0489119</td><td style=\"text-align: right;\">     0.102641 </td><td style=\"text-align: right;\">    -0.0405115</td><td style=\"text-align: right;\">    -0.0774836</td><td style=\"text-align: right;\">    -0.0135211</td><td style=\"text-align: right;\">   -0.119026  </td><td style=\"text-align: right;\">    0.210512  </td><td style=\"text-align: right;\">     0.22427  </td><td style=\"text-align: right;\">     0.187323 </td><td style=\"text-align: right;\">   -0.0528706 </td><td style=\"text-align: right;\">   -0.100386  </td><td style=\"text-align: right;\">   -0.0870847 </td><td style=\"text-align: right;\">     0.0911389</td><td style=\"text-align: right;\">  -0.0035845  </td><td style=\"text-align: right;\">    0.100669  </td><td style=\"text-align: right;\">     0.232219 </td><td style=\"text-align: right;\">    -0.335096 </td><td style=\"text-align: right;\">    -0.0981297</td><td style=\"text-align: right;\">    -0.0654784</td><td style=\"text-align: right;\">   -0.0909164 </td><td style=\"text-align: right;\">    -0.16661  </td><td style=\"text-align: right;\">    -0.122859 </td><td style=\"text-align: right;\">    0.299608  </td><td style=\"text-align: right;\">   -0.215143  </td><td style=\"text-align: right;\">    -0.0425578</td><td style=\"text-align: right;\">    0.236238  </td><td style=\"text-align: right;\">   -0.0605717 </td><td style=\"text-align: right;\">    -0.160653 </td><td style=\"text-align: right;\">    -0.185356 </td><td style=\"text-align: right;\">   -0.16323   </td><td style=\"text-align: right;\">   -0.110075  </td><td style=\"text-align: right;\">    0.148246  </td><td style=\"text-align: right;\">    0.0648741 </td><td style=\"text-align: right;\">     0.158683 </td><td style=\"text-align: right;\">   -0.183198  </td><td style=\"text-align: right;\">   -0.017128  </td><td style=\"text-align: right;\">    -0.117801 </td><td style=\"text-align: right;\">   -0.187811  </td><td style=\"text-align: right;\">    0.0656829 </td><td style=\"text-align: right;\">    -0.107197 </td><td style=\"text-align: right;\">    0.0131921 </td><td style=\"text-align: right;\">    -0.0555841</td><td style=\"text-align: right;\">    -0.0769854</td><td style=\"text-align: right;\">     0.110492 </td><td style=\"text-align: right;\">     0.138162 </td><td style=\"text-align: right;\">    -0.050152 </td><td style=\"text-align: right;\">    -0.0692657</td><td style=\"text-align: right;\">      0.224427</td><td style=\"text-align: right;\">    0.0647492 </td><td style=\"text-align: right;\">    -0.104659 </td><td style=\"text-align: right;\">     0.215378 </td><td style=\"text-align: right;\">    0.0293215 </td><td style=\"text-align: right;\">     0.175371 </td><td style=\"text-align: right;\">    -0.0679926</td><td style=\"text-align: right;\">     0.107643 </td><td style=\"text-align: right;\">     0.0767732</td><td style=\"text-align: right;\">    -0.183057 </td><td style=\"text-align: right;\">   -0.00787593</td><td style=\"text-align: right;\">    -0.0175581</td><td style=\"text-align: right;\">     0.0801506</td><td style=\"text-align: right;\">     0.111214 </td><td style=\"text-align: right;\">     0.0588058</td><td style=\"text-align: right;\">   -0.0318911 </td><td style=\"text-align: right;\">    0.100813  </td><td style=\"text-align: right;\">     0.0196111</td><td style=\"text-align: right;\">    -0.0571866</td><td style=\"text-align: right;\">     0.102153 </td><td style=\"text-align: right;\">     0.0415793</td><td style=\"text-align: right;\">     0.0844041</td><td style=\"text-align: right;\">    0.172505  </td><td style=\"text-align: right;\">     0.0445383</td><td style=\"text-align: right;\">    -0.0955603</td><td style=\"text-align: right;\">    -0.060078 </td><td style=\"text-align: right;\">    -0.043995 </td><td style=\"text-align: right;\">     0.156535 </td><td style=\"text-align: right;\">     0.168686 </td><td style=\"text-align: right;\">   -0.00373436</td><td style=\"text-align: right;\">    0.0144465 </td><td style=\"text-align: right;\">     0.25292  </td><td style=\"text-align: right;\">   -0.170185  </td><td style=\"text-align: right;\">    -0.13373  </td><td style=\"text-align: right;\">     0.0875365</td><td style=\"text-align: right;\">   -0.0743851 </td><td style=\"text-align: right;\">    -0.0569568</td><td style=\"text-align: right;\">    -0.154962 </td><td style=\"text-align: right;\">    -0.0159969</td><td style=\"text-align: right;\">    0.074707  </td><td style=\"text-align: right;\">     0.233252  </td></tr>\n",
              "<tr><td style=\"text-align: right;\">    0.287578 </td><td style=\"text-align: right;\">  -0.0791003 </td><td style=\"text-align: right;\">   -0.0801245</td><td style=\"text-align: right;\">   -0.0123913</td><td style=\"text-align: right;\">   -0.450724 </td><td style=\"text-align: right;\">  0.324777   </td><td style=\"text-align: right;\">  -0.0340229 </td><td style=\"text-align: right;\">    0.358355 </td><td style=\"text-align: right;\">   -0.496945 </td><td style=\"text-align: right;\">    -0.357585 </td><td style=\"text-align: right;\">    -0.039663 </td><td style=\"text-align: right;\">     0.235671 </td><td style=\"text-align: right;\">    -0.050778 </td><td style=\"text-align: right;\">     0.0723774</td><td style=\"text-align: right;\">     0.113801 </td><td style=\"text-align: right;\">    -0.0533906</td><td style=\"text-align: right;\">    -0.100735 </td><td style=\"text-align: right;\">    0.0897777 </td><td style=\"text-align: right;\">   -0.0063056 </td><td style=\"text-align: right;\">    -0.359978 </td><td style=\"text-align: right;\">     0.13543  </td><td style=\"text-align: right;\">    0.103921  </td><td style=\"text-align: right;\">    0.171001  </td><td style=\"text-align: right;\">   -0.138792  </td><td style=\"text-align: right;\">     0.251178 </td><td style=\"text-align: right;\">   0.0135538  </td><td style=\"text-align: right;\">    0.255168  </td><td style=\"text-align: right;\">     0.0582514</td><td style=\"text-align: right;\">    -0.350894 </td><td style=\"text-align: right;\">     0.316692 </td><td style=\"text-align: right;\">    -0.238383 </td><td style=\"text-align: right;\">   -0.34849   </td><td style=\"text-align: right;\">    -0.215181 </td><td style=\"text-align: right;\">    -0.567937 </td><td style=\"text-align: right;\">    0.170695  </td><td style=\"text-align: right;\">   -0.00515726</td><td style=\"text-align: right;\">    -0.312179 </td><td style=\"text-align: right;\">   -0.179965  </td><td style=\"text-align: right;\">   -0.11243   </td><td style=\"text-align: right;\">    -0.0975747</td><td style=\"text-align: right;\">    -0.280463 </td><td style=\"text-align: right;\">   -0.364156  </td><td style=\"text-align: right;\">   -0.0336586 </td><td style=\"text-align: right;\">    0.00718415</td><td style=\"text-align: right;\">    0.325162  </td><td style=\"text-align: right;\">    -0.293684 </td><td style=\"text-align: right;\">   -0.407875  </td><td style=\"text-align: right;\">    0.0140457 </td><td style=\"text-align: right;\">    -0.0718469</td><td style=\"text-align: right;\">   -0.15953   </td><td style=\"text-align: right;\">    0.586778  </td><td style=\"text-align: right;\">     0.491553 </td><td style=\"text-align: right;\">   -0.189189  </td><td style=\"text-align: right;\">    -0.0267906</td><td style=\"text-align: right;\">    -0.284528 </td><td style=\"text-align: right;\">    -0.0865131</td><td style=\"text-align: right;\">    -0.0121648</td><td style=\"text-align: right;\">    -0.135534 </td><td style=\"text-align: right;\">    -0.0583777</td><td style=\"text-align: right;\">      0.643228</td><td style=\"text-align: right;\">   -0.415007  </td><td style=\"text-align: right;\">    -0.214813 </td><td style=\"text-align: right;\">     0.476249 </td><td style=\"text-align: right;\">   -0.0487518 </td><td style=\"text-align: right;\">    -0.0496406</td><td style=\"text-align: right;\">     0.0375545</td><td style=\"text-align: right;\">    -0.118122 </td><td style=\"text-align: right;\">     0.0730438</td><td style=\"text-align: right;\">    -0.109587 </td><td style=\"text-align: right;\">    0.20798   </td><td style=\"text-align: right;\">     0.348696 </td><td style=\"text-align: right;\">     0.0556613</td><td style=\"text-align: right;\">    -0.127576 </td><td style=\"text-align: right;\">     0.103703 </td><td style=\"text-align: right;\">    0.305578  </td><td style=\"text-align: right;\">   -0.157721  </td><td style=\"text-align: right;\">     0.397989 </td><td style=\"text-align: right;\">     0.269631 </td><td style=\"text-align: right;\">    -0.125253 </td><td style=\"text-align: right;\">     0.411265 </td><td style=\"text-align: right;\">    -0.194697 </td><td style=\"text-align: right;\">   -0.348248  </td><td style=\"text-align: right;\">     0.101562 </td><td style=\"text-align: right;\">     0.103474 </td><td style=\"text-align: right;\">     0.0309811</td><td style=\"text-align: right;\">    -0.267357 </td><td style=\"text-align: right;\">    -0.311147 </td><td style=\"text-align: right;\">     0.476361 </td><td style=\"text-align: right;\">   -0.198967  </td><td style=\"text-align: right;\">   -0.424429  </td><td style=\"text-align: right;\">    -0.186695 </td><td style=\"text-align: right;\">    0.0292895 </td><td style=\"text-align: right;\">     0.340534 </td><td style=\"text-align: right;\">     0.160659 </td><td style=\"text-align: right;\">   -0.309815  </td><td style=\"text-align: right;\">    -0.107209 </td><td style=\"text-align: right;\">    -0.0189951</td><td style=\"text-align: right;\">     0.0346119</td><td style=\"text-align: right;\">    0.134855  </td><td style=\"text-align: right;\">     0.319749  </td></tr>\n",
              "<tr><td style=\"text-align: right;\">    0.250198 </td><td style=\"text-align: right;\">   0.020936  </td><td style=\"text-align: right;\">    0.102176 </td><td style=\"text-align: right;\">    0.0908755</td><td style=\"text-align: right;\">    0.0401631</td><td style=\"text-align: right;\">  0.0466089  </td><td style=\"text-align: right;\">  -0.202398  </td><td style=\"text-align: right;\">    0.258968 </td><td style=\"text-align: right;\">   -0.0474939</td><td style=\"text-align: right;\">     0.0273061</td><td style=\"text-align: right;\">    -0.215865 </td><td style=\"text-align: right;\">    -0.0422703</td><td style=\"text-align: right;\">     0.159992 </td><td style=\"text-align: right;\">     0.0253712</td><td style=\"text-align: right;\">     0.0606168</td><td style=\"text-align: right;\">    -0.0242089</td><td style=\"text-align: right;\">     0.142175 </td><td style=\"text-align: right;\">   -0.139318  </td><td style=\"text-align: right;\">    0.0592158 </td><td style=\"text-align: right;\">    -0.204858 </td><td style=\"text-align: right;\">     0.0272692</td><td style=\"text-align: right;\">   -0.274196  </td><td style=\"text-align: right;\">   -0.164819  </td><td style=\"text-align: right;\">    0.0806443 </td><td style=\"text-align: right;\">     0.0670494</td><td style=\"text-align: right;\">   0.162392   </td><td style=\"text-align: right;\">    0.0280171 </td><td style=\"text-align: right;\">    -0.0874505</td><td style=\"text-align: right;\">    -0.0528482</td><td style=\"text-align: right;\">     0.0724871</td><td style=\"text-align: right;\">    -0.0146444</td><td style=\"text-align: right;\">   -0.112784  </td><td style=\"text-align: right;\">    -0.0237052</td><td style=\"text-align: right;\">    -0.196746 </td><td style=\"text-align: right;\">    0.164662  </td><td style=\"text-align: right;\">   -0.0562918 </td><td style=\"text-align: right;\">    -0.19807  </td><td style=\"text-align: right;\">   -0.0407759 </td><td style=\"text-align: right;\">    0.122956  </td><td style=\"text-align: right;\">     0.162852 </td><td style=\"text-align: right;\">    -0.128973 </td><td style=\"text-align: right;\">   -0.00771006</td><td style=\"text-align: right;\">   -0.013083  </td><td style=\"text-align: right;\">    0.168178  </td><td style=\"text-align: right;\">    0.0169073 </td><td style=\"text-align: right;\">    -0.107594 </td><td style=\"text-align: right;\">   -0.140061  </td><td style=\"text-align: right;\">    0.0761019 </td><td style=\"text-align: right;\">    -0.173367 </td><td style=\"text-align: right;\">   -0.222293  </td><td style=\"text-align: right;\">    0.177894  </td><td style=\"text-align: right;\">    -0.314194 </td><td style=\"text-align: right;\">   -0.128193  </td><td style=\"text-align: right;\">    -0.0136177</td><td style=\"text-align: right;\">     0.124564 </td><td style=\"text-align: right;\">     0.19851  </td><td style=\"text-align: right;\">     0.0676896</td><td style=\"text-align: right;\">     0.0366959</td><td style=\"text-align: right;\">    -0.0222052</td><td style=\"text-align: right;\">      0.242997</td><td style=\"text-align: right;\">   -0.0458792 </td><td style=\"text-align: right;\">    -0.0921586</td><td style=\"text-align: right;\">    -0.0692806</td><td style=\"text-align: right;\">   -0.0679474 </td><td style=\"text-align: right;\">    -0.0741288</td><td style=\"text-align: right;\">     0.0351175</td><td style=\"text-align: right;\">     0.167237 </td><td style=\"text-align: right;\">    -0.0611092</td><td style=\"text-align: right;\">    -0.162349 </td><td style=\"text-align: right;\">   -0.0341452 </td><td style=\"text-align: right;\">     0.13896  </td><td style=\"text-align: right;\">     0.107908 </td><td style=\"text-align: right;\">     0.173712 </td><td style=\"text-align: right;\">    -0.101198 </td><td style=\"text-align: right;\">   -0.0893805 </td><td style=\"text-align: right;\">   -0.202205  </td><td style=\"text-align: right;\">     0.145802 </td><td style=\"text-align: right;\">    -0.0123514</td><td style=\"text-align: right;\">     0.129053 </td><td style=\"text-align: right;\">     0.029472 </td><td style=\"text-align: right;\">     0.104429 </td><td style=\"text-align: right;\">   -0.0770987 </td><td style=\"text-align: right;\">     0.0327117</td><td style=\"text-align: right;\">     0.023308 </td><td style=\"text-align: right;\">     0.0760874</td><td style=\"text-align: right;\">    -0.0535176</td><td style=\"text-align: right;\">     0.0569164</td><td style=\"text-align: right;\">     0.108425 </td><td style=\"text-align: right;\">   -0.00600647</td><td style=\"text-align: right;\">   -0.00345012</td><td style=\"text-align: right;\">    -0.0837867</td><td style=\"text-align: right;\">   -0.0689442 </td><td style=\"text-align: right;\">    -0.205056 </td><td style=\"text-align: right;\">     0.200702 </td><td style=\"text-align: right;\">   -0.0231306 </td><td style=\"text-align: right;\">    -0.194544 </td><td style=\"text-align: right;\">    -0.0650729</td><td style=\"text-align: right;\">    -0.0577945</td><td style=\"text-align: right;\">    0.00681215</td><td style=\"text-align: right;\">    -0.046205  </td></tr>\n",
              "<tr><td style=\"text-align: right;\">    0.191182 </td><td style=\"text-align: right;\">   0.0784074 </td><td style=\"text-align: right;\">    0.153904 </td><td style=\"text-align: right;\">   -0.0451997</td><td style=\"text-align: right;\">    0.184128 </td><td style=\"text-align: right;\"> -0.0752547  </td><td style=\"text-align: right;\">  -0.0842852 </td><td style=\"text-align: right;\">    0.271746 </td><td style=\"text-align: right;\">   -0.0316312</td><td style=\"text-align: right;\">     0.1671   </td><td style=\"text-align: right;\">    -0.0429449</td><td style=\"text-align: right;\">     0.0391985</td><td style=\"text-align: right;\">     0.120089 </td><td style=\"text-align: right;\">     0.0180901</td><td style=\"text-align: right;\">     0.140613 </td><td style=\"text-align: right;\">    -0.190778 </td><td style=\"text-align: right;\">     0.0149848</td><td style=\"text-align: right;\">   -0.101897  </td><td style=\"text-align: right;\">    0.00902509</td><td style=\"text-align: right;\">     0.0885578</td><td style=\"text-align: right;\">    -0.0275479</td><td style=\"text-align: right;\">   -0.233257  </td><td style=\"text-align: right;\">   -0.0575075 </td><td style=\"text-align: right;\">   -0.106127  </td><td style=\"text-align: right;\">    -0.254238 </td><td style=\"text-align: right;\">   0.117418   </td><td style=\"text-align: right;\">   -0.00633298</td><td style=\"text-align: right;\">     0.0569582</td><td style=\"text-align: right;\">    -0.105153 </td><td style=\"text-align: right;\">     0.0366504</td><td style=\"text-align: right;\">     0.0249534</td><td style=\"text-align: right;\">   -0.00627401</td><td style=\"text-align: right;\">    -0.114211 </td><td style=\"text-align: right;\">    -0.0733219</td><td style=\"text-align: right;\">   -0.018205  </td><td style=\"text-align: right;\">   -0.125319  </td><td style=\"text-align: right;\">    -0.0719475</td><td style=\"text-align: right;\">    0.0781183 </td><td style=\"text-align: right;\">    0.143735  </td><td style=\"text-align: right;\">     0.0044204</td><td style=\"text-align: right;\">    -0.0421096</td><td style=\"text-align: right;\">   -0.0500885 </td><td style=\"text-align: right;\">   -0.0698579 </td><td style=\"text-align: right;\">    0.262543  </td><td style=\"text-align: right;\">   -0.0807155 </td><td style=\"text-align: right;\">    -0.059226 </td><td style=\"text-align: right;\">   -0.101576  </td><td style=\"text-align: right;\">    0.0735588 </td><td style=\"text-align: right;\">    -0.179542 </td><td style=\"text-align: right;\">   -0.20098   </td><td style=\"text-align: right;\">    0.20727   </td><td style=\"text-align: right;\">    -0.117457 </td><td style=\"text-align: right;\">    0.00989274</td><td style=\"text-align: right;\">    -0.039806 </td><td style=\"text-align: right;\">    -0.0320965</td><td style=\"text-align: right;\">     0.0385494</td><td style=\"text-align: right;\">     0.12514  </td><td style=\"text-align: right;\">     0.041057 </td><td style=\"text-align: right;\">     0.0333162</td><td style=\"text-align: right;\">      0.162248</td><td style=\"text-align: right;\">   -0.009182  </td><td style=\"text-align: right;\">     0.0164627</td><td style=\"text-align: right;\">     0.0636519</td><td style=\"text-align: right;\">    0.0287873 </td><td style=\"text-align: right;\">     0.0481865</td><td style=\"text-align: right;\">    -0.0448861</td><td style=\"text-align: right;\">     0.0402533</td><td style=\"text-align: right;\">     0.131324 </td><td style=\"text-align: right;\">    -0.138315 </td><td style=\"text-align: right;\">    0.110806  </td><td style=\"text-align: right;\">    -0.0162792</td><td style=\"text-align: right;\">     0.0416159</td><td style=\"text-align: right;\">     0.247113 </td><td style=\"text-align: right;\">     0.0171574</td><td style=\"text-align: right;\">   -0.0159408 </td><td style=\"text-align: right;\">    0.00674779</td><td style=\"text-align: right;\">     0.13288  </td><td style=\"text-align: right;\">    -0.0807259</td><td style=\"text-align: right;\">     0.155264 </td><td style=\"text-align: right;\">    -0.0722348</td><td style=\"text-align: right;\">     0.0609146</td><td style=\"text-align: right;\">   -0.0253594 </td><td style=\"text-align: right;\">     0.0234291</td><td style=\"text-align: right;\">    -0.157027 </td><td style=\"text-align: right;\">     0.0250808</td><td style=\"text-align: right;\">    -0.183285 </td><td style=\"text-align: right;\">     0.209526 </td><td style=\"text-align: right;\">    -0.0617585</td><td style=\"text-align: right;\">    0.0617895 </td><td style=\"text-align: right;\">   -0.116152  </td><td style=\"text-align: right;\">     0.112651 </td><td style=\"text-align: right;\">    0.00592319</td><td style=\"text-align: right;\">    -0.0306876</td><td style=\"text-align: right;\">     0.200341 </td><td style=\"text-align: right;\">    0.089057  </td><td style=\"text-align: right;\">    -0.263294 </td><td style=\"text-align: right;\">    -0.212198 </td><td style=\"text-align: right;\">     0.0560266</td><td style=\"text-align: right;\">    0.107716  </td><td style=\"text-align: right;\">     0.149023  </td></tr>\n",
              "<tr><td style=\"text-align: right;\">    0.270177 </td><td style=\"text-align: right;\">   0.00661492</td><td style=\"text-align: right;\">    0.167653 </td><td style=\"text-align: right;\">    0.0115414</td><td style=\"text-align: right;\">    0.301163 </td><td style=\"text-align: right;\"> -0.218504   </td><td style=\"text-align: right;\">   0.237026  </td><td style=\"text-align: right;\">    0.444042 </td><td style=\"text-align: right;\">   -0.0744913</td><td style=\"text-align: right;\">     0.0112633</td><td style=\"text-align: right;\">     0.135608 </td><td style=\"text-align: right;\">     0.411014 </td><td style=\"text-align: right;\">    -0.066391 </td><td style=\"text-align: right;\">     0.28208  </td><td style=\"text-align: right;\">     0.226632 </td><td style=\"text-align: right;\">    -0.214184 </td><td style=\"text-align: right;\">    -0.0892719</td><td style=\"text-align: right;\">   -0.0998594 </td><td style=\"text-align: right;\">   -0.0584703 </td><td style=\"text-align: right;\">     0.120364 </td><td style=\"text-align: right;\">     0.090012 </td><td style=\"text-align: right;\">   -0.0532487 </td><td style=\"text-align: right;\">   -0.26792   </td><td style=\"text-align: right;\">    0.43153   </td><td style=\"text-align: right;\">     0.323481 </td><td style=\"text-align: right;\">   0.000209875</td><td style=\"text-align: right;\">   -0.00901268</td><td style=\"text-align: right;\">     0.145719 </td><td style=\"text-align: right;\">    -0.327509 </td><td style=\"text-align: right;\">    -0.270189 </td><td style=\"text-align: right;\">    -0.0281671</td><td style=\"text-align: right;\">    0.0514056 </td><td style=\"text-align: right;\">    -0.256007 </td><td style=\"text-align: right;\">     0.22044  </td><td style=\"text-align: right;\">   -0.0678781 </td><td style=\"text-align: right;\">   -0.175702  </td><td style=\"text-align: right;\">    -0.162626 </td><td style=\"text-align: right;\">    0.0508996 </td><td style=\"text-align: right;\">   -0.206697  </td><td style=\"text-align: right;\">     0.180191 </td><td style=\"text-align: right;\">    -0.34941  </td><td style=\"text-align: right;\">   -0.00755984</td><td style=\"text-align: right;\">   -0.0319363 </td><td style=\"text-align: right;\">    0.150357  </td><td style=\"text-align: right;\">   -0.34749   </td><td style=\"text-align: right;\">     0.0162455</td><td style=\"text-align: right;\">    0.33793   </td><td style=\"text-align: right;\">   -0.151584  </td><td style=\"text-align: right;\">    -0.0444402</td><td style=\"text-align: right;\">   -0.109611  </td><td style=\"text-align: right;\">    0.0129988 </td><td style=\"text-align: right;\">     0.411469 </td><td style=\"text-align: right;\">   -0.142423  </td><td style=\"text-align: right;\">     0.287694 </td><td style=\"text-align: right;\">     0.175202 </td><td style=\"text-align: right;\">     0.23788  </td><td style=\"text-align: right;\">    -0.0107538</td><td style=\"text-align: right;\">     0.315623 </td><td style=\"text-align: right;\">     0.176668 </td><td style=\"text-align: right;\">      0.549454</td><td style=\"text-align: right;\">    0.0962441 </td><td style=\"text-align: right;\">     0.229123 </td><td style=\"text-align: right;\">     0.117951 </td><td style=\"text-align: right;\">   -0.138732  </td><td style=\"text-align: right;\">    -0.0219394</td><td style=\"text-align: right;\">     0.0863696</td><td style=\"text-align: right;\">     0.275426 </td><td style=\"text-align: right;\">     0.131315 </td><td style=\"text-align: right;\">     0.0289785</td><td style=\"text-align: right;\">    0.0837266 </td><td style=\"text-align: right;\">     0.206933 </td><td style=\"text-align: right;\">    -0.106255 </td><td style=\"text-align: right;\">     0.0396132</td><td style=\"text-align: right;\">     0.289877 </td><td style=\"text-align: right;\">    0.0328107 </td><td style=\"text-align: right;\">    0.133658  </td><td style=\"text-align: right;\">     0.206006 </td><td style=\"text-align: right;\">     0.205499 </td><td style=\"text-align: right;\">     0.080153 </td><td style=\"text-align: right;\">     0.0578478</td><td style=\"text-align: right;\">    -0.0208603</td><td style=\"text-align: right;\">   -0.20719   </td><td style=\"text-align: right;\">    -0.0783493</td><td style=\"text-align: right;\">    -0.25738  </td><td style=\"text-align: right;\">    -0.318079 </td><td style=\"text-align: right;\">    -0.278778 </td><td style=\"text-align: right;\">     0.0974982</td><td style=\"text-align: right;\">    -0.112576 </td><td style=\"text-align: right;\">   -0.191843  </td><td style=\"text-align: right;\">   -0.14959   </td><td style=\"text-align: right;\">     0.159471 </td><td style=\"text-align: right;\">   -0.176731  </td><td style=\"text-align: right;\">     0.0427583</td><td style=\"text-align: right;\">     0.205546 </td><td style=\"text-align: right;\">   -0.0620357 </td><td style=\"text-align: right;\">    -0.170624 </td><td style=\"text-align: right;\">     0.159162 </td><td style=\"text-align: right;\">    -0.281586 </td><td style=\"text-align: right;\">   -0.037022  </td><td style=\"text-align: right;\">    -0.0970744 </td></tr>\n",
              "<tr><td style=\"text-align: right;\">   -0.0179655</td><td style=\"text-align: right;\">   0.289907  </td><td style=\"text-align: right;\">    0.179225 </td><td style=\"text-align: right;\">    0.0824997</td><td style=\"text-align: right;\">    0.27143  </td><td style=\"text-align: right;\"> -0.0406353  </td><td style=\"text-align: right;\">  -0.069095  </td><td style=\"text-align: right;\">    0.427232 </td><td style=\"text-align: right;\">    0.0748001</td><td style=\"text-align: right;\">     0.102268 </td><td style=\"text-align: right;\">     0.292892 </td><td style=\"text-align: right;\">     0.0585096</td><td style=\"text-align: right;\">     0.0120958</td><td style=\"text-align: right;\">     0.109814 </td><td style=\"text-align: right;\">    -0.167604 </td><td style=\"text-align: right;\">    -0.178938 </td><td style=\"text-align: right;\">     0.248939 </td><td style=\"text-align: right;\">   -0.20355   </td><td style=\"text-align: right;\">   -0.0637354 </td><td style=\"text-align: right;\">     0.185813 </td><td style=\"text-align: right;\">    -0.051845 </td><td style=\"text-align: right;\">   -0.29776   </td><td style=\"text-align: right;\">    0.0386319 </td><td style=\"text-align: right;\">    0.137684  </td><td style=\"text-align: right;\">    -0.0846409</td><td style=\"text-align: right;\">   0.0346526  </td><td style=\"text-align: right;\">    0.169951  </td><td style=\"text-align: right;\">     0.108744 </td><td style=\"text-align: right;\">    -0.204469 </td><td style=\"text-align: right;\">     0.407611 </td><td style=\"text-align: right;\">     0.148597 </td><td style=\"text-align: right;\">   -0.118471  </td><td style=\"text-align: right;\">    -0.0126579</td><td style=\"text-align: right;\">    -0.0907377</td><td style=\"text-align: right;\">    0.165832  </td><td style=\"text-align: right;\">   -0.360158  </td><td style=\"text-align: right;\">     0.0700841</td><td style=\"text-align: right;\">    0.00298821</td><td style=\"text-align: right;\">    0.16262   </td><td style=\"text-align: right;\">     0.220573 </td><td style=\"text-align: right;\">     0.0961858</td><td style=\"text-align: right;\">    0.202735  </td><td style=\"text-align: right;\">   -0.257398  </td><td style=\"text-align: right;\">   -0.0460547 </td><td style=\"text-align: right;\">    0.131048  </td><td style=\"text-align: right;\">     0.259565 </td><td style=\"text-align: right;\">   -0.322811  </td><td style=\"text-align: right;\">   -0.100943  </td><td style=\"text-align: right;\">     0.0121771</td><td style=\"text-align: right;\">   -0.269051  </td><td style=\"text-align: right;\">    0.379229  </td><td style=\"text-align: right;\">     0.153631 </td><td style=\"text-align: right;\">   -0.313707  </td><td style=\"text-align: right;\">    -0.0179515</td><td style=\"text-align: right;\">    -0.128557 </td><td style=\"text-align: right;\">     0.229956 </td><td style=\"text-align: right;\">     0.276006 </td><td style=\"text-align: right;\">     0.0584452</td><td style=\"text-align: right;\">     0.186073 </td><td style=\"text-align: right;\">      0.115085</td><td style=\"text-align: right;\">   -0.00794718</td><td style=\"text-align: right;\">    -0.10892  </td><td style=\"text-align: right;\">     0.0203582</td><td style=\"text-align: right;\">   -0.0806267 </td><td style=\"text-align: right;\">    -0.0219552</td><td style=\"text-align: right;\">     0.0647289</td><td style=\"text-align: right;\">    -0.0511205</td><td style=\"text-align: right;\">     0.153074 </td><td style=\"text-align: right;\">    -0.0386075</td><td style=\"text-align: right;\">   -0.120819  </td><td style=\"text-align: right;\">     0.205984 </td><td style=\"text-align: right;\">     0.182943 </td><td style=\"text-align: right;\">    -0.112989 </td><td style=\"text-align: right;\">     0.18701  </td><td style=\"text-align: right;\">   -0.0185515 </td><td style=\"text-align: right;\">    0.428146  </td><td style=\"text-align: right;\">     0.0617171</td><td style=\"text-align: right;\">    -0.057196 </td><td style=\"text-align: right;\">    -0.163341 </td><td style=\"text-align: right;\">     0.181894 </td><td style=\"text-align: right;\">     0.0496904</td><td style=\"text-align: right;\">    0.272574  </td><td style=\"text-align: right;\">     0.235133 </td><td style=\"text-align: right;\">    -0.149149 </td><td style=\"text-align: right;\">    -0.0423129</td><td style=\"text-align: right;\">     0.0709852</td><td style=\"text-align: right;\">     0.190216 </td><td style=\"text-align: right;\">     0.161665 </td><td style=\"text-align: right;\">   -0.136227  </td><td style=\"text-align: right;\">    0.141467  </td><td style=\"text-align: right;\">     0.0354837</td><td style=\"text-align: right;\">   -0.177749  </td><td style=\"text-align: right;\">    -0.0732626</td><td style=\"text-align: right;\">     0.350713 </td><td style=\"text-align: right;\">   -0.137522  </td><td style=\"text-align: right;\">     0.377649 </td><td style=\"text-align: right;\">    -0.08918  </td><td style=\"text-align: right;\">     0.0482935</td><td style=\"text-align: right;\">   -0.198909  </td><td style=\"text-align: right;\">     0.256659  </td></tr>\n",
              "<tr><td style=\"text-align: right;\">    0.401233 </td><td style=\"text-align: right;\">  -0.131783  </td><td style=\"text-align: right;\">    0.166637 </td><td style=\"text-align: right;\">    0.239984 </td><td style=\"text-align: right;\">    0.162052 </td><td style=\"text-align: right;\"> -0.0928661  </td><td style=\"text-align: right;\">  -0.0512713 </td><td style=\"text-align: right;\">    0.19628  </td><td style=\"text-align: right;\">   -0.106005 </td><td style=\"text-align: right;\">    -0.189333 </td><td style=\"text-align: right;\">    -0.160928 </td><td style=\"text-align: right;\">     0.0877221</td><td style=\"text-align: right;\">    -0.0252797</td><td style=\"text-align: right;\">     0.0958886</td><td style=\"text-align: right;\">     0.208034 </td><td style=\"text-align: right;\">     0.25562  </td><td style=\"text-align: right;\">     0.130179 </td><td style=\"text-align: right;\">   -0.248253  </td><td style=\"text-align: right;\">    0.219416  </td><td style=\"text-align: right;\">    -0.0199807</td><td style=\"text-align: right;\">     0.0583169</td><td style=\"text-align: right;\">    0.00375454</td><td style=\"text-align: right;\">   -0.00968555</td><td style=\"text-align: right;\">    0.0785531 </td><td style=\"text-align: right;\">     0.0598085</td><td style=\"text-align: right;\">   0.310583   </td><td style=\"text-align: right;\">   -0.0845733 </td><td style=\"text-align: right;\">     0.701102 </td><td style=\"text-align: right;\">    -0.0947618</td><td style=\"text-align: right;\">     0.0362761</td><td style=\"text-align: right;\">    -0.0158338</td><td style=\"text-align: right;\">   -0.26907   </td><td style=\"text-align: right;\">    -0.133691 </td><td style=\"text-align: right;\">    -0.0566805</td><td style=\"text-align: right;\">    0.0877401 </td><td style=\"text-align: right;\">    0.031324  </td><td style=\"text-align: right;\">    -0.0113138</td><td style=\"text-align: right;\">    0.179399  </td><td style=\"text-align: right;\">   -0.0383407 </td><td style=\"text-align: right;\">     0.127343 </td><td style=\"text-align: right;\">    -0.295039 </td><td style=\"text-align: right;\">    0.140451  </td><td style=\"text-align: right;\">   -0.00735681</td><td style=\"text-align: right;\">   -0.122153  </td><td style=\"text-align: right;\">    0.15383   </td><td style=\"text-align: right;\">     0.01824  </td><td style=\"text-align: right;\">   -0.00357286</td><td style=\"text-align: right;\">    0.0141366 </td><td style=\"text-align: right;\">    -0.370129 </td><td style=\"text-align: right;\">   -0.00856493</td><td style=\"text-align: right;\">    0.00908212</td><td style=\"text-align: right;\">    -0.327895 </td><td style=\"text-align: right;\">   -0.152782  </td><td style=\"text-align: right;\">    -0.151744 </td><td style=\"text-align: right;\">     0.156335 </td><td style=\"text-align: right;\">     0.0838184</td><td style=\"text-align: right;\">    -0.399076 </td><td style=\"text-align: right;\">     0.0612624</td><td style=\"text-align: right;\">     0.211999 </td><td style=\"text-align: right;\">     -0.115484</td><td style=\"text-align: right;\">   -0.486478  </td><td style=\"text-align: right;\">     0.124608 </td><td style=\"text-align: right;\">     0.0824764</td><td style=\"text-align: right;\">    0.162068  </td><td style=\"text-align: right;\">     0.204938 </td><td style=\"text-align: right;\">    -0.20883  </td><td style=\"text-align: right;\">     0.210739 </td><td style=\"text-align: right;\">     0.102078 </td><td style=\"text-align: right;\">     0.15312  </td><td style=\"text-align: right;\">    0.301666  </td><td style=\"text-align: right;\">     0.117622 </td><td style=\"text-align: right;\">    -0.0743213</td><td style=\"text-align: right;\">     0.0193483</td><td style=\"text-align: right;\">    -0.402013 </td><td style=\"text-align: right;\">    0.0113774 </td><td style=\"text-align: right;\">    0.116874  </td><td style=\"text-align: right;\">     0.0650078</td><td style=\"text-align: right;\">    -0.0593263</td><td style=\"text-align: right;\">     0.223391 </td><td style=\"text-align: right;\">     0.163383 </td><td style=\"text-align: right;\">     0.176201 </td><td style=\"text-align: right;\">   -0.142995  </td><td style=\"text-align: right;\">    -0.10555  </td><td style=\"text-align: right;\">    -0.135582 </td><td style=\"text-align: right;\">    -0.0981784</td><td style=\"text-align: right;\">    -0.0595131</td><td style=\"text-align: right;\">     0.182478 </td><td style=\"text-align: right;\">     0.0690593</td><td style=\"text-align: right;\">   -0.08178   </td><td style=\"text-align: right;\">    0.05755   </td><td style=\"text-align: right;\">    -0.184703 </td><td style=\"text-align: right;\">   -0.0941831 </td><td style=\"text-align: right;\">     0.175948 </td><td style=\"text-align: right;\">     0.192549 </td><td style=\"text-align: right;\">   -0.158462  </td><td style=\"text-align: right;\">    -0.132682 </td><td style=\"text-align: right;\">     0.084118 </td><td style=\"text-align: right;\">     0.0400448</td><td style=\"text-align: right;\">   -0.103215  </td><td style=\"text-align: right;\">     0.180737  </td></tr>\n",
              "<tr><td style=\"text-align: right;\">   -0.0225169</td><td style=\"text-align: right;\">   0.13488   </td><td style=\"text-align: right;\">    0.0864149</td><td style=\"text-align: right;\">    0.053999 </td><td style=\"text-align: right;\">    0.102399 </td><td style=\"text-align: right;\">  0.000342016</td><td style=\"text-align: right;\">  -0.188529  </td><td style=\"text-align: right;\">    0.0702063</td><td style=\"text-align: right;\">    0.0306451</td><td style=\"text-align: right;\">     0.148459 </td><td style=\"text-align: right;\">     0.0166618</td><td style=\"text-align: right;\">     0.112188 </td><td style=\"text-align: right;\">    -0.0501212</td><td style=\"text-align: right;\">    -0.0397494</td><td style=\"text-align: right;\">    -0.0834902</td><td style=\"text-align: right;\">    -0.128581 </td><td style=\"text-align: right;\">     0.128157 </td><td style=\"text-align: right;\">   -0.00971797</td><td style=\"text-align: right;\">    0.0224249 </td><td style=\"text-align: right;\">     0.130783 </td><td style=\"text-align: right;\">     0.0512631</td><td style=\"text-align: right;\">   -0.26149   </td><td style=\"text-align: right;\">   -0.0748337 </td><td style=\"text-align: right;\">    0.00914479</td><td style=\"text-align: right;\">     0.0906747</td><td style=\"text-align: right;\">  -0.043595   </td><td style=\"text-align: right;\">   -0.109403  </td><td style=\"text-align: right;\">     0.0480612</td><td style=\"text-align: right;\">    -0.286899 </td><td style=\"text-align: right;\">     0.0611745</td><td style=\"text-align: right;\">     0.0222965</td><td style=\"text-align: right;\">   -0.129793  </td><td style=\"text-align: right;\">    -0.0690555</td><td style=\"text-align: right;\">    -0.0739071</td><td style=\"text-align: right;\">    0.00501516</td><td style=\"text-align: right;\">   -0.07939   </td><td style=\"text-align: right;\">    -0.13307  </td><td style=\"text-align: right;\">    0.042514  </td><td style=\"text-align: right;\">    0.00409646</td><td style=\"text-align: right;\">    -0.0104884</td><td style=\"text-align: right;\">    -0.116157 </td><td style=\"text-align: right;\">   -0.00595505</td><td style=\"text-align: right;\">    0.00853997</td><td style=\"text-align: right;\">    0.102502  </td><td style=\"text-align: right;\">   -0.00767789</td><td style=\"text-align: right;\">     0.0664054</td><td style=\"text-align: right;\">   -0.0570362 </td><td style=\"text-align: right;\">   -0.0581435 </td><td style=\"text-align: right;\">    -0.0904698</td><td style=\"text-align: right;\">   -0.256686  </td><td style=\"text-align: right;\">    0.16343   </td><td style=\"text-align: right;\">    -0.0697013</td><td style=\"text-align: right;\">   -0.0370715 </td><td style=\"text-align: right;\">     0.0425266</td><td style=\"text-align: right;\">     0.0482886</td><td style=\"text-align: right;\">     0.117488 </td><td style=\"text-align: right;\">    -0.0663133</td><td style=\"text-align: right;\">     0.127685 </td><td style=\"text-align: right;\">     0.0202599</td><td style=\"text-align: right;\">      0.146371</td><td style=\"text-align: right;\">    0.147549  </td><td style=\"text-align: right;\">    -0.218437 </td><td style=\"text-align: right;\">     0.17415  </td><td style=\"text-align: right;\">    0.0710447 </td><td style=\"text-align: right;\">     0.041607 </td><td style=\"text-align: right;\">    -0.0377352</td><td style=\"text-align: right;\">     0.17389  </td><td style=\"text-align: right;\">    -0.0562518</td><td style=\"text-align: right;\">    -0.0415791</td><td style=\"text-align: right;\">   -0.0194476 </td><td style=\"text-align: right;\">     0.132234 </td><td style=\"text-align: right;\">    -0.0106252</td><td style=\"text-align: right;\">     0.0828546</td><td style=\"text-align: right;\">     0.0637573</td><td style=\"text-align: right;\">    0.0326652 </td><td style=\"text-align: right;\">    0.106612  </td><td style=\"text-align: right;\">     0.219851 </td><td style=\"text-align: right;\">    -0.111995 </td><td style=\"text-align: right;\">     0.0448179</td><td style=\"text-align: right;\">    -0.0971615</td><td style=\"text-align: right;\">     0.0286003</td><td style=\"text-align: right;\">   -0.0944276 </td><td style=\"text-align: right;\">    -0.0324329</td><td style=\"text-align: right;\">    -0.100202 </td><td style=\"text-align: right;\">     0.0604296</td><td style=\"text-align: right;\">    -0.0757509</td><td style=\"text-align: right;\">     0.141247 </td><td style=\"text-align: right;\">     0.0978139</td><td style=\"text-align: right;\">    0.00561348</td><td style=\"text-align: right;\">    0.0803889 </td><td style=\"text-align: right;\">     0.0405119</td><td style=\"text-align: right;\">   -0.100703  </td><td style=\"text-align: right;\">    -0.051447 </td><td style=\"text-align: right;\">     0.222678 </td><td style=\"text-align: right;\">   -0.00837155</td><td style=\"text-align: right;\">    -0.0975207</td><td style=\"text-align: right;\">    -0.219601 </td><td style=\"text-align: right;\">    -0.071932 </td><td style=\"text-align: right;\">   -0.00948412</td><td style=\"text-align: right;\">    -0.00613428</td></tr>\n",
              "</tbody>\n",
              "</table>"
            ]
          },
          "metadata": {
            "tags": []
          }
        },
        {
          "output_type": "execute_result",
          "data": {
            "text/plain": [
              ""
            ]
          },
          "metadata": {
            "tags": []
          },
          "execution_count": 91
        }
      ]
    },
    {
      "cell_type": "code",
      "metadata": {
        "id": "KlnqvGfAD12O"
      },
      "source": [
        "### append healine features ot the review words extended dataframe\n",
        "h2o_extended_with_headline_df = h2o_extended_df.cbind(headline_vectors)"
      ],
      "execution_count": 92,
      "outputs": []
    },
    {
      "cell_type": "code",
      "metadata": {
        "id": "pwp9-jqSErgv"
      },
      "source": [
        "### train and validation split for headline extended dataframe\n",
        "h2o_train, h2o_valid = h2o_extended_with_headline_df.split_frame(ratios=[0.8])"
      ],
      "execution_count": 96,
      "outputs": []
    },
    {
      "cell_type": "code",
      "metadata": {
        "id": "EShXnbfUFFKp"
      },
      "source": [
        "### instantiate GBM model\n",
        "gbm_all_cols_baseline_model = H2OGradientBoostingEstimator(stopping_metric='AUC',\n",
        "                                                           stopping_tolerance=0.001,\n",
        "                                                           stopping_rounds=5,\n",
        "                                                           score_tree_interval=10)"
      ],
      "execution_count": 97,
      "outputs": []
    },
    {
      "cell_type": "code",
      "metadata": {
        "id": "ct9LuioJHPgC",
        "outputId": "e132e828-ad90-4683-a84e-d180a609c984",
        "colab": {
          "base_uri": "https://localhost:8080/"
        }
      },
      "source": [
        "gbm_all_cols_baseline_model.train(x=headline_vectors.names+review_vectors.names+['votes'], y='target', training_frame=h2o_train, validation_frame=h2o_valid)"
      ],
      "execution_count": 100,
      "outputs": [
        {
          "output_type": "stream",
          "text": [
            "gbm Model Build progress: |███████████████████████████████████████████████| 100%\n"
          ],
          "name": "stdout"
        }
      ]
    },
    {
      "cell_type": "code",
      "metadata": {
        "id": "3B_D8vXcLfF1",
        "outputId": "c93ddeb7-98a4-450e-a5c2-35ae234bb3b1",
        "colab": {
          "base_uri": "https://localhost:8080/"
        }
      },
      "source": [
        "### print the AUC from the model\n",
        "print('AUC for the all the columns including header and review body: ' + str(round(gbm_all_cols_baseline_model.auc(valid=True),3)))"
      ],
      "execution_count": 101,
      "outputs": [
        {
          "output_type": "stream",
          "text": [
            "AUC for the all the columns including header and review body: 0.936\n"
          ],
          "name": "stdout"
        }
      ]
    },
    {
      "cell_type": "code",
      "metadata": {
        "id": "AG5tfDkeL7_C",
        "outputId": "327f77f3-bb25-4b10-93ab-d38d15b8fad2",
        "colab": {
          "base_uri": "https://localhost:8080/",
          "height": 173
        }
      },
      "source": [
        "### let check confusion matrix for allthe columns\n",
        "gbm_all_cols_baseline_model.confusion_matrix(valid=True)"
      ],
      "execution_count": 102,
      "outputs": [
        {
          "output_type": "stream",
          "text": [
            "\n",
            "Confusion Matrix (Act/Pred) for max f1 @ threshold = 0.5110468352062949: \n"
          ],
          "name": "stdout"
        },
        {
          "output_type": "display_data",
          "data": {
            "text/html": [
              "<div>\n",
              "<style scoped>\n",
              "    .dataframe tbody tr th:only-of-type {\n",
              "        vertical-align: middle;\n",
              "    }\n",
              "\n",
              "    .dataframe tbody tr th {\n",
              "        vertical-align: top;\n",
              "    }\n",
              "\n",
              "    .dataframe thead th {\n",
              "        text-align: right;\n",
              "    }\n",
              "</style>\n",
              "<table border=\"1\" class=\"dataframe\">\n",
              "  <thead>\n",
              "    <tr style=\"text-align: right;\">\n",
              "      <th></th>\n",
              "      <th></th>\n",
              "      <th>0</th>\n",
              "      <th>1</th>\n",
              "      <th>Error</th>\n",
              "      <th>Rate</th>\n",
              "    </tr>\n",
              "  </thead>\n",
              "  <tbody>\n",
              "    <tr>\n",
              "      <th>0</th>\n",
              "      <td>0</td>\n",
              "      <td>3164.0</td>\n",
              "      <td>1468.0</td>\n",
              "      <td>0.3169</td>\n",
              "      <td>(1468.0/4632.0)</td>\n",
              "    </tr>\n",
              "    <tr>\n",
              "      <th>1</th>\n",
              "      <td>1</td>\n",
              "      <td>594.0</td>\n",
              "      <td>11938.0</td>\n",
              "      <td>0.0474</td>\n",
              "      <td>(594.0/12532.0)</td>\n",
              "    </tr>\n",
              "    <tr>\n",
              "      <th>2</th>\n",
              "      <td>Total</td>\n",
              "      <td>3758.0</td>\n",
              "      <td>13406.0</td>\n",
              "      <td>0.1201</td>\n",
              "      <td>(2062.0/17164.0)</td>\n",
              "    </tr>\n",
              "  </tbody>\n",
              "</table>\n",
              "</div>"
            ],
            "text/plain": [
              "               0        1   Error               Rate\n",
              "0      0  3164.0   1468.0  0.3169    (1468.0/4632.0)\n",
              "1      1   594.0  11938.0  0.0474    (594.0/12532.0)\n",
              "2  Total  3758.0  13406.0  0.1201   (2062.0/17164.0)"
            ]
          },
          "metadata": {
            "tags": []
          }
        },
        {
          "output_type": "execute_result",
          "data": {
            "text/plain": [
              ""
            ]
          },
          "metadata": {
            "tags": []
          },
          "execution_count": 102
        }
      ]
    },
    {
      "cell_type": "code",
      "metadata": {
        "id": "E_3gq7l_M7db",
        "outputId": "d1195f97-1d74-46a1-c573-af56d1deb6df",
        "colab": {
          "base_uri": "https://localhost:8080/",
          "height": 447
        }
      },
      "source": [
        "### 50 trees scores\n",
        "\n",
        "gbm_all_cols_baseline_model.score_history()"
      ],
      "execution_count": 103,
      "outputs": [
        {
          "output_type": "execute_result",
          "data": {
            "text/html": [
              "<div>\n",
              "<style scoped>\n",
              "    .dataframe tbody tr th:only-of-type {\n",
              "        vertical-align: middle;\n",
              "    }\n",
              "\n",
              "    .dataframe tbody tr th {\n",
              "        vertical-align: top;\n",
              "    }\n",
              "\n",
              "    .dataframe thead th {\n",
              "        text-align: right;\n",
              "    }\n",
              "</style>\n",
              "<table border=\"1\" class=\"dataframe\">\n",
              "  <thead>\n",
              "    <tr style=\"text-align: right;\">\n",
              "      <th></th>\n",
              "      <th></th>\n",
              "      <th>timestamp</th>\n",
              "      <th>duration</th>\n",
              "      <th>number_of_trees</th>\n",
              "      <th>training_rmse</th>\n",
              "      <th>training_logloss</th>\n",
              "      <th>training_auc</th>\n",
              "      <th>training_pr_auc</th>\n",
              "      <th>training_lift</th>\n",
              "      <th>training_classification_error</th>\n",
              "      <th>validation_rmse</th>\n",
              "      <th>validation_logloss</th>\n",
              "      <th>validation_auc</th>\n",
              "      <th>validation_pr_auc</th>\n",
              "      <th>validation_lift</th>\n",
              "      <th>validation_classification_error</th>\n",
              "    </tr>\n",
              "  </thead>\n",
              "  <tbody>\n",
              "    <tr>\n",
              "      <th>0</th>\n",
              "      <td></td>\n",
              "      <td>2020-11-10 22:01:47</td>\n",
              "      <td>0.010 sec</td>\n",
              "      <td>0.0</td>\n",
              "      <td>0.445560</td>\n",
              "      <td>0.586333</td>\n",
              "      <td>0.500000</td>\n",
              "      <td>0.726884</td>\n",
              "      <td>1.000000</td>\n",
              "      <td>0.273116</td>\n",
              "      <td>0.443903</td>\n",
              "      <td>0.583153</td>\n",
              "      <td>0.500000</td>\n",
              "      <td>0.730133</td>\n",
              "      <td>1.000000</td>\n",
              "      <td>0.269867</td>\n",
              "    </tr>\n",
              "    <tr>\n",
              "      <th>1</th>\n",
              "      <td></td>\n",
              "      <td>2020-11-10 22:01:59</td>\n",
              "      <td>11.683 sec</td>\n",
              "      <td>10.0</td>\n",
              "      <td>0.359234</td>\n",
              "      <td>0.417033</td>\n",
              "      <td>0.909801</td>\n",
              "      <td>0.961724</td>\n",
              "      <td>1.373247</td>\n",
              "      <td>0.143075</td>\n",
              "      <td>0.360962</td>\n",
              "      <td>0.419838</td>\n",
              "      <td>0.901847</td>\n",
              "      <td>0.959189</td>\n",
              "      <td>1.364705</td>\n",
              "      <td>0.149208</td>\n",
              "    </tr>\n",
              "    <tr>\n",
              "      <th>2</th>\n",
              "      <td></td>\n",
              "      <td>2020-11-10 22:02:09</td>\n",
              "      <td>21.246 sec</td>\n",
              "      <td>20.0</td>\n",
              "      <td>0.324626</td>\n",
              "      <td>0.351990</td>\n",
              "      <td>0.929692</td>\n",
              "      <td>0.970568</td>\n",
              "      <td>1.375735</td>\n",
              "      <td>0.125332</td>\n",
              "      <td>0.329955</td>\n",
              "      <td>0.359849</td>\n",
              "      <td>0.920173</td>\n",
              "      <td>0.966837</td>\n",
              "      <td>1.361832</td>\n",
              "      <td>0.133244</td>\n",
              "    </tr>\n",
              "    <tr>\n",
              "      <th>3</th>\n",
              "      <td></td>\n",
              "      <td>2020-11-10 22:02:18</td>\n",
              "      <td>30.938 sec</td>\n",
              "      <td>30.0</td>\n",
              "      <td>0.305781</td>\n",
              "      <td>0.315658</td>\n",
              "      <td>0.939105</td>\n",
              "      <td>0.974705</td>\n",
              "      <td>1.375735</td>\n",
              "      <td>0.116265</td>\n",
              "      <td>0.314355</td>\n",
              "      <td>0.328111</td>\n",
              "      <td>0.927911</td>\n",
              "      <td>0.970166</td>\n",
              "      <td>1.362250</td>\n",
              "      <td>0.127418</td>\n",
              "    </tr>\n",
              "    <tr>\n",
              "      <th>4</th>\n",
              "      <td></td>\n",
              "      <td>2020-11-10 22:02:28</td>\n",
              "      <td>40.561 sec</td>\n",
              "      <td>40.0</td>\n",
              "      <td>0.293286</td>\n",
              "      <td>0.291594</td>\n",
              "      <td>0.945758</td>\n",
              "      <td>0.977634</td>\n",
              "      <td>1.375735</td>\n",
              "      <td>0.108709</td>\n",
              "      <td>0.304814</td>\n",
              "      <td>0.308334</td>\n",
              "      <td>0.932976</td>\n",
              "      <td>0.972517</td>\n",
              "      <td>1.361651</td>\n",
              "      <td>0.122640</td>\n",
              "    </tr>\n",
              "    <tr>\n",
              "      <th>5</th>\n",
              "      <td></td>\n",
              "      <td>2020-11-10 22:02:37</td>\n",
              "      <td>50.161 sec</td>\n",
              "      <td>50.0</td>\n",
              "      <td>0.284014</td>\n",
              "      <td>0.274140</td>\n",
              "      <td>0.950882</td>\n",
              "      <td>0.979887</td>\n",
              "      <td>1.375735</td>\n",
              "      <td>0.103143</td>\n",
              "      <td>0.298289</td>\n",
              "      <td>0.294997</td>\n",
              "      <td>0.936491</td>\n",
              "      <td>0.973755</td>\n",
              "      <td>1.361651</td>\n",
              "      <td>0.120135</td>\n",
              "    </tr>\n",
              "  </tbody>\n",
              "</table>\n",
              "</div>"
            ],
            "text/plain": [
              "               timestamp  ... validation_lift  validation_classification_error\n",
              "0    2020-11-10 22:01:47  ...        1.000000                         0.269867\n",
              "1    2020-11-10 22:01:59  ...        1.364705                         0.149208\n",
              "2    2020-11-10 22:02:09  ...        1.361832                         0.133244\n",
              "3    2020-11-10 22:02:18  ...        1.362250                         0.127418\n",
              "4    2020-11-10 22:02:28  ...        1.361651                         0.122640\n",
              "5    2020-11-10 22:02:37  ...        1.361651                         0.120135\n",
              "\n",
              "[6 rows x 16 columns]"
            ]
          },
          "metadata": {
            "tags": []
          },
          "execution_count": 103
        }
      ]
    },
    {
      "cell_type": "code",
      "metadata": {
        "id": "bmQ6eErNNNA6",
        "outputId": "5887cadf-cb39-42ae-a065-a1f7bad887ef",
        "colab": {
          "base_uri": "https://localhost:8080/",
          "height": 612
        }
      },
      "source": [
        "#### variance plot\n",
        "gbm_all_cols_baseline_model.varimp_plot()"
      ],
      "execution_count": 104,
      "outputs": [
        {
          "output_type": "display_data",
          "data": {
            "image/png": "[encoded data removed]",
            "text/plain": [
              "<Figure size 1008x720 with 1 Axes>"
            ]
          },
          "metadata": {
            "tags": [],
            "needs_background": "light"
          }
        }
      ]
    },
    {
      "cell_type": "code",
      "metadata": {
        "id": "-LPACDe8NqvS"
      },
      "source": [
        "#### Tune model for hyper parameters\n",
        "\n",
        "gbm_all_cols_baseline_model_hyperparameters = H2OGradientBoostingEstimator(ntrees=100,\n",
        "                                                                           max_depth=6,\n",
        "                                                                           learn_rate=0.1)"
      ],
      "execution_count": 107,
      "outputs": []
    },
    {
      "cell_type": "code",
      "metadata": {
        "id": "De6JyCl8OC3q",
        "outputId": "721e48f4-9ce4-4a21-dfc6-822ed7795e00",
        "colab": {
          "base_uri": "https://localhost:8080/"
        }
      },
      "source": [
        "gbm_all_cols_baseline_model_hyperparameters.train(x=headline_vectors.names+review_vectors.names+['votes'],\n",
        "                                                  y='target', \n",
        "                                                  training_frame=h2o_train, \n",
        "                                                  validation_frame=h2o_valid)"
      ],
      "execution_count": 108,
      "outputs": [
        {
          "output_type": "stream",
          "text": [
            "gbm Model Build progress: |███████████████████████████████████████████████| 100%\n"
          ],
          "name": "stdout"
        }
      ]
    },
    {
      "cell_type": "code",
      "metadata": {
        "id": "nysjYWNSOxzi",
        "outputId": "a9ee02cd-891b-4b4c-87dc-b04fdc740e7f",
        "colab": {
          "base_uri": "https://localhost:8080/"
        }
      },
      "source": [
        "print('hyper parameter AUC: '+ str(round(gbm_all_cols_baseline_model_hyperparameters.auc(valid=True),3)))"
      ],
      "execution_count": 109,
      "outputs": [
        {
          "output_type": "stream",
          "text": [
            "hyper parameter AUC: 0.949\n"
          ],
          "name": "stdout"
        }
      ]
    },
    {
      "cell_type": "code",
      "metadata": {
        "id": "bXjcsnBLPUuU",
        "outputId": "051eb8ce-cceb-492a-f495-017d92c498e3",
        "colab": {
          "base_uri": "https://localhost:8080/",
          "height": 173
        }
      },
      "source": [
        "gbm_all_cols_baseline_model_hyperparameters.confusion_matrix(valid=True)"
      ],
      "execution_count": 110,
      "outputs": [
        {
          "output_type": "stream",
          "text": [
            "\n",
            "Confusion Matrix (Act/Pred) for max f1 @ threshold = 0.5438764330246593: \n"
          ],
          "name": "stdout"
        },
        {
          "output_type": "display_data",
          "data": {
            "text/html": [
              "<div>\n",
              "<style scoped>\n",
              "    .dataframe tbody tr th:only-of-type {\n",
              "        vertical-align: middle;\n",
              "    }\n",
              "\n",
              "    .dataframe tbody tr th {\n",
              "        vertical-align: top;\n",
              "    }\n",
              "\n",
              "    .dataframe thead th {\n",
              "        text-align: right;\n",
              "    }\n",
              "</style>\n",
              "<table border=\"1\" class=\"dataframe\">\n",
              "  <thead>\n",
              "    <tr style=\"text-align: right;\">\n",
              "      <th></th>\n",
              "      <th></th>\n",
              "      <th>0</th>\n",
              "      <th>1</th>\n",
              "      <th>Error</th>\n",
              "      <th>Rate</th>\n",
              "    </tr>\n",
              "  </thead>\n",
              "  <tbody>\n",
              "    <tr>\n",
              "      <th>0</th>\n",
              "      <td>0</td>\n",
              "      <td>3560.0</td>\n",
              "      <td>1072.0</td>\n",
              "      <td>0.2314</td>\n",
              "      <td>(1072.0/4632.0)</td>\n",
              "    </tr>\n",
              "    <tr>\n",
              "      <th>1</th>\n",
              "      <td>1</td>\n",
              "      <td>708.0</td>\n",
              "      <td>11824.0</td>\n",
              "      <td>0.0565</td>\n",
              "      <td>(708.0/12532.0)</td>\n",
              "    </tr>\n",
              "    <tr>\n",
              "      <th>2</th>\n",
              "      <td>Total</td>\n",
              "      <td>4268.0</td>\n",
              "      <td>12896.0</td>\n",
              "      <td>0.1037</td>\n",
              "      <td>(1780.0/17164.0)</td>\n",
              "    </tr>\n",
              "  </tbody>\n",
              "</table>\n",
              "</div>"
            ],
            "text/plain": [
              "               0        1   Error               Rate\n",
              "0      0  3560.0   1072.0  0.2314    (1072.0/4632.0)\n",
              "1      1   708.0  11824.0  0.0565    (708.0/12532.0)\n",
              "2  Total  4268.0  12896.0  0.1037   (1780.0/17164.0)"
            ]
          },
          "metadata": {
            "tags": []
          }
        },
        {
          "output_type": "execute_result",
          "data": {
            "text/plain": [
              ""
            ]
          },
          "metadata": {
            "tags": []
          },
          "execution_count": 110
        }
      ]
    },
    {
      "cell_type": "code",
      "metadata": {
        "id": "AWW1Rz6hPePN",
        "outputId": "2acf7a21-b213-4f4a-ea7e-e12a8fdf1953",
        "colab": {
          "base_uri": "https://localhost:8080/",
          "height": 1000
        }
      },
      "source": [
        "gbm_all_cols_baseline_model_hyperparameters.score_history()"
      ],
      "execution_count": 111,
      "outputs": [
        {
          "output_type": "execute_result",
          "data": {
            "text/html": [
              "<div>\n",
              "<style scoped>\n",
              "    .dataframe tbody tr th:only-of-type {\n",
              "        vertical-align: middle;\n",
              "    }\n",
              "\n",
              "    .dataframe tbody tr th {\n",
              "        vertical-align: top;\n",
              "    }\n",
              "\n",
              "    .dataframe thead th {\n",
              "        text-align: right;\n",
              "    }\n",
              "</style>\n",
              "<table border=\"1\" class=\"dataframe\">\n",
              "  <thead>\n",
              "    <tr style=\"text-align: right;\">\n",
              "      <th></th>\n",
              "      <th></th>\n",
              "      <th>timestamp</th>\n",
              "      <th>duration</th>\n",
              "      <th>number_of_trees</th>\n",
              "      <th>training_rmse</th>\n",
              "      <th>training_logloss</th>\n",
              "      <th>training_auc</th>\n",
              "      <th>training_pr_auc</th>\n",
              "      <th>training_lift</th>\n",
              "      <th>training_classification_error</th>\n",
              "      <th>validation_rmse</th>\n",
              "      <th>validation_logloss</th>\n",
              "      <th>validation_auc</th>\n",
              "      <th>validation_pr_auc</th>\n",
              "      <th>validation_lift</th>\n",
              "      <th>validation_classification_error</th>\n",
              "    </tr>\n",
              "  </thead>\n",
              "  <tbody>\n",
              "    <tr>\n",
              "      <th>0</th>\n",
              "      <td></td>\n",
              "      <td>2020-11-10 22:16:03</td>\n",
              "      <td>0.014 sec</td>\n",
              "      <td>0.0</td>\n",
              "      <td>0.445560</td>\n",
              "      <td>0.586333</td>\n",
              "      <td>0.500000</td>\n",
              "      <td>0.726884</td>\n",
              "      <td>1.000000</td>\n",
              "      <td>0.273116</td>\n",
              "      <td>0.443903</td>\n",
              "      <td>0.583153</td>\n",
              "      <td>0.500000</td>\n",
              "      <td>0.730133</td>\n",
              "      <td>1.000000</td>\n",
              "      <td>0.269867</td>\n",
              "    </tr>\n",
              "    <tr>\n",
              "      <th>1</th>\n",
              "      <td></td>\n",
              "      <td>2020-11-10 22:16:04</td>\n",
              "      <td>1.365 sec</td>\n",
              "      <td>1.0</td>\n",
              "      <td>0.429954</td>\n",
              "      <td>0.552909</td>\n",
              "      <td>0.857827</td>\n",
              "      <td>0.939110</td>\n",
              "      <td>1.370413</td>\n",
              "      <td>0.192133</td>\n",
              "      <td>0.428756</td>\n",
              "      <td>0.550807</td>\n",
              "      <td>0.848949</td>\n",
              "      <td>0.936454</td>\n",
              "      <td>1.364146</td>\n",
              "      <td>0.195642</td>\n",
              "    </tr>\n",
              "    <tr>\n",
              "      <th>2</th>\n",
              "      <td></td>\n",
              "      <td>2020-11-10 22:16:05</td>\n",
              "      <td>2.547 sec</td>\n",
              "      <td>2.0</td>\n",
              "      <td>0.416604</td>\n",
              "      <td>0.526106</td>\n",
              "      <td>0.870575</td>\n",
              "      <td>0.944211</td>\n",
              "      <td>1.370391</td>\n",
              "      <td>0.175131</td>\n",
              "      <td>0.415836</td>\n",
              "      <td>0.524885</td>\n",
              "      <td>0.862336</td>\n",
              "      <td>0.941731</td>\n",
              "      <td>1.364120</td>\n",
              "      <td>0.184805</td>\n",
              "    </tr>\n",
              "    <tr>\n",
              "      <th>3</th>\n",
              "      <td></td>\n",
              "      <td>2020-11-10 22:16:06</td>\n",
              "      <td>3.733 sec</td>\n",
              "      <td>3.0</td>\n",
              "      <td>0.403979</td>\n",
              "      <td>0.501783</td>\n",
              "      <td>0.890098</td>\n",
              "      <td>0.952752</td>\n",
              "      <td>1.370969</td>\n",
              "      <td>0.160629</td>\n",
              "      <td>0.403700</td>\n",
              "      <td>0.501519</td>\n",
              "      <td>0.881089</td>\n",
              "      <td>0.949762</td>\n",
              "      <td>1.365103</td>\n",
              "      <td>0.164938</td>\n",
              "    </tr>\n",
              "    <tr>\n",
              "      <th>4</th>\n",
              "      <td></td>\n",
              "      <td>2020-11-10 22:16:11</td>\n",
              "      <td>8.386 sec</td>\n",
              "      <td>7.0</td>\n",
              "      <td>0.368296</td>\n",
              "      <td>0.435094</td>\n",
              "      <td>0.911632</td>\n",
              "      <td>0.962353</td>\n",
              "      <td>1.373193</td>\n",
              "      <td>0.141738</td>\n",
              "      <td>0.370548</td>\n",
              "      <td>0.439008</td>\n",
              "      <td>0.900022</td>\n",
              "      <td>0.958252</td>\n",
              "      <td>1.367704</td>\n",
              "      <td>0.150431</td>\n",
              "    </tr>\n",
              "    <tr>\n",
              "      <th>5</th>\n",
              "      <td></td>\n",
              "      <td>2020-11-10 22:16:16</td>\n",
              "      <td>13.080 sec</td>\n",
              "      <td>11.0</td>\n",
              "      <td>0.344432</td>\n",
              "      <td>0.390747</td>\n",
              "      <td>0.924401</td>\n",
              "      <td>0.968251</td>\n",
              "      <td>1.375735</td>\n",
              "      <td>0.129198</td>\n",
              "      <td>0.349042</td>\n",
              "      <td>0.398103</td>\n",
              "      <td>0.911876</td>\n",
              "      <td>0.963627</td>\n",
              "      <td>1.369614</td>\n",
              "      <td>0.141168</td>\n",
              "    </tr>\n",
              "    <tr>\n",
              "      <th>6</th>\n",
              "      <td></td>\n",
              "      <td>2020-11-10 22:16:20</td>\n",
              "      <td>17.683 sec</td>\n",
              "      <td>15.0</td>\n",
              "      <td>0.327657</td>\n",
              "      <td>0.359592</td>\n",
              "      <td>0.932727</td>\n",
              "      <td>0.971949</td>\n",
              "      <td>1.375735</td>\n",
              "      <td>0.121990</td>\n",
              "      <td>0.334474</td>\n",
              "      <td>0.369999</td>\n",
              "      <td>0.919640</td>\n",
              "      <td>0.966814</td>\n",
              "      <td>1.362170</td>\n",
              "      <td>0.133594</td>\n",
              "    </tr>\n",
              "    <tr>\n",
              "      <th>7</th>\n",
              "      <td></td>\n",
              "      <td>2020-11-10 22:16:25</td>\n",
              "      <td>22.505 sec</td>\n",
              "      <td>19.0</td>\n",
              "      <td>0.315238</td>\n",
              "      <td>0.336132</td>\n",
              "      <td>0.938502</td>\n",
              "      <td>0.974473</td>\n",
              "      <td>1.375735</td>\n",
              "      <td>0.115146</td>\n",
              "      <td>0.324085</td>\n",
              "      <td>0.349369</td>\n",
              "      <td>0.924642</td>\n",
              "      <td>0.968996</td>\n",
              "      <td>1.369614</td>\n",
              "      <td>0.129981</td>\n",
              "    </tr>\n",
              "    <tr>\n",
              "      <th>8</th>\n",
              "      <td></td>\n",
              "      <td>2020-11-10 22:16:30</td>\n",
              "      <td>27.170 sec</td>\n",
              "      <td>23.0</td>\n",
              "      <td>0.305716</td>\n",
              "      <td>0.318107</td>\n",
              "      <td>0.942944</td>\n",
              "      <td>0.976437</td>\n",
              "      <td>1.375735</td>\n",
              "      <td>0.112065</td>\n",
              "      <td>0.316615</td>\n",
              "      <td>0.334181</td>\n",
              "      <td>0.928124</td>\n",
              "      <td>0.970369</td>\n",
              "      <td>1.361787</td>\n",
              "      <td>0.125903</td>\n",
              "    </tr>\n",
              "    <tr>\n",
              "      <th>9</th>\n",
              "      <td></td>\n",
              "      <td>2020-11-10 22:16:34</td>\n",
              "      <td>31.778 sec</td>\n",
              "      <td>27.0</td>\n",
              "      <td>0.297544</td>\n",
              "      <td>0.302613</td>\n",
              "      <td>0.946931</td>\n",
              "      <td>0.978168</td>\n",
              "      <td>1.375735</td>\n",
              "      <td>0.107837</td>\n",
              "      <td>0.310628</td>\n",
              "      <td>0.321773</td>\n",
              "      <td>0.930923</td>\n",
              "      <td>0.971640</td>\n",
              "      <td>1.361651</td>\n",
              "      <td>0.124039</td>\n",
              "    </tr>\n",
              "    <tr>\n",
              "      <th>10</th>\n",
              "      <td></td>\n",
              "      <td>2020-11-10 22:16:39</td>\n",
              "      <td>36.497 sec</td>\n",
              "      <td>31.0</td>\n",
              "      <td>0.290788</td>\n",
              "      <td>0.289996</td>\n",
              "      <td>0.950430</td>\n",
              "      <td>0.979743</td>\n",
              "      <td>1.375735</td>\n",
              "      <td>0.103419</td>\n",
              "      <td>0.306218</td>\n",
              "      <td>0.312534</td>\n",
              "      <td>0.932981</td>\n",
              "      <td>0.972374</td>\n",
              "      <td>1.361742</td>\n",
              "      <td>0.121941</td>\n",
              "    </tr>\n",
              "    <tr>\n",
              "      <th>11</th>\n",
              "      <td></td>\n",
              "      <td>2020-11-10 22:16:44</td>\n",
              "      <td>41.223 sec</td>\n",
              "      <td>35.0</td>\n",
              "      <td>0.284923</td>\n",
              "      <td>0.279007</td>\n",
              "      <td>0.953334</td>\n",
              "      <td>0.981002</td>\n",
              "      <td>1.375735</td>\n",
              "      <td>0.101094</td>\n",
              "      <td>0.301958</td>\n",
              "      <td>0.303785</td>\n",
              "      <td>0.935433</td>\n",
              "      <td>0.973436</td>\n",
              "      <td>1.361742</td>\n",
              "      <td>0.121184</td>\n",
              "    </tr>\n",
              "    <tr>\n",
              "      <th>12</th>\n",
              "      <td></td>\n",
              "      <td>2020-11-10 22:16:48</td>\n",
              "      <td>45.942 sec</td>\n",
              "      <td>39.0</td>\n",
              "      <td>0.279865</td>\n",
              "      <td>0.269601</td>\n",
              "      <td>0.955823</td>\n",
              "      <td>0.982070</td>\n",
              "      <td>1.375735</td>\n",
              "      <td>0.098595</td>\n",
              "      <td>0.298864</td>\n",
              "      <td>0.297132</td>\n",
              "      <td>0.937022</td>\n",
              "      <td>0.974152</td>\n",
              "      <td>1.361651</td>\n",
              "      <td>0.118620</td>\n",
              "    </tr>\n",
              "    <tr>\n",
              "      <th>13</th>\n",
              "      <td></td>\n",
              "      <td>2020-11-10 22:16:53</td>\n",
              "      <td>50.658 sec</td>\n",
              "      <td>43.0</td>\n",
              "      <td>0.275123</td>\n",
              "      <td>0.261205</td>\n",
              "      <td>0.958224</td>\n",
              "      <td>0.983069</td>\n",
              "      <td>1.375735</td>\n",
              "      <td>0.094817</td>\n",
              "      <td>0.295920</td>\n",
              "      <td>0.291319</td>\n",
              "      <td>0.938605</td>\n",
              "      <td>0.974804</td>\n",
              "      <td>1.361651</td>\n",
              "      <td>0.115649</td>\n",
              "    </tr>\n",
              "    <tr>\n",
              "      <th>14</th>\n",
              "      <td></td>\n",
              "      <td>2020-11-10 22:16:59</td>\n",
              "      <td>56.133 sec</td>\n",
              "      <td>47.0</td>\n",
              "      <td>0.270817</td>\n",
              "      <td>0.253527</td>\n",
              "      <td>0.960498</td>\n",
              "      <td>0.984052</td>\n",
              "      <td>1.375735</td>\n",
              "      <td>0.092056</td>\n",
              "      <td>0.293477</td>\n",
              "      <td>0.286149</td>\n",
              "      <td>0.940191</td>\n",
              "      <td>0.975521</td>\n",
              "      <td>1.361787</td>\n",
              "      <td>0.114659</td>\n",
              "    </tr>\n",
              "    <tr>\n",
              "      <th>15</th>\n",
              "      <td></td>\n",
              "      <td>2020-11-10 22:17:03</td>\n",
              "      <td>1 min  0.293 sec</td>\n",
              "      <td>50.0</td>\n",
              "      <td>0.267751</td>\n",
              "      <td>0.248112</td>\n",
              "      <td>0.961976</td>\n",
              "      <td>0.984652</td>\n",
              "      <td>1.375735</td>\n",
              "      <td>0.090603</td>\n",
              "      <td>0.291739</td>\n",
              "      <td>0.282543</td>\n",
              "      <td>0.941125</td>\n",
              "      <td>0.975834</td>\n",
              "      <td>1.361787</td>\n",
              "      <td>0.113668</td>\n",
              "    </tr>\n",
              "    <tr>\n",
              "      <th>16</th>\n",
              "      <td></td>\n",
              "      <td>2020-11-10 22:17:08</td>\n",
              "      <td>1 min  5.252 sec</td>\n",
              "      <td>54.0</td>\n",
              "      <td>0.264257</td>\n",
              "      <td>0.242101</td>\n",
              "      <td>0.963664</td>\n",
              "      <td>0.985362</td>\n",
              "      <td>1.375735</td>\n",
              "      <td>0.088249</td>\n",
              "      <td>0.289966</td>\n",
              "      <td>0.278864</td>\n",
              "      <td>0.942154</td>\n",
              "      <td>0.976349</td>\n",
              "      <td>1.361697</td>\n",
              "      <td>0.112619</td>\n",
              "    </tr>\n",
              "    <tr>\n",
              "      <th>17</th>\n",
              "      <td></td>\n",
              "      <td>2020-11-10 22:17:12</td>\n",
              "      <td>1 min  9.830 sec</td>\n",
              "      <td>58.0</td>\n",
              "      <td>0.260976</td>\n",
              "      <td>0.236429</td>\n",
              "      <td>0.965251</td>\n",
              "      <td>0.986030</td>\n",
              "      <td>1.375735</td>\n",
              "      <td>0.086679</td>\n",
              "      <td>0.288526</td>\n",
              "      <td>0.275718</td>\n",
              "      <td>0.942869</td>\n",
              "      <td>0.976653</td>\n",
              "      <td>1.361651</td>\n",
              "      <td>0.110813</td>\n",
              "    </tr>\n",
              "    <tr>\n",
              "      <th>18</th>\n",
              "      <td></td>\n",
              "      <td>2020-11-10 22:17:17</td>\n",
              "      <td>1 min 14.487 sec</td>\n",
              "      <td>62.0</td>\n",
              "      <td>0.257944</td>\n",
              "      <td>0.231292</td>\n",
              "      <td>0.966687</td>\n",
              "      <td>0.986632</td>\n",
              "      <td>1.375735</td>\n",
              "      <td>0.084543</td>\n",
              "      <td>0.287101</td>\n",
              "      <td>0.272698</td>\n",
              "      <td>0.943728</td>\n",
              "      <td>0.976974</td>\n",
              "      <td>1.361787</td>\n",
              "      <td>0.110755</td>\n",
              "    </tr>\n",
              "    <tr>\n",
              "      <th>19</th>\n",
              "      <td></td>\n",
              "      <td>2020-11-10 22:17:22</td>\n",
              "      <td>1 min 19.163 sec</td>\n",
              "      <td>66.0</td>\n",
              "      <td>0.254922</td>\n",
              "      <td>0.226346</td>\n",
              "      <td>0.968136</td>\n",
              "      <td>0.987241</td>\n",
              "      <td>1.375735</td>\n",
              "      <td>0.082509</td>\n",
              "      <td>0.285733</td>\n",
              "      <td>0.270035</td>\n",
              "      <td>0.944503</td>\n",
              "      <td>0.977323</td>\n",
              "      <td>1.361697</td>\n",
              "      <td>0.109299</td>\n",
              "    </tr>\n",
              "    <tr>\n",
              "      <th>20</th>\n",
              "      <td></td>\n",
              "      <td>2020-11-10 22:17:26</td>\n",
              "      <td>1 min 23.827 sec</td>\n",
              "      <td>70.0</td>\n",
              "      <td>0.252063</td>\n",
              "      <td>0.221680</td>\n",
              "      <td>0.969424</td>\n",
              "      <td>0.987769</td>\n",
              "      <td>1.375735</td>\n",
              "      <td>0.080867</td>\n",
              "      <td>0.284423</td>\n",
              "      <td>0.267475</td>\n",
              "      <td>0.945187</td>\n",
              "      <td>0.977575</td>\n",
              "      <td>1.361651</td>\n",
              "      <td>0.108308</td>\n",
              "    </tr>\n",
              "    <tr>\n",
              "      <th>21</th>\n",
              "      <td></td>\n",
              "      <td>2020-11-10 22:17:31</td>\n",
              "      <td>1 min 28.391 sec</td>\n",
              "      <td>74.0</td>\n",
              "      <td>0.249496</td>\n",
              "      <td>0.217613</td>\n",
              "      <td>0.970565</td>\n",
              "      <td>0.988216</td>\n",
              "      <td>1.375735</td>\n",
              "      <td>0.078498</td>\n",
              "      <td>0.283225</td>\n",
              "      <td>0.265194</td>\n",
              "      <td>0.945959</td>\n",
              "      <td>0.977946</td>\n",
              "      <td>1.361651</td>\n",
              "      <td>0.108366</td>\n",
              "    </tr>\n",
              "    <tr>\n",
              "      <th>22</th>\n",
              "      <td></td>\n",
              "      <td>2020-11-10 22:17:36</td>\n",
              "      <td>1 min 33.064 sec</td>\n",
              "      <td>78.0</td>\n",
              "      <td>0.246881</td>\n",
              "      <td>0.213509</td>\n",
              "      <td>0.971695</td>\n",
              "      <td>0.988668</td>\n",
              "      <td>1.375735</td>\n",
              "      <td>0.076827</td>\n",
              "      <td>0.282228</td>\n",
              "      <td>0.263205</td>\n",
              "      <td>0.946546</td>\n",
              "      <td>0.978215</td>\n",
              "      <td>1.361876</td>\n",
              "      <td>0.107376</td>\n",
              "    </tr>\n",
              "    <tr>\n",
              "      <th>23</th>\n",
              "      <td></td>\n",
              "      <td>2020-11-10 22:17:40</td>\n",
              "      <td>1 min 37.704 sec</td>\n",
              "      <td>82.0</td>\n",
              "      <td>0.244632</td>\n",
              "      <td>0.209896</td>\n",
              "      <td>0.972666</td>\n",
              "      <td>0.989070</td>\n",
              "      <td>1.375735</td>\n",
              "      <td>0.075301</td>\n",
              "      <td>0.281246</td>\n",
              "      <td>0.261296</td>\n",
              "      <td>0.947130</td>\n",
              "      <td>0.978472</td>\n",
              "      <td>1.361651</td>\n",
              "      <td>0.106910</td>\n",
              "    </tr>\n",
              "    <tr>\n",
              "      <th>24</th>\n",
              "      <td></td>\n",
              "      <td>2020-11-10 22:17:45</td>\n",
              "      <td>1 min 42.302 sec</td>\n",
              "      <td>86.0</td>\n",
              "      <td>0.242109</td>\n",
              "      <td>0.205992</td>\n",
              "      <td>0.973715</td>\n",
              "      <td>0.989489</td>\n",
              "      <td>1.375735</td>\n",
              "      <td>0.073703</td>\n",
              "      <td>0.280257</td>\n",
              "      <td>0.259377</td>\n",
              "      <td>0.947684</td>\n",
              "      <td>0.978677</td>\n",
              "      <td>1.361651</td>\n",
              "      <td>0.106502</td>\n",
              "    </tr>\n",
              "    <tr>\n",
              "      <th>25</th>\n",
              "      <td></td>\n",
              "      <td>2020-11-10 22:17:49</td>\n",
              "      <td>1 min 46.999 sec</td>\n",
              "      <td>90.0</td>\n",
              "      <td>0.239955</td>\n",
              "      <td>0.202705</td>\n",
              "      <td>0.974632</td>\n",
              "      <td>0.989872</td>\n",
              "      <td>1.375735</td>\n",
              "      <td>0.072003</td>\n",
              "      <td>0.279525</td>\n",
              "      <td>0.257939</td>\n",
              "      <td>0.948074</td>\n",
              "      <td>0.978830</td>\n",
              "      <td>1.361651</td>\n",
              "      <td>0.105278</td>\n",
              "    </tr>\n",
              "    <tr>\n",
              "      <th>26</th>\n",
              "      <td></td>\n",
              "      <td>2020-11-10 22:17:54</td>\n",
              "      <td>1 min 51.702 sec</td>\n",
              "      <td>94.0</td>\n",
              "      <td>0.237776</td>\n",
              "      <td>0.199431</td>\n",
              "      <td>0.975559</td>\n",
              "      <td>0.990257</td>\n",
              "      <td>1.375735</td>\n",
              "      <td>0.070143</td>\n",
              "      <td>0.278692</td>\n",
              "      <td>0.256401</td>\n",
              "      <td>0.948574</td>\n",
              "      <td>0.979061</td>\n",
              "      <td>1.361651</td>\n",
              "      <td>0.104987</td>\n",
              "    </tr>\n",
              "    <tr>\n",
              "      <th>27</th>\n",
              "      <td></td>\n",
              "      <td>2020-11-10 22:17:59</td>\n",
              "      <td>1 min 56.258 sec</td>\n",
              "      <td>98.0</td>\n",
              "      <td>0.235506</td>\n",
              "      <td>0.196076</td>\n",
              "      <td>0.976463</td>\n",
              "      <td>0.990626</td>\n",
              "      <td>1.375735</td>\n",
              "      <td>0.068980</td>\n",
              "      <td>0.277907</td>\n",
              "      <td>0.254886</td>\n",
              "      <td>0.949035</td>\n",
              "      <td>0.979216</td>\n",
              "      <td>1.361651</td>\n",
              "      <td>0.104754</td>\n",
              "    </tr>\n",
              "    <tr>\n",
              "      <th>28</th>\n",
              "      <td></td>\n",
              "      <td>2020-11-10 22:18:01</td>\n",
              "      <td>1 min 58.678 sec</td>\n",
              "      <td>100.0</td>\n",
              "      <td>0.234414</td>\n",
              "      <td>0.194460</td>\n",
              "      <td>0.976881</td>\n",
              "      <td>0.990798</td>\n",
              "      <td>1.375735</td>\n",
              "      <td>0.068268</td>\n",
              "      <td>0.277613</td>\n",
              "      <td>0.254297</td>\n",
              "      <td>0.949183</td>\n",
              "      <td>0.979269</td>\n",
              "      <td>1.361651</td>\n",
              "      <td>0.103705</td>\n",
              "    </tr>\n",
              "  </tbody>\n",
              "</table>\n",
              "</div>"
            ],
            "text/plain": [
              "                timestamp  ... validation_lift  validation_classification_error\n",
              "0     2020-11-10 22:16:03  ...        1.000000                         0.269867\n",
              "1     2020-11-10 22:16:04  ...        1.364146                         0.195642\n",
              "2     2020-11-10 22:16:05  ...        1.364120                         0.184805\n",
              "3     2020-11-10 22:16:06  ...        1.365103                         0.164938\n",
              "4     2020-11-10 22:16:11  ...        1.367704                         0.150431\n",
              "5     2020-11-10 22:16:16  ...        1.369614                         0.141168\n",
              "6     2020-11-10 22:16:20  ...        1.362170                         0.133594\n",
              "7     2020-11-10 22:16:25  ...        1.369614                         0.129981\n",
              "8     2020-11-10 22:16:30  ...        1.361787                         0.125903\n",
              "9     2020-11-10 22:16:34  ...        1.361651                         0.124039\n",
              "10    2020-11-10 22:16:39  ...        1.361742                         0.121941\n",
              "11    2020-11-10 22:16:44  ...        1.361742                         0.121184\n",
              "12    2020-11-10 22:16:48  ...        1.361651                         0.118620\n",
              "13    2020-11-10 22:16:53  ...        1.361651                         0.115649\n",
              "14    2020-11-10 22:16:59  ...        1.361787                         0.114659\n",
              "15    2020-11-10 22:17:03  ...        1.361787                         0.113668\n",
              "16    2020-11-10 22:17:08  ...        1.361697                         0.112619\n",
              "17    2020-11-10 22:17:12  ...        1.361651                         0.110813\n",
              "18    2020-11-10 22:17:17  ...        1.361787                         0.110755\n",
              "19    2020-11-10 22:17:22  ...        1.361697                         0.109299\n",
              "20    2020-11-10 22:17:26  ...        1.361651                         0.108308\n",
              "21    2020-11-10 22:17:31  ...        1.361651                         0.108366\n",
              "22    2020-11-10 22:17:36  ...        1.361876                         0.107376\n",
              "23    2020-11-10 22:17:40  ...        1.361651                         0.106910\n",
              "24    2020-11-10 22:17:45  ...        1.361651                         0.106502\n",
              "25    2020-11-10 22:17:49  ...        1.361651                         0.105278\n",
              "26    2020-11-10 22:17:54  ...        1.361651                         0.104987\n",
              "27    2020-11-10 22:17:59  ...        1.361651                         0.104754\n",
              "28    2020-11-10 22:18:01  ...        1.361651                         0.103705\n",
              "\n",
              "[29 rows x 16 columns]"
            ]
          },
          "metadata": {
            "tags": []
          },
          "execution_count": 111
        }
      ]
    },
    {
      "cell_type": "code",
      "metadata": {
        "id": "WOiw5vDGPmnJ"
      },
      "source": [
        "############## TRY With XGBoost ########\n",
        "### instantiate XGBBoostEstimator\n",
        "xgb_all_cols_model = H2OXGBoostEstimator(ntrees=100,\n",
        "                                         learn_rate=0.1,\n",
        "                                         max_leaves=6,\n",
        "                                         tree_method='hist',\n",
        "                                         grow_policy='lossguide')"
      ],
      "execution_count": 112,
      "outputs": []
    },
    {
      "cell_type": "code",
      "metadata": {
        "id": "Z_8b0gIgQd4E",
        "outputId": "faa6bffc-21d9-4ce1-b230-3ebfae2fa45f",
        "colab": {
          "base_uri": "https://localhost:8080/"
        }
      },
      "source": [
        "### train with XGBoost\n",
        "xgb_all_cols_model.train(x=headline_vectors.names+review_vectors.names+['votes'], y='target', training_frame=h2o_train, validation_frame=h2o_valid)"
      ],
      "execution_count": 113,
      "outputs": [
        {
          "output_type": "stream",
          "text": [
            "xgboost Model Build progress: |███████████████████████████████████████████| 100%\n"
          ],
          "name": "stdout"
        }
      ]
    },
    {
      "cell_type": "code",
      "metadata": {
        "id": "xKr6KOYnQuOB",
        "outputId": "f93db792-e0b8-49d9-f1cb-627e307fed7a",
        "colab": {
          "base_uri": "https://localhost:8080/"
        }
      },
      "source": [
        "print('XGBoost AUC: '+ str(round(xgb_all_cols_model.auc(valid=True),3)))"
      ],
      "execution_count": 115,
      "outputs": [
        {
          "output_type": "stream",
          "text": [
            "XGBoost AUC: 0.936\n"
          ],
          "name": "stdout"
        }
      ]
    },
    {
      "cell_type": "code",
      "metadata": {
        "id": "iOzNSBewQ9yQ",
        "outputId": "0f0d2d48-f309-4b43-b105-743e2606da07",
        "colab": {
          "base_uri": "https://localhost:8080/",
          "height": 173
        }
      },
      "source": [
        "xgb_all_cols_model.confusion_matrix(valid=True)"
      ],
      "execution_count": 116,
      "outputs": [
        {
          "output_type": "stream",
          "text": [
            "\n",
            "Confusion Matrix (Act/Pred) for max f1 @ threshold = 0.549437007483314: \n"
          ],
          "name": "stdout"
        },
        {
          "output_type": "display_data",
          "data": {
            "text/html": [
              "<div>\n",
              "<style scoped>\n",
              "    .dataframe tbody tr th:only-of-type {\n",
              "        vertical-align: middle;\n",
              "    }\n",
              "\n",
              "    .dataframe tbody tr th {\n",
              "        vertical-align: top;\n",
              "    }\n",
              "\n",
              "    .dataframe thead th {\n",
              "        text-align: right;\n",
              "    }\n",
              "</style>\n",
              "<table border=\"1\" class=\"dataframe\">\n",
              "  <thead>\n",
              "    <tr style=\"text-align: right;\">\n",
              "      <th></th>\n",
              "      <th></th>\n",
              "      <th>0</th>\n",
              "      <th>1</th>\n",
              "      <th>Error</th>\n",
              "      <th>Rate</th>\n",
              "    </tr>\n",
              "  </thead>\n",
              "  <tbody>\n",
              "    <tr>\n",
              "      <th>0</th>\n",
              "      <td>0</td>\n",
              "      <td>3318.0</td>\n",
              "      <td>1314.0</td>\n",
              "      <td>0.2837</td>\n",
              "      <td>(1314.0/4632.0)</td>\n",
              "    </tr>\n",
              "    <tr>\n",
              "      <th>1</th>\n",
              "      <td>1</td>\n",
              "      <td>729.0</td>\n",
              "      <td>11803.0</td>\n",
              "      <td>0.0582</td>\n",
              "      <td>(729.0/12532.0)</td>\n",
              "    </tr>\n",
              "    <tr>\n",
              "      <th>2</th>\n",
              "      <td>Total</td>\n",
              "      <td>4047.0</td>\n",
              "      <td>13117.0</td>\n",
              "      <td>0.119</td>\n",
              "      <td>(2043.0/17164.0)</td>\n",
              "    </tr>\n",
              "  </tbody>\n",
              "</table>\n",
              "</div>"
            ],
            "text/plain": [
              "               0        1   Error               Rate\n",
              "0      0  3318.0   1314.0  0.2837    (1314.0/4632.0)\n",
              "1      1   729.0  11803.0  0.0582    (729.0/12532.0)\n",
              "2  Total  4047.0  13117.0   0.119   (2043.0/17164.0)"
            ]
          },
          "metadata": {
            "tags": []
          }
        },
        {
          "output_type": "execute_result",
          "data": {
            "text/plain": [
              ""
            ]
          },
          "metadata": {
            "tags": []
          },
          "execution_count": 116
        }
      ]
    },
    {
      "cell_type": "code",
      "metadata": {
        "id": "Udy7SxNcRHqd"
      },
      "source": [
        "##### Split datastets into 3 train, test and validation\n",
        "h2o_train, h2o_valid, h2o_test = h2o_extended_with_headline_df.split_frame([.7,.15])"
      ],
      "execution_count": 117,
      "outputs": []
    },
    {
      "cell_type": "code",
      "metadata": {
        "id": "l-Xt49cNRd8q"
      },
      "source": [
        "### instantiate GBMBoostEstimator\n",
        "gbm_final_model = H2OGradientBoostingEstimator(ntrees=200,\n",
        "                                         learn_rate=0.1,\n",
        "                                         max_depth=6)"
      ],
      "execution_count": 119,
      "outputs": []
    },
    {
      "cell_type": "code",
      "metadata": {
        "id": "ZjhNVtRhSf8I",
        "outputId": "545cd1e9-4dea-472e-b194-60d525fa35df",
        "colab": {
          "base_uri": "https://localhost:8080/"
        }
      },
      "source": [
        "gbm_final_model.train(x=headline_vectors.names+review_vectors.names+['votes'], y='target', training_frame=h2o_train, validation_frame=h2o_valid)"
      ],
      "execution_count": 120,
      "outputs": [
        {
          "output_type": "stream",
          "text": [
            "gbm Model Build progress: |███████████████████████████████████████████████| 100%\n"
          ],
          "name": "stdout"
        }
      ]
    },
    {
      "cell_type": "code",
      "metadata": {
        "id": "rwTNIrmSS65C",
        "outputId": "39c8feb5-fb6d-41e4-b16a-521d9aef96cb",
        "colab": {
          "base_uri": "https://localhost:8080/"
        }
      },
      "source": [
        "print('GBM Final model with 200 trees has AUC: '+ str(round(gbm_final_model.auc(valid=True),3)))"
      ],
      "execution_count": 121,
      "outputs": [
        {
          "output_type": "stream",
          "text": [
            "GBM Final model with 200 trees has AUC: 0.953\n"
          ],
          "name": "stdout"
        }
      ]
    },
    {
      "cell_type": "code",
      "metadata": {
        "id": "DV0-nX6_TBZk",
        "outputId": "ed75f224-c2e3-4c78-877e-c55b019e5e52",
        "colab": {
          "base_uri": "https://localhost:8080/",
          "height": 173
        }
      },
      "source": [
        "gbm_final_model.confusion_matrix(valid=True)"
      ],
      "execution_count": 122,
      "outputs": [
        {
          "output_type": "stream",
          "text": [
            "\n",
            "Confusion Matrix (Act/Pred) for max f1 @ threshold = 0.5248070496106263: \n"
          ],
          "name": "stdout"
        },
        {
          "output_type": "display_data",
          "data": {
            "text/html": [
              "<div>\n",
              "<style scoped>\n",
              "    .dataframe tbody tr th:only-of-type {\n",
              "        vertical-align: middle;\n",
              "    }\n",
              "\n",
              "    .dataframe tbody tr th {\n",
              "        vertical-align: top;\n",
              "    }\n",
              "\n",
              "    .dataframe thead th {\n",
              "        text-align: right;\n",
              "    }\n",
              "</style>\n",
              "<table border=\"1\" class=\"dataframe\">\n",
              "  <thead>\n",
              "    <tr style=\"text-align: right;\">\n",
              "      <th></th>\n",
              "      <th></th>\n",
              "      <th>0</th>\n",
              "      <th>1</th>\n",
              "      <th>Error</th>\n",
              "      <th>Rate</th>\n",
              "    </tr>\n",
              "  </thead>\n",
              "  <tbody>\n",
              "    <tr>\n",
              "      <th>0</th>\n",
              "      <td>0</td>\n",
              "      <td>2743.0</td>\n",
              "      <td>826.0</td>\n",
              "      <td>0.2314</td>\n",
              "      <td>(826.0/3569.0)</td>\n",
              "    </tr>\n",
              "    <tr>\n",
              "      <th>1</th>\n",
              "      <td>1</td>\n",
              "      <td>461.0</td>\n",
              "      <td>8797.0</td>\n",
              "      <td>0.0498</td>\n",
              "      <td>(461.0/9258.0)</td>\n",
              "    </tr>\n",
              "    <tr>\n",
              "      <th>2</th>\n",
              "      <td>Total</td>\n",
              "      <td>3204.0</td>\n",
              "      <td>9623.0</td>\n",
              "      <td>0.1003</td>\n",
              "      <td>(1287.0/12827.0)</td>\n",
              "    </tr>\n",
              "  </tbody>\n",
              "</table>\n",
              "</div>"
            ],
            "text/plain": [
              "               0       1   Error               Rate\n",
              "0      0  2743.0   826.0  0.2314     (826.0/3569.0)\n",
              "1      1   461.0  8797.0  0.0498     (461.0/9258.0)\n",
              "2  Total  3204.0  9623.0  0.1003   (1287.0/12827.0)"
            ]
          },
          "metadata": {
            "tags": []
          }
        },
        {
          "output_type": "execute_result",
          "data": {
            "text/plain": [
              ""
            ]
          },
          "metadata": {
            "tags": []
          },
          "execution_count": 122
        }
      ]
    },
    {
      "cell_type": "code",
      "metadata": {
        "id": "46O62IAETx-s",
        "outputId": "fc4a6f09-9502-4ba5-cfa9-18fb514cbdf7",
        "colab": {
          "base_uri": "https://localhost:8080/",
          "height": 612
        }
      },
      "source": [
        "gbm_final_model.varimp_plot()"
      ],
      "execution_count": 123,
      "outputs": [
        {
          "output_type": "display_data",
          "data": {
            "image/png": "[encoded data removed]",
            "text/plain": [
              "<Figure size 1008x720 with 1 Axes>"
            ]
          },
          "metadata": {
            "tags": [],
            "needs_background": "light"
          }
        }
      ]
    },
    {
      "cell_type": "code",
      "metadata": {
        "id": "_ZX4_iaDT6ub",
        "outputId": "b37e6617-9612-4844-9abe-9299cdc0d6e5",
        "colab": {
          "base_uri": "https://localhost:8080/",
          "height": 1000
        }
      },
      "source": [
        "### let pass the test dataset and validta ethe performance of the model..\n",
        "####using h2o_test dataset for prediction\n",
        "\n",
        "gbm_final_model.model_performance(h2o_test)"
      ],
      "execution_count": 124,
      "outputs": [
        {
          "output_type": "stream",
          "text": [
            "\n",
            "ModelMetricsBinomial: gbm\n",
            "** Reported on test data. **\n",
            "\n",
            "MSE: 0.07353849608222893\n",
            "RMSE: 0.2711798224098337\n",
            "LogLoss: 0.24132762524423856\n",
            "Mean Per-Class Error: 0.1150489348282413\n",
            "AUC: 0.9534010425682885\n",
            "AUCPR: 0.9809029904155278\n",
            "Gini: 0.906802085136577\n",
            "\n",
            "Confusion Matrix (Act/Pred) for max f1 @ threshold = 0.4603863340679368: \n"
          ],
          "name": "stdout"
        },
        {
          "output_type": "display_data",
          "data": {
            "text/html": [
              "<div>\n",
              "<style scoped>\n",
              "    .dataframe tbody tr th:only-of-type {\n",
              "        vertical-align: middle;\n",
              "    }\n",
              "\n",
              "    .dataframe tbody tr th {\n",
              "        vertical-align: top;\n",
              "    }\n",
              "\n",
              "    .dataframe thead th {\n",
              "        text-align: right;\n",
              "    }\n",
              "</style>\n",
              "<table border=\"1\" class=\"dataframe\">\n",
              "  <thead>\n",
              "    <tr style=\"text-align: right;\">\n",
              "      <th></th>\n",
              "      <th></th>\n",
              "      <th>0</th>\n",
              "      <th>1</th>\n",
              "      <th>Error</th>\n",
              "      <th>Rate</th>\n",
              "    </tr>\n",
              "  </thead>\n",
              "  <tbody>\n",
              "    <tr>\n",
              "      <th>0</th>\n",
              "      <td>0</td>\n",
              "      <td>2605.0</td>\n",
              "      <td>949.0</td>\n",
              "      <td>0.267</td>\n",
              "      <td>(949.0/3554.0)</td>\n",
              "    </tr>\n",
              "    <tr>\n",
              "      <th>1</th>\n",
              "      <td>1</td>\n",
              "      <td>382.0</td>\n",
              "      <td>9055.0</td>\n",
              "      <td>0.0405</td>\n",
              "      <td>(382.0/9437.0)</td>\n",
              "    </tr>\n",
              "    <tr>\n",
              "      <th>2</th>\n",
              "      <td>Total</td>\n",
              "      <td>2987.0</td>\n",
              "      <td>10004.0</td>\n",
              "      <td>0.1025</td>\n",
              "      <td>(1331.0/12991.0)</td>\n",
              "    </tr>\n",
              "  </tbody>\n",
              "</table>\n",
              "</div>"
            ],
            "text/plain": [
              "               0        1   Error               Rate\n",
              "0      0  2605.0    949.0   0.267     (949.0/3554.0)\n",
              "1      1   382.0   9055.0  0.0405     (382.0/9437.0)\n",
              "2  Total  2987.0  10004.0  0.1025   (1331.0/12991.0)"
            ]
          },
          "metadata": {
            "tags": []
          }
        },
        {
          "output_type": "stream",
          "text": [
            "\n",
            "Maximum Metrics: Maximum metrics at their respective thresholds\n"
          ],
          "name": "stdout"
        },
        {
          "output_type": "display_data",
          "data": {
            "text/html": [
              "<div>\n",
              "<style scoped>\n",
              "    .dataframe tbody tr th:only-of-type {\n",
              "        vertical-align: middle;\n",
              "    }\n",
              "\n",
              "    .dataframe tbody tr th {\n",
              "        vertical-align: top;\n",
              "    }\n",
              "\n",
              "    .dataframe thead th {\n",
              "        text-align: right;\n",
              "    }\n",
              "</style>\n",
              "<table border=\"1\" class=\"dataframe\">\n",
              "  <thead>\n",
              "    <tr style=\"text-align: right;\">\n",
              "      <th></th>\n",
              "      <th>metric</th>\n",
              "      <th>threshold</th>\n",
              "      <th>value</th>\n",
              "      <th>idx</th>\n",
              "    </tr>\n",
              "  </thead>\n",
              "  <tbody>\n",
              "    <tr>\n",
              "      <th>0</th>\n",
              "      <td>max f1</td>\n",
              "      <td>0.460386</td>\n",
              "      <td>0.931536</td>\n",
              "      <td>241.0</td>\n",
              "    </tr>\n",
              "    <tr>\n",
              "      <th>1</th>\n",
              "      <td>max f2</td>\n",
              "      <td>0.192732</td>\n",
              "      <td>0.957226</td>\n",
              "      <td>320.0</td>\n",
              "    </tr>\n",
              "    <tr>\n",
              "      <th>2</th>\n",
              "      <td>max f0point5</td>\n",
              "      <td>0.771758</td>\n",
              "      <td>0.939185</td>\n",
              "      <td>141.0</td>\n",
              "    </tr>\n",
              "    <tr>\n",
              "      <th>3</th>\n",
              "      <td>max accuracy</td>\n",
              "      <td>0.615438</td>\n",
              "      <td>0.899084</td>\n",
              "      <td>193.0</td>\n",
              "    </tr>\n",
              "    <tr>\n",
              "      <th>4</th>\n",
              "      <td>max precision</td>\n",
              "      <td>0.998461</td>\n",
              "      <td>1.000000</td>\n",
              "      <td>0.0</td>\n",
              "    </tr>\n",
              "    <tr>\n",
              "      <th>5</th>\n",
              "      <td>max recall</td>\n",
              "      <td>0.008948</td>\n",
              "      <td>1.000000</td>\n",
              "      <td>393.0</td>\n",
              "    </tr>\n",
              "    <tr>\n",
              "      <th>6</th>\n",
              "      <td>max specificity</td>\n",
              "      <td>0.998461</td>\n",
              "      <td>1.000000</td>\n",
              "      <td>0.0</td>\n",
              "    </tr>\n",
              "    <tr>\n",
              "      <th>7</th>\n",
              "      <td>max absolute_mcc</td>\n",
              "      <td>0.645428</td>\n",
              "      <td>0.746755</td>\n",
              "      <td>184.0</td>\n",
              "    </tr>\n",
              "    <tr>\n",
              "      <th>8</th>\n",
              "      <td>max min_per_class_accuracy</td>\n",
              "      <td>0.751987</td>\n",
              "      <td>0.883230</td>\n",
              "      <td>149.0</td>\n",
              "    </tr>\n",
              "    <tr>\n",
              "      <th>9</th>\n",
              "      <td>max mean_per_class_accuracy</td>\n",
              "      <td>0.771758</td>\n",
              "      <td>0.884951</td>\n",
              "      <td>141.0</td>\n",
              "    </tr>\n",
              "    <tr>\n",
              "      <th>10</th>\n",
              "      <td>max tns</td>\n",
              "      <td>0.998461</td>\n",
              "      <td>3554.000000</td>\n",
              "      <td>0.0</td>\n",
              "    </tr>\n",
              "    <tr>\n",
              "      <th>11</th>\n",
              "      <td>max fns</td>\n",
              "      <td>0.998461</td>\n",
              "      <td>9311.000000</td>\n",
              "      <td>0.0</td>\n",
              "    </tr>\n",
              "    <tr>\n",
              "      <th>12</th>\n",
              "      <td>max fps</td>\n",
              "      <td>0.001865</td>\n",
              "      <td>3554.000000</td>\n",
              "      <td>399.0</td>\n",
              "    </tr>\n",
              "    <tr>\n",
              "      <th>13</th>\n",
              "      <td>max tps</td>\n",
              "      <td>0.008948</td>\n",
              "      <td>9437.000000</td>\n",
              "      <td>393.0</td>\n",
              "    </tr>\n",
              "    <tr>\n",
              "      <th>14</th>\n",
              "      <td>max tnr</td>\n",
              "      <td>0.998461</td>\n",
              "      <td>1.000000</td>\n",
              "      <td>0.0</td>\n",
              "    </tr>\n",
              "    <tr>\n",
              "      <th>15</th>\n",
              "      <td>max fnr</td>\n",
              "      <td>0.998461</td>\n",
              "      <td>0.986648</td>\n",
              "      <td>0.0</td>\n",
              "    </tr>\n",
              "    <tr>\n",
              "      <th>16</th>\n",
              "      <td>max fpr</td>\n",
              "      <td>0.001865</td>\n",
              "      <td>1.000000</td>\n",
              "      <td>399.0</td>\n",
              "    </tr>\n",
              "    <tr>\n",
              "      <th>17</th>\n",
              "      <td>max tpr</td>\n",
              "      <td>0.008948</td>\n",
              "      <td>1.000000</td>\n",
              "      <td>393.0</td>\n",
              "    </tr>\n",
              "  </tbody>\n",
              "</table>\n",
              "</div>"
            ],
            "text/plain": [
              "                         metric  threshold        value    idx\n",
              "0                        max f1   0.460386     0.931536  241.0\n",
              "1                        max f2   0.192732     0.957226  320.0\n",
              "2                  max f0point5   0.771758     0.939185  141.0\n",
              "3                  max accuracy   0.615438     0.899084  193.0\n",
              "4                 max precision   0.998461     1.000000    0.0\n",
              "5                    max recall   0.008948     1.000000  393.0\n",
              "6               max specificity   0.998461     1.000000    0.0\n",
              "7              max absolute_mcc   0.645428     0.746755  184.0\n",
              "8    max min_per_class_accuracy   0.751987     0.883230  149.0\n",
              "9   max mean_per_class_accuracy   0.771758     0.884951  141.0\n",
              "10                      max tns   0.998461  3554.000000    0.0\n",
              "11                      max fns   0.998461  9311.000000    0.0\n",
              "12                      max fps   0.001865  3554.000000  399.0\n",
              "13                      max tps   0.008948  9437.000000  393.0\n",
              "14                      max tnr   0.998461     1.000000    0.0\n",
              "15                      max fnr   0.998461     0.986648    0.0\n",
              "16                      max fpr   0.001865     1.000000  399.0\n",
              "17                      max tpr   0.008948     1.000000  393.0"
            ]
          },
          "metadata": {
            "tags": []
          }
        },
        {
          "output_type": "stream",
          "text": [
            "\n",
            "Gains/Lift Table: Avg response rate: 72.64 %, avg score: 73.39 %\n"
          ],
          "name": "stdout"
        },
        {
          "output_type": "display_data",
          "data": {
            "text/html": [
              "<div>\n",
              "<style scoped>\n",
              "    .dataframe tbody tr th:only-of-type {\n",
              "        vertical-align: middle;\n",
              "    }\n",
              "\n",
              "    .dataframe tbody tr th {\n",
              "        vertical-align: top;\n",
              "    }\n",
              "\n",
              "    .dataframe thead th {\n",
              "        text-align: right;\n",
              "    }\n",
              "</style>\n",
              "<table border=\"1\" class=\"dataframe\">\n",
              "  <thead>\n",
              "    <tr style=\"text-align: right;\">\n",
              "      <th></th>\n",
              "      <th></th>\n",
              "      <th>group</th>\n",
              "      <th>cumulative_data_fraction</th>\n",
              "      <th>lower_threshold</th>\n",
              "      <th>lift</th>\n",
              "      <th>cumulative_lift</th>\n",
              "      <th>response_rate</th>\n",
              "      <th>score</th>\n",
              "      <th>cumulative_response_rate</th>\n",
              "      <th>cumulative_score</th>\n",
              "      <th>capture_rate</th>\n",
              "      <th>cumulative_capture_rate</th>\n",
              "      <th>gain</th>\n",
              "      <th>cumulative_gain</th>\n",
              "    </tr>\n",
              "  </thead>\n",
              "  <tbody>\n",
              "    <tr>\n",
              "      <th>0</th>\n",
              "      <td></td>\n",
              "      <td>1</td>\n",
              "      <td>0.011162</td>\n",
              "      <td>0.998265</td>\n",
              "      <td>1.376603</td>\n",
              "      <td>1.376603</td>\n",
              "      <td>1.000000</td>\n",
              "      <td>0.998477</td>\n",
              "      <td>1.000000</td>\n",
              "      <td>0.998477</td>\n",
              "      <td>0.015365</td>\n",
              "      <td>0.015365</td>\n",
              "      <td>37.660273</td>\n",
              "      <td>37.660273</td>\n",
              "    </tr>\n",
              "    <tr>\n",
              "      <th>1</th>\n",
              "      <td></td>\n",
              "      <td>2</td>\n",
              "      <td>0.020014</td>\n",
              "      <td>0.998036</td>\n",
              "      <td>1.376603</td>\n",
              "      <td>1.376603</td>\n",
              "      <td>1.000000</td>\n",
              "      <td>0.998152</td>\n",
              "      <td>1.000000</td>\n",
              "      <td>0.998333</td>\n",
              "      <td>0.012186</td>\n",
              "      <td>0.027551</td>\n",
              "      <td>37.660273</td>\n",
              "      <td>37.660273</td>\n",
              "    </tr>\n",
              "    <tr>\n",
              "      <th>2</th>\n",
              "      <td></td>\n",
              "      <td>3</td>\n",
              "      <td>0.030021</td>\n",
              "      <td>0.997803</td>\n",
              "      <td>1.376603</td>\n",
              "      <td>1.376603</td>\n",
              "      <td>1.000000</td>\n",
              "      <td>0.997915</td>\n",
              "      <td>1.000000</td>\n",
              "      <td>0.998194</td>\n",
              "      <td>0.013776</td>\n",
              "      <td>0.041327</td>\n",
              "      <td>37.660273</td>\n",
              "      <td>37.660273</td>\n",
              "    </tr>\n",
              "    <tr>\n",
              "      <th>3</th>\n",
              "      <td></td>\n",
              "      <td>4</td>\n",
              "      <td>0.040028</td>\n",
              "      <td>0.997587</td>\n",
              "      <td>1.376603</td>\n",
              "      <td>1.376603</td>\n",
              "      <td>1.000000</td>\n",
              "      <td>0.997685</td>\n",
              "      <td>1.000000</td>\n",
              "      <td>0.998067</td>\n",
              "      <td>0.013776</td>\n",
              "      <td>0.055102</td>\n",
              "      <td>37.660273</td>\n",
              "      <td>37.660273</td>\n",
              "    </tr>\n",
              "    <tr>\n",
              "      <th>4</th>\n",
              "      <td></td>\n",
              "      <td>5</td>\n",
              "      <td>0.050035</td>\n",
              "      <td>0.997339</td>\n",
              "      <td>1.376603</td>\n",
              "      <td>1.376603</td>\n",
              "      <td>1.000000</td>\n",
              "      <td>0.997451</td>\n",
              "      <td>1.000000</td>\n",
              "      <td>0.997944</td>\n",
              "      <td>0.013776</td>\n",
              "      <td>0.068878</td>\n",
              "      <td>37.660273</td>\n",
              "      <td>37.660273</td>\n",
              "    </tr>\n",
              "    <tr>\n",
              "      <th>5</th>\n",
              "      <td></td>\n",
              "      <td>6</td>\n",
              "      <td>0.100069</td>\n",
              "      <td>0.996153</td>\n",
              "      <td>1.374485</td>\n",
              "      <td>1.375544</td>\n",
              "      <td>0.998462</td>\n",
              "      <td>0.996759</td>\n",
              "      <td>0.999231</td>\n",
              "      <td>0.997351</td>\n",
              "      <td>0.068772</td>\n",
              "      <td>0.137650</td>\n",
              "      <td>37.448488</td>\n",
              "      <td>37.554381</td>\n",
              "    </tr>\n",
              "    <tr>\n",
              "      <th>6</th>\n",
              "      <td></td>\n",
              "      <td>7</td>\n",
              "      <td>0.150027</td>\n",
              "      <td>0.994474</td>\n",
              "      <td>1.372361</td>\n",
              "      <td>1.374484</td>\n",
              "      <td>0.996918</td>\n",
              "      <td>0.995386</td>\n",
              "      <td>0.998461</td>\n",
              "      <td>0.996697</td>\n",
              "      <td>0.068560</td>\n",
              "      <td>0.206210</td>\n",
              "      <td>37.236051</td>\n",
              "      <td>37.448380</td>\n",
              "    </tr>\n",
              "    <tr>\n",
              "      <th>7</th>\n",
              "      <td></td>\n",
              "      <td>8</td>\n",
              "      <td>0.200062</td>\n",
              "      <td>0.992024</td>\n",
              "      <td>1.372367</td>\n",
              "      <td>1.373954</td>\n",
              "      <td>0.996923</td>\n",
              "      <td>0.993298</td>\n",
              "      <td>0.998076</td>\n",
              "      <td>0.995847</td>\n",
              "      <td>0.068666</td>\n",
              "      <td>0.274875</td>\n",
              "      <td>37.236703</td>\n",
              "      <td>37.395440</td>\n",
              "    </tr>\n",
              "    <tr>\n",
              "      <th>8</th>\n",
              "      <td></td>\n",
              "      <td>9</td>\n",
              "      <td>0.300054</td>\n",
              "      <td>0.982958</td>\n",
              "      <td>1.366005</td>\n",
              "      <td>1.371305</td>\n",
              "      <td>0.992302</td>\n",
              "      <td>0.987948</td>\n",
              "      <td>0.996152</td>\n",
              "      <td>0.993215</td>\n",
              "      <td>0.136590</td>\n",
              "      <td>0.411466</td>\n",
              "      <td>36.600533</td>\n",
              "      <td>37.130539</td>\n",
              "    </tr>\n",
              "    <tr>\n",
              "      <th>9</th>\n",
              "      <td></td>\n",
              "      <td>10</td>\n",
              "      <td>0.400046</td>\n",
              "      <td>0.966098</td>\n",
              "      <td>1.351169</td>\n",
              "      <td>1.366272</td>\n",
              "      <td>0.981524</td>\n",
              "      <td>0.975461</td>\n",
              "      <td>0.992496</td>\n",
              "      <td>0.988777</td>\n",
              "      <td>0.135106</td>\n",
              "      <td>0.546572</td>\n",
              "      <td>35.116897</td>\n",
              "      <td>36.627225</td>\n",
              "    </tr>\n",
              "    <tr>\n",
              "      <th>10</th>\n",
              "      <td></td>\n",
              "      <td>11</td>\n",
              "      <td>0.500038</td>\n",
              "      <td>0.932879</td>\n",
              "      <td>1.310899</td>\n",
              "      <td>1.355199</td>\n",
              "      <td>0.952271</td>\n",
              "      <td>0.951238</td>\n",
              "      <td>0.984452</td>\n",
              "      <td>0.981271</td>\n",
              "      <td>0.131080</td>\n",
              "      <td>0.677652</td>\n",
              "      <td>31.089883</td>\n",
              "      <td>35.519927</td>\n",
              "    </tr>\n",
              "    <tr>\n",
              "      <th>11</th>\n",
              "      <td></td>\n",
              "      <td>12</td>\n",
              "      <td>0.600031</td>\n",
              "      <td>0.861338</td>\n",
              "      <td>1.247314</td>\n",
              "      <td>1.337221</td>\n",
              "      <td>0.906082</td>\n",
              "      <td>0.901614</td>\n",
              "      <td>0.971392</td>\n",
              "      <td>0.967996</td>\n",
              "      <td>0.124722</td>\n",
              "      <td>0.802374</td>\n",
              "      <td>24.731441</td>\n",
              "      <td>33.722077</td>\n",
              "    </tr>\n",
              "    <tr>\n",
              "      <th>12</th>\n",
              "      <td></td>\n",
              "      <td>13</td>\n",
              "      <td>0.700023</td>\n",
              "      <td>0.692584</td>\n",
              "      <td>1.058681</td>\n",
              "      <td>1.297434</td>\n",
              "      <td>0.769053</td>\n",
              "      <td>0.788867</td>\n",
              "      <td>0.942490</td>\n",
              "      <td>0.942409</td>\n",
              "      <td>0.105860</td>\n",
              "      <td>0.908234</td>\n",
              "      <td>5.868062</td>\n",
              "      <td>29.743370</td>\n",
              "    </tr>\n",
              "    <tr>\n",
              "      <th>13</th>\n",
              "      <td></td>\n",
              "      <td>14</td>\n",
              "      <td>0.800015</td>\n",
              "      <td>0.352898</td>\n",
              "      <td>0.646442</td>\n",
              "      <td>1.216068</td>\n",
              "      <td>0.469592</td>\n",
              "      <td>0.527309</td>\n",
              "      <td>0.883383</td>\n",
              "      <td>0.890526</td>\n",
              "      <td>0.064639</td>\n",
              "      <td>0.972873</td>\n",
              "      <td>-35.355838</td>\n",
              "      <td>21.606752</td>\n",
              "    </tr>\n",
              "    <tr>\n",
              "      <th>14</th>\n",
              "      <td></td>\n",
              "      <td>15</td>\n",
              "      <td>0.900008</td>\n",
              "      <td>0.070989</td>\n",
              "      <td>0.239501</td>\n",
              "      <td>1.107569</td>\n",
              "      <td>0.173980</td>\n",
              "      <td>0.190247</td>\n",
              "      <td>0.804567</td>\n",
              "      <td>0.812724</td>\n",
              "      <td>0.023948</td>\n",
              "      <td>0.996821</td>\n",
              "      <td>-76.049868</td>\n",
              "      <td>10.756944</td>\n",
              "    </tr>\n",
              "    <tr>\n",
              "      <th>15</th>\n",
              "      <td></td>\n",
              "      <td>16</td>\n",
              "      <td>1.000000</td>\n",
              "      <td>0.000212</td>\n",
              "      <td>0.031792</td>\n",
              "      <td>1.000000</td>\n",
              "      <td>0.023095</td>\n",
              "      <td>0.024276</td>\n",
              "      <td>0.726426</td>\n",
              "      <td>0.733885</td>\n",
              "      <td>0.003179</td>\n",
              "      <td>1.000000</td>\n",
              "      <td>-96.820779</td>\n",
              "      <td>0.000000</td>\n",
              "    </tr>\n",
              "  </tbody>\n",
              "</table>\n",
              "</div>"
            ],
            "text/plain": [
              "      group  ...       gain  cumulative_gain\n",
              "0         1  ...  37.660273        37.660273\n",
              "1         2  ...  37.660273        37.660273\n",
              "2         3  ...  37.660273        37.660273\n",
              "3         4  ...  37.660273        37.660273\n",
              "4         5  ...  37.660273        37.660273\n",
              "5         6  ...  37.448488        37.554381\n",
              "6         7  ...  37.236051        37.448380\n",
              "7         8  ...  37.236703        37.395440\n",
              "8         9  ...  36.600533        37.130539\n",
              "9        10  ...  35.116897        36.627225\n",
              "10       11  ...  31.089883        35.519927\n",
              "11       12  ...  24.731441        33.722077\n",
              "12       13  ...   5.868062        29.743370\n",
              "13       14  ... -35.355838        21.606752\n",
              "14       15  ... -76.049868        10.756944\n",
              "15       16  ... -96.820779         0.000000\n",
              "\n",
              "[16 rows x 14 columns]"
            ]
          },
          "metadata": {
            "tags": []
          }
        },
        {
          "output_type": "stream",
          "text": [
            "\n"
          ],
          "name": "stdout"
        },
        {
          "output_type": "execute_result",
          "data": {
            "text/plain": [
              ""
            ]
          },
          "metadata": {
            "tags": []
          },
          "execution_count": 124
        }
      ]
    }
  ]
}